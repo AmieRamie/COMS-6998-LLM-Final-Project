{
 "cells": [
  {
   "cell_type": "code",
   "execution_count": 240,
   "id": "bd04c54b",
   "metadata": {},
   "outputs": [],
   "source": [
    "from google.cloud import documentai\n",
    "from google.oauth2 import service_account\n",
    "import os\n",
    "import re\n",
    "import requests\n",
    "from PyPDF2 import PdfReader, PdfWriter\n",
    "from bs4 import BeautifulSoup\n",
    "import pdfplumber  # for improved OCR if needed\n",
    "import timeit\n",
    "from collections import defaultdict\n",
    "from typing import Dict, List\n",
    "import tiktoken  # OpenAI's tokenization library\n",
    "import json"
   ]
  },
  {
   "cell_type": "code",
   "execution_count": 64,
   "id": "29520d08",
   "metadata": {},
   "outputs": [],
   "source": [
    "\n",
    "def split_pdf(input_pdf_path,file_name, max_pages=1):\n",
    "    \"\"\"\n",
    "    Split a PDF into smaller chunks of max_pages.\n",
    "    \"\"\"\n",
    "    reader = PdfReader(input_pdf_path)\n",
    "    chunks = []\n",
    "    for i in range(0, len(reader.pages), max_pages):\n",
    "        writer = PdfWriter()\n",
    "        for j in range(i, min(i + max_pages, len(reader.pages))):\n",
    "            writer.add_page(reader.pages[j])\n",
    "        chunk_path = f\"./chunks/chunk_{i // max_pages + 1}_{file_name.split('.')[0]}.pdf\"\n",
    "        with open(chunk_path, \"wb\") as f:\n",
    "            writer.write(f)\n",
    "        chunks.append(chunk_path)\n",
    "    return chunks"
   ]
  },
  {
   "cell_type": "code",
   "execution_count": 65,
   "id": "4c67c1d4",
   "metadata": {},
   "outputs": [],
   "source": [
    "credentials = service_account.Credentials.from_service_account_file('coms-6998-applied-llm-class-4e98f4f7a361.json')\n",
    "client = documentai.DocumentProcessorServiceClient(credentials=credentials)\n"
   ]
  },
  {
   "cell_type": "code",
   "execution_count": 109,
   "id": "45f4964c",
   "metadata": {},
   "outputs": [],
   "source": [
    "all_files_to_extract_data_from = os.listdir('./lecture_pdfs')"
   ]
  },
  {
   "cell_type": "code",
   "execution_count": 110,
   "id": "ab2f1fd7",
   "metadata": {},
   "outputs": [],
   "source": [
    "all_chunks = []\n",
    "for file_name in all_files_to_extract_data_from:\n",
    "    file_directory = \"./lecture_pdfs\"\n",
    "    pdf_path = os.path.join(file_directory, file_name)\n",
    "    chunks = split_pdf(pdf_path,file_name)\n",
    "    all_chunks = all_chunks + chunks"
   ]
  },
  {
   "cell_type": "code",
   "execution_count": 191,
   "id": "6dcfa569",
   "metadata": {},
   "outputs": [],
   "source": [
    "def extract_text_links(text):\n",
    "    links = []\n",
    "    text = text.replace('-\\n',\"\")\n",
    "    page_links = re.findall(r'(https?://\\S+)', text)\n",
    "    links.extend(page_links)\n",
    "    page_links = re.findall(r'(http?://\\S+)', text)\n",
    "    links.extend(page_links)\n",
    "    return links"
   ]
  },
  {
   "cell_type": "code",
   "execution_count": 224,
   "id": "8a89b0ed",
   "metadata": {},
   "outputs": [],
   "source": [
    "def get_document_extraction(file_name,project_id = \"coms-6998-applied-llm-class\",location = \"us\",processor_id = \"398fd74279aa6748\"):\n",
    "    with open(file_name, \"rb\") as f:\n",
    "        content = f.read()\n",
    "    raw_document = documentai.RawDocument(content=content, mime_type=\"application/pdf\")\n",
    "    name = f\"projects/{project_id}/locations/{location}/processors/{processor_id}\"\n",
    "    # Make the request\n",
    "    request = documentai.ProcessRequest(name=name, raw_document=raw_document)\n",
    "    response = client.process_document(request=request)\n",
    "    document = response.document\n",
    "    text = document.text\n",
    "    links = extract_text_links(text)\n",
    "    return text, links"
   ]
  },
  {
   "cell_type": "code",
   "execution_count": 136,
   "id": "5c9020d1",
   "metadata": {},
   "outputs": [],
   "source": [
    "def fetch_and_clean_text(url):\n",
    "    \"\"\"\n",
    "    Fetches and cleans text from the given URL.\n",
    "    :param url: The URL to fetch text from.\n",
    "    :return: Cleaned text or an error message.\n",
    "    \"\"\"\n",
    "    try:\n",
    "        # Make an HTTP GET request\n",
    "        response = requests.get(url, timeout=5)\n",
    "        response.raise_for_status()  # Raise an HTTPError for bad responses (4xx and 5xx)\n",
    "        \n",
    "        # Parse the HTML content\n",
    "        soup = BeautifulSoup(response.text, \"html.parser\")\n",
    "        \n",
    "        # Extract the main text content\n",
    "        # We can focus on specific tags (e.g., <p>, <div>) or use the whole text\n",
    "        text_elements = soup.find_all([\"p\", \"div\"])\n",
    "        text = \" \".join(element.get_text() for element in text_elements)\n",
    "        \n",
    "        # Clean the text\n",
    "        text = re.sub(r'\\s+', ' ', text)  # Remove extra whitespace\n",
    "        text = text.strip()  # Remove leading/trailing whitespace\n",
    "        \n",
    "        # Handle empty text scenario\n",
    "        if not text:\n",
    "            return f\"Error: No extractable text found at {url}\"\n",
    "        return text\n",
    "    \n",
    "    except requests.exceptions.RequestException as e:\n",
    "        # Handle HTTP and connection errors\n",
    "        return f\"Error: Unable to fetch content from {url}. Exception: {e}\"\n",
    "    except Exception as e:\n",
    "        # Handle other unexpected errors\n",
    "        return f\"Error: Unexpected error while processing {url}. Exception: {e}\""
   ]
  },
  {
   "cell_type": "code",
   "execution_count": 137,
   "id": "40e1452b",
   "metadata": {},
   "outputs": [],
   "source": [
    "def process_links(links):\n",
    "    \"\"\"\n",
    "    Processes a list of links, extracting and cleaning text content.\n",
    "    :param links: List of URLs.\n",
    "    :return: Dictionary with URLs as keys and cleaned text (or error messages) as values.\n",
    "    \"\"\"\n",
    "    results = {}\n",
    "    for url in links:\n",
    "        print(f\"Processing: {url}\")\n",
    "        text = fetch_and_clean_text(url)\n",
    "        results[url] = text\n",
    "    return results"
   ]
  },
  {
   "cell_type": "code",
   "execution_count": 208,
   "id": "76259be2",
   "metadata": {},
   "outputs": [],
   "source": [
    "all_texts_with_links = [value['text'] for key,value in all_data.items() if len(value['links'])>0]"
   ]
  },
  {
   "cell_type": "code",
   "execution_count": 130,
   "id": "0e6f7c4e",
   "metadata": {},
   "outputs": [
    {
     "name": "stdout",
     "output_type": "stream",
     "text": [
      "45 6.449538166999446 ./chunks/chunk_46_Lecture-12-Columbia.pdf\n",
      "50 7.764267583000219 ./chunks/chunk_51_Lecture-12-Columbia.pdf\n",
      "55 7.30011899999954 ./chunks/chunk_56_Lecture-12-Columbia.pdf\n",
      "60 8.476970249999795 ./chunks/chunk_61_Lecture-12-Columbia.pdf\n",
      "65 8.502008792000197 ./chunks/chunk_66_Lecture-12-Columbia.pdf\n",
      "70 8.57982845800052 ./chunks/chunk_71_Lecture-12-Columbia.pdf\n",
      "75 7.840684208000312 ./chunks/chunk_76_Lecture-12-Columbia.pdf\n",
      "80 7.657551166999838 ./chunks/chunk_81_Lecture-12-Columbia.pdf\n",
      "85 7.173694291999709 ./chunks/chunk_86_Lecture-12-Columbia.pdf\n",
      "90 8.033632041000601 ./chunks/chunk_91_Lecture-12-Columbia.pdf\n",
      "95 8.131241334000151 ./chunks/chunk_96_Lecture-12-Columbia.pdf\n",
      "100 8.513085292000142 ./chunks/chunk_101_Lecture-12-Columbia.pdf\n",
      "105 7.703719500000261 ./chunks/chunk_106_Lecture-12-Columbia.pdf\n",
      "110 9.373608582999623 ./chunks/chunk_111_Lecture-12-Columbia.pdf\n",
      "115 8.92286362499999 ./chunks/chunk_116_Lecture-12-Columbia.pdf\n",
      "120 7.5701725419994546 ./chunks/chunk_121_Lecture-12-Columbia.pdf\n",
      "125 8.885581458999695 ./chunks/chunk_126_Lecture-12-Columbia.pdf\n",
      "130 9.089975707999656 ./chunks/chunk_131_Lecture-12-Columbia.pdf\n",
      "135 8.26253962499959 ./chunks/chunk_2_Lecture-13-Columbia.pdf\n",
      "140 8.236549958999603 ./chunks/chunk_7_Lecture-13-Columbia.pdf\n",
      "145 7.548319667000214 ./chunks/chunk_12_Lecture-13-Columbia.pdf\n",
      "150 7.327647166000133 ./chunks/chunk_17_Lecture-13-Columbia.pdf\n",
      "155 7.944368416000543 ./chunks/chunk_22_Lecture-13-Columbia.pdf\n",
      "160 7.962167457999385 ./chunks/chunk_27_Lecture-13-Columbia.pdf\n",
      "165 7.763841124999999 ./chunks/chunk_32_Lecture-13-Columbia.pdf\n",
      "170 8.528474917000494 ./chunks/chunk_37_Lecture-13-Columbia.pdf\n",
      "175 8.435918166000192 ./chunks/chunk_42_Lecture-13-Columbia.pdf\n",
      "180 8.159709958999883 ./chunks/chunk_47_Lecture-13-Columbia.pdf\n",
      "185 7.086496833000638 ./chunks/chunk_52_Lecture-13-Columbia.pdf\n",
      "190 7.783497625000564 ./chunks/chunk_57_Lecture-13-Columbia.pdf\n",
      "195 7.406822457999624 ./chunks/chunk_62_Lecture-13-Columbia.pdf\n",
      "200 7.861424958000498 ./chunks/chunk_67_Lecture-13-Columbia.pdf\n",
      "205 7.928558624999823 ./chunks/chunk_72_Lecture-13-Columbia.pdf\n",
      "210 7.78217662499992 ./chunks/chunk_77_Lecture-13-Columbia.pdf\n",
      "215 7.780537042000105 ./chunks/chunk_82_Lecture-13-Columbia.pdf\n",
      "220 7.842029082999943 ./chunks/chunk_87_Lecture-13-Columbia.pdf\n",
      "225 8.237499332999505 ./chunks/chunk_92_Lecture-13-Columbia.pdf\n",
      "230 8.330287833000511 ./chunks/chunk_97_Lecture-13-Columbia.pdf\n",
      "235 8.31084012500014 ./chunks/chunk_102_Lecture-13-Columbia.pdf\n",
      "240 8.75368141600029 ./chunks/chunk_107_Lecture-13-Columbia.pdf\n",
      "245 7.9195339589996365 ./chunks/chunk_3_Lecture-5-columbia-Fall2024.pdf\n",
      "250 7.279840749999494 ./chunks/chunk_8_Lecture-5-columbia-Fall2024.pdf\n",
      "255 7.964158249999855 ./chunks/chunk_13_Lecture-5-columbia-Fall2024.pdf\n",
      "260 7.67915075000019 ./chunks/chunk_18_Lecture-5-columbia-Fall2024.pdf\n",
      "265 7.593029124999703 ./chunks/chunk_23_Lecture-5-columbia-Fall2024.pdf\n",
      "270 7.654824750000444 ./chunks/chunk_28_Lecture-5-columbia-Fall2024.pdf\n",
      "275 7.408023332999619 ./chunks/chunk_33_Lecture-5-columbia-Fall2024.pdf\n",
      "280 7.650419833000342 ./chunks/chunk_38_Lecture-5-columbia-Fall2024.pdf\n",
      "285 7.761835332999908 ./chunks/chunk_43_Lecture-5-columbia-Fall2024.pdf\n",
      "290 8.191603917000066 ./chunks/chunk_4_Lecture-7-Columbia.pdf\n",
      "295 9.278614374999961 ./chunks/chunk_9_Lecture-7-Columbia.pdf\n",
      "300 8.957823749999989 ./chunks/chunk_14_Lecture-7-Columbia.pdf\n",
      "305 8.682208458000787 ./chunks/chunk_19_Lecture-7-Columbia.pdf\n",
      "310 8.939435625000442 ./chunks/chunk_24_Lecture-7-Columbia.pdf\n",
      "315 8.399405582999862 ./chunks/chunk_29_Lecture-7-Columbia.pdf\n",
      "320 8.849013416999696 ./chunks/chunk_34_Lecture-7-Columbia.pdf\n",
      "325 8.45350845899975 ./chunks/chunk_39_Lecture-7-Columbia.pdf\n",
      "330 8.78551137499926 ./chunks/chunk_44_Lecture-7-Columbia.pdf\n",
      "335 9.074276291000388 ./chunks/chunk_49_Lecture-7-Columbia.pdf\n",
      "340 8.83377904200006 ./chunks/chunk_54_Lecture-7-Columbia.pdf\n",
      "345 8.709281207999993 ./chunks/chunk_59_Lecture-7-Columbia.pdf\n",
      "350 8.70278800000051 ./chunks/chunk_64_Lecture-7-Columbia.pdf\n",
      "355 7.782674582999789 ./chunks/chunk_69_Lecture-7-Columbia.pdf\n",
      "360 7.945757624999715 ./chunks/chunk_5_Lecture-3-Columbia (1).pdf\n",
      "365 9.017627958000048 ./chunks/chunk_10_Lecture-3-Columbia (1).pdf\n",
      "370 8.849826124999709 ./chunks/chunk_15_Lecture-3-Columbia (1).pdf\n",
      "375 8.68846129099984 ./chunks/chunk_20_Lecture-3-Columbia (1).pdf\n",
      "380 8.775227000000086 ./chunks/chunk_25_Lecture-3-Columbia (1).pdf\n",
      "385 7.722368167000241 ./chunks/chunk_30_Lecture-3-Columbia (1).pdf\n",
      "390 7.860786915999597 ./chunks/chunk_35_Lecture-3-Columbia (1).pdf\n",
      "395 8.501044999999976 ./chunks/chunk_40_Lecture-3-Columbia (1).pdf\n",
      "400 8.740583500000866 ./chunks/chunk_45_Lecture-3-Columbia (1).pdf\n",
      "405 9.020848333000686 ./chunks/chunk_50_Lecture-3-Columbia (1).pdf\n",
      "410 8.964991791000102 ./chunks/chunk_55_Lecture-3-Columbia (1).pdf\n",
      "415 8.706264833000205 ./chunks/chunk_60_Lecture-3-Columbia (1).pdf\n",
      "420 8.27922204099923 ./chunks/chunk_65_Lecture-3-Columbia (1).pdf\n",
      "425 9.838630708999517 ./chunks/chunk_70_Lecture-3-Columbia (1).pdf\n",
      "430 9.201253500000348 ./chunks/chunk_75_Lecture-3-Columbia (1).pdf\n",
      "435 7.668966584000373 ./chunks/chunk_80_Lecture-3-Columbia (1).pdf\n",
      "440 7.781664375000219 ./chunks/chunk_5_Lecture-2-columbia-Fall2024.pdf\n",
      "445 7.8346565419997205 ./chunks/chunk_10_Lecture-2-columbia-Fall2024.pdf\n",
      "450 7.589046707999842 ./chunks/chunk_15_Lecture-2-columbia-Fall2024.pdf\n",
      "455 7.356198208999558 ./chunks/chunk_20_Lecture-2-columbia-Fall2024.pdf\n",
      "460 7.774766458000158 ./chunks/chunk_25_Lecture-2-columbia-Fall2024.pdf\n",
      "465 8.031287833000533 ./chunks/chunk_30_Lecture-2-columbia-Fall2024.pdf\n",
      "470 8.357353708999653 ./chunks/chunk_35_Lecture-2-columbia-Fall2024.pdf\n",
      "475 9.569471917000556 ./chunks/chunk_40_Lecture-2-columbia-Fall2024.pdf\n",
      "480 7.439694833999965 ./chunks/chunk_45_Lecture-2-columbia-Fall2024.pdf\n",
      "485 7.687130541999977 ./chunks/chunk_50_Lecture-2-columbia-Fall2024.pdf\n",
      "490 8.185709874999702 ./chunks/chunk_55_Lecture-2-columbia-Fall2024.pdf\n",
      "495 7.911954541999876 ./chunks/chunk_60_Lecture-2-columbia-Fall2024.pdf\n",
      "500 8.784260291999999 ./chunks/chunk_65_Lecture-2-columbia-Fall2024.pdf\n",
      "505 7.441585542000212 ./chunks/chunk_70_Lecture-2-columbia-Fall2024.pdf\n",
      "510 8.117459291999694 ./chunks/chunk_75_Lecture-2-columbia-Fall2024.pdf\n",
      "515 7.629976332999831 ./chunks/chunk_80_Lecture-2-columbia-Fall2024.pdf\n",
      "520 8.041072209000049 ./chunks/chunk_85_Lecture-2-columbia-Fall2024.pdf\n",
      "525 7.595909167000173 ./chunks/chunk_1_Lecture-9-Columbia.pdf\n",
      "530 7.698650000000271 ./chunks/chunk_6_Lecture-9-Columbia.pdf\n",
      "535 7.467916333000176 ./chunks/chunk_11_Lecture-9-Columbia.pdf\n",
      "540 7.911277707999943 ./chunks/chunk_16_Lecture-9-Columbia.pdf\n",
      "545 7.580332708000242 ./chunks/chunk_21_Lecture-9-Columbia.pdf\n",
      "550 7.750810916999399 ./chunks/chunk_26_Lecture-9-Columbia.pdf\n",
      "555 6.80767829099932 ./chunks/chunk_31_Lecture-9-Columbia.pdf\n",
      "560 7.032660541000041 ./chunks/chunk_36_Lecture-9-Columbia.pdf\n",
      "565 8.225823832999595 ./chunks/chunk_41_Lecture-9-Columbia.pdf\n",
      "570 7.221644125000239 ./chunks/chunk_46_Lecture-9-Columbia.pdf\n",
      "575 7.746955707999405 ./chunks/chunk_51_Lecture-9-Columbia.pdf\n",
      "580 8.89356320800016 ./chunks/chunk_56_Lecture-9-Columbia.pdf\n",
      "585 8.760759707999568 ./chunks/chunk_61_Lecture-9-Columbia.pdf\n",
      "590 7.985754457999974 ./chunks/chunk_66_Lecture-9-Columbia.pdf\n",
      "595 7.885314541999833 ./chunks/chunk_71_Lecture-9-Columbia.pdf\n",
      "600 8.285354124999685 ./chunks/chunk_76_Lecture-9-Columbia.pdf\n",
      "605 7.432501375000356 ./chunks/chunk_81_Lecture-9-Columbia.pdf\n",
      "610 8.597793083000397 ./chunks/chunk_1_Lecture-11-columbia.pdf\n",
      "615 7.085838958999375 ./chunks/chunk_6_Lecture-11-columbia.pdf\n",
      "620 7.750360541999726 ./chunks/chunk_11_Lecture-11-columbia.pdf\n",
      "625 8.704311041999972 ./chunks/chunk_16_Lecture-11-columbia.pdf\n",
      "630 8.437389249999796 ./chunks/chunk_21_Lecture-11-columbia.pdf\n",
      "635 8.01620370799992 ./chunks/chunk_26_Lecture-11-columbia.pdf\n",
      "640 8.339264958000058 ./chunks/chunk_31_Lecture-11-columbia.pdf\n",
      "645 7.960805708999942 ./chunks/chunk_36_Lecture-11-columbia.pdf\n",
      "650 7.983526250000068 ./chunks/chunk_41_Lecture-11-columbia.pdf\n",
      "655 7.528581624999788 ./chunks/chunk_1_Lecture-6-columbia-Fall2024.pdf\n",
      "660 7.995284208000157 ./chunks/chunk_6_Lecture-6-columbia-Fall2024.pdf\n",
      "665 7.4731590829997 ./chunks/chunk_11_Lecture-6-columbia-Fall2024.pdf\n"
     ]
    },
    {
     "name": "stdout",
     "output_type": "stream",
     "text": [
      "670 6.929717415999221 ./chunks/chunk_16_Lecture-6-columbia-Fall2024.pdf\n",
      "675 7.669259667000006 ./chunks/chunk_21_Lecture-6-columbia-Fall2024.pdf\n",
      "680 7.963793916999748 ./chunks/chunk_26_Lecture-6-columbia-Fall2024.pdf\n",
      "685 7.476365084000463 ./chunks/chunk_4_Lecture-10-Columbia.pdf\n",
      "690 8.1687207089999 ./chunks/chunk_9_Lecture-10-Columbia.pdf\n",
      "695 8.90650420899965 ./chunks/chunk_14_Lecture-10-Columbia.pdf\n",
      "700 9.140342749999945 ./chunks/chunk_19_Lecture-10-Columbia.pdf\n",
      "705 7.98733508299938 ./chunks/chunk_24_Lecture-10-Columbia.pdf\n",
      "710 8.115165457999865 ./chunks/chunk_29_Lecture-10-Columbia.pdf\n",
      "715 8.156138875000579 ./chunks/chunk_34_Lecture-10-Columbia.pdf\n",
      "720 9.232960582999112 ./chunks/chunk_39_Lecture-10-Columbia.pdf\n",
      "725 8.515497958000196 ./chunks/chunk_44_Lecture-10-Columbia.pdf\n",
      "730 7.679936417000135 ./chunks/chunk_49_Lecture-10-Columbia.pdf\n",
      "735 7.841302666000047 ./chunks/chunk_54_Lecture-10-Columbia.pdf\n",
      "740 8.02238770799977 ./chunks/chunk_59_Lecture-10-Columbia.pdf\n",
      "745 7.95550374999948 ./chunks/chunk_64_Lecture-10-Columbia.pdf\n",
      "750 8.129068791000464 ./chunks/chunk_69_Lecture-10-Columbia.pdf\n",
      "755 8.778868874999716 ./chunks/chunk_74_Lecture-10-Columbia.pdf\n",
      "760 7.308207125000081 ./chunks/chunk_79_Lecture-10-Columbia.pdf\n",
      "765 7.450056874999973 ./chunks/chunk_84_Lecture-10-Columbia.pdf\n",
      "770 8.137261249999938 ./chunks/chunk_89_Lecture-10-Columbia.pdf\n",
      "775 7.93935566699929 ./chunks/chunk_94_Lecture-10-Columbia.pdf\n",
      "780 7.570794291999846 ./chunks/chunk_99_Lecture-10-Columbia.pdf\n",
      "785 7.668086333000247 ./chunks/chunk_104_Lecture-10-Columbia.pdf\n",
      "790 7.2911123750000115 ./chunks/chunk_109_Lecture-10-Columbia.pdf\n",
      "795 7.571943208999983 ./chunks/chunk_4_Lecture-4-columbia-Fall2024.pdf\n",
      "800 8.164453834000597 ./chunks/chunk_9_Lecture-4-columbia-Fall2024.pdf\n",
      "805 7.55943654100065 ./chunks/chunk_14_Lecture-4-columbia-Fall2024.pdf\n",
      "810 10.460296374999416 ./chunks/chunk_19_Lecture-4-columbia-Fall2024.pdf\n",
      "815 8.346888082999612 ./chunks/chunk_24_Lecture-4-columbia-Fall2024.pdf\n",
      "820 7.89074837499993 ./chunks/chunk_29_Lecture-4-columbia-Fall2024.pdf\n",
      "825 8.620286416000454 ./chunks/chunk_34_Lecture-4-columbia-Fall2024.pdf\n",
      "830 7.123980625000513 ./chunks/chunk_39_Lecture-4-columbia-Fall2024.pdf\n",
      "835 7.343548041999384 ./chunks/chunk_44_Lecture-4-columbia-Fall2024.pdf\n",
      "840 7.287329791999582 ./chunks/chunk_49_Lecture-4-columbia-Fall2024.pdf\n",
      "845 7.550609832999726 ./chunks/chunk_54_Lecture-4-columbia-Fall2024.pdf\n",
      "850 8.078799249999975 ./chunks/chunk_59_Lecture-4-columbia-Fall2024.pdf\n",
      "855 7.282098333000249 ./chunks/chunk_64_Lecture-4-columbia-Fall2024.pdf\n",
      "860 7.505362832999708 ./chunks/chunk_69_Lecture-4-columbia-Fall2024.pdf\n",
      "865 7.529766540999844 ./chunks/chunk_74_Lecture-4-columbia-Fall2024.pdf\n",
      "870 9.03695824999977 ./chunks/chunk_79_Lecture-4-columbia-Fall2024.pdf\n",
      "875 8.04511787499996 ./chunks/chunk_5_Lecture-8-Columbia.pdf\n",
      "880 7.8007027499998 ./chunks/chunk_10_Lecture-8-Columbia.pdf\n",
      "885 8.117723082999873 ./chunks/chunk_15_Lecture-8-Columbia.pdf\n",
      "890 8.800097041999834 ./chunks/chunk_20_Lecture-8-Columbia.pdf\n",
      "895 9.241167666000365 ./chunks/chunk_25_Lecture-8-Columbia.pdf\n",
      "900 7.645130375000008 ./chunks/chunk_30_Lecture-8-Columbia.pdf\n",
      "905 7.796405208000579 ./chunks/chunk_35_Lecture-8-Columbia.pdf\n",
      "910 8.15077137499975 ./chunks/chunk_40_Lecture-8-Columbia.pdf\n",
      "915 8.70919533400047 ./chunks/chunk_45_Lecture-8-Columbia.pdf\n",
      "920 9.176570124999671 ./chunks/chunk_50_Lecture-8-Columbia.pdf\n",
      "925 8.926850458000445 ./chunks/chunk_55_Lecture-8-Columbia.pdf\n",
      "930 8.929297542000313 ./chunks/chunk_60_Lecture-8-Columbia.pdf\n",
      "935 8.783865000000333 ./chunks/chunk_65_Lecture-8-Columbia.pdf\n",
      "940 9.315037708999625 ./chunks/chunk_70_Lecture-8-Columbia.pdf\n",
      "945 11.75281829100004 ./chunks/chunk_75_Lecture-8-Columbia.pdf\n"
     ]
    }
   ],
   "source": [
    "all_processed_chunks = list(all_data.keys())\n",
    "start = timeit.default_timer()\n",
    "for i,chunk in enumerate(all_chunks):\n",
    "    if chunk not in all_processed_chunks:\n",
    "        text, links = get_document_extraction(chunk)\n",
    "        all_data[chunk] = {'text':text,'links':links}\n",
    "        if i%5 ==0:\n",
    "            end = timeit.default_timer()\n",
    "            print(i, end-start, chunk)\n",
    "            start = timeit.default_timer()"
   ]
  },
  {
   "cell_type": "code",
   "execution_count": 214,
   "id": "3914ce71",
   "metadata": {},
   "outputs": [],
   "source": [
    "all_data_cleaned = {}\n",
    "for key,value in all_data.items():\n",
    "    if len(value['links'])>0:\n",
    "        all_data_cleaned[key] = {'text':value['text'],'links':extract_text_links(value['text'])}\n",
    "    else:\n",
    "        all_data_cleaned[key] = value"
   ]
  },
  {
   "cell_type": "code",
   "execution_count": 245,
   "id": "e19bf6bb",
   "metadata": {},
   "outputs": [],
   "source": [
    "# Specify the file name of the JSON file\n",
    "file_name = \"data_from_presentations.json\"\n",
    "\n",
    "# Load the JSON file\n",
    "with open(file_name, \"r\") as json_file:\n",
    "    data = json.load(json_file)"
   ]
  },
  {
   "cell_type": "code",
   "execution_count": 215,
   "id": "15f2dd97",
   "metadata": {},
   "outputs": [],
   "source": [
    "all_processed_chunks = list(all_data_cleaned.keys())"
   ]
  },
  {
   "cell_type": "code",
   "execution_count": 216,
   "id": "b15c29c0",
   "metadata": {},
   "outputs": [],
   "source": [
    "all_links = []\n",
    "for extracted_data in list(list(all_data_cleaned.values())):\n",
    "    all_links = all_links + extracted_data['links']"
   ]
  },
  {
   "cell_type": "code",
   "execution_count": 217,
   "id": "29892bdd",
   "metadata": {},
   "outputs": [
    {
     "name": "stdout",
     "output_type": "stream",
     "text": [
      "Processing: https://github.com/ray-project/llm-numbers#1-mb-gpu-memory-required-for-1-token-of-output-with-a-13b-parameter-model\n",
      "Processing: https://arxiv.org/abs/2205.14135\n",
      "Processing: https://ai.stanford.edu/blog/longer-sequencesnext-leap-ai/\n",
      "Processing: https://github.com/vllm-project/vllm\n",
      "Processing: https://vllm.ai\n",
      "Processing: https://arxiv.org/abs/2309.06180\n",
      "Processing: https://discord.gg/jz7wjKhh6g\n",
      "Processing: https://docs.nvidia.com/datacenter/tesla/mig-userguide/index.html\n",
      "Processing: https://huggingface.co/blog/trl-peft\n",
      "Processing: https://arxiv.org/pdf/2202.05924\n",
      "Processing: https://splab.sdu.edu.cn/G\n",
      "Processing: https://research.google/blog/pathways-languagemodel-palm-scaling-to-540-billion-parameters-for-breakthrough-performance/\n",
      "Processing: https://arxiv.org/pdf/2202.05924\n",
      "Processing: https://www.youtube.com/watch?v=EnJ7qX9fkcU\n",
      "Processing: https://jvns.ca/blog/2016/10/10/what-even-is-a-container/\n",
      "Processing: https://kubernetes.io/\n",
      "Processing: https://cloud.google.com/kubernetesengine/\n",
      "Processing: https://www.alibabacloud.com/product/kubernetes\n",
      "Processing: https://aws.amazon.com/eks/\n",
      "Processing: https://azure.microsoft.com/enus/services/kubernetes-service/\n",
      "Processing: https://github.com/IBM/FfDL\n",
      "Processing: https://www.ibm.com/products/watson-studio\n",
      "Processing: https://aws.amazon.com/sagemaker\n",
      "Processing: https://azure.com/ml\n",
      "Processing: https://cloud.google.com/vertex-ai/\n",
      "Processing: https://docs.aws.amazon.com/sagemaker/latest/dg/how-it-works-training.html\n",
      "Processing: https://arxiv.org/pdf/2202.05924\n",
      "Processing: https://website-754fwhahs-humanloopml.vercel.app/blog/open_ai_talk\n",
      "Processing: https://arxiv.org/pdf/2202.05924\n",
      "Processing: https://splab.sdu.edu.cn/GPT3.pdf\n",
      "Processing: https://research.google/blog/pathw\n",
      "Processing: https://lambdalabs.com/blog/2080-ti-deep-learning-benchmarks/\n",
      "Processing: https://lambdalabs.com/blog/2080-ti-deep-learning-benchmarks/\n",
      "Processing: https://docs.aws.amazon.com/sagemaker/latest/dg/model-parallel-intro.html\n",
      "Processing: https://arxiv.org/pdf/1811.05233.pdf\n",
      "Processing: https://cloud.google.com/tpu/docs/systemarchitecture\n",
      "Processing: https://medium.com/mlreview/a-guide-to-receptive-fieldarithmetic-for-convolutional-neural-networks-e0f514068807\n",
      "Processing: https://github.com/bitsandbytes-foundation/bitsandbytes\n",
      "Processing: https://huggingface.co/docs/transformers/v4.20.1/en/perf_train_gpu_one#anatomy-of-models-memory\n",
      "Processing: https://github.com/bitsandbytes-foundation/bitsandbytes\n",
      "Processing: https://huggingface.co/docs/transformers/v4.20.1/en/perf_train_gpu_one#anatomy-of-models-memory\n",
      "Processing: https://arxiv.org/pdf/2005.14165\n",
      "Processing: https://gluebenchmark.com/leaderboard\n",
      "Processing: https://super.gluebenchmark.com/leaderboard/\n",
      "Processing: https://crfm.stanford.edu/helm/\n",
      "Processing: https://crfm.stanford.edu/helm/\n",
      "Processing: https://www.anyscale.com/blog/reproducible-performance-metrics-for-llm-inference\n",
      "Processing: https://github.com/ray-project/LLMPerf\n",
      "Processing: https://github.com/ray-project/llmperf-leaderboard\n",
      "Processing: https://github.com/ray-project/llmperf-leaderboard\n",
      "Processing: https://www.kubeflow.org/docs/about/kubeflow/\n",
      "Processing: https://www.kubeflow.org/docs/pipelines/pipelines-quickstart/\n",
      "Processing: https://www.kubeflow.org/docs/pi\n",
      "Processing: https://www.kubeflow.org/docs/pipelines/overview/concepts/comp\n",
      "Processing: https://www.kubeflow.org/docs/pipelines/refe\n",
      "Processing: https://mlcommons.org\n",
      "Processing: https://mlcommons.org/benchmarks/storage/\n",
      "Processing: https://github.com/bigscience-workshop/promptsource/blob/main/promptsource/templates/amazon_polarity/templates.yaml\n",
      "Processing: https://huggingface.co/datasets/samsum,\n",
      "Processing: https://github.com/google-research/FLAN/blob/2c79a31/flan/v2/templates.py\n",
      "Processing: https://huggingface.co/datasets/knkarthick/dialogsum/viewer/knkarthick--dialo\n",
      "Processing: https://arxiv.org/pdf/1806.09055.pdf\n",
      "Processing: http://onnx.ai\n",
      "Processing: http://onnx.ai\n",
      "Processing: http://onnx.ai/supported-tools\n",
      "Processing: https://github.com/onnx/tutorials\n",
      "Processing: https://github.com/onnx/models\n",
      "Processing: http://onnx.ai/supported-tools\n",
      "Processing: https://github.com/microsoft/onnxruntime\n",
      "Processing: https://github.com/huggingface/notebooks/blob/main/examples/onnx\n",
      "Processing: https://github.com/tensorflow/models\n",
      "Processing: https://github.com/pytorch/vision\n",
      "Processing: https://www.restack.io/p/retrieval-augmented-generation-answer-rag-vs-semantic-cat-ai\n",
      "Processing: https://www.geeksforgeeks.org/keywordsearching-algorithms-for-search-engines/\n",
      "Processing: https://en.wikipedia.org/wiki/Okapi_BM25\n",
      "Processing: https://drive.google.com/file/d/1UCb_ED3anGlfUvqm19ZKvVdBTBJb4KM/view?usp=sharing\n",
      "Processing: https://api.open-meteo.com/v1/forecast\"\n"
     ]
    }
   ],
   "source": [
    "extracted_data = process_links(all_links)"
   ]
  },
  {
   "cell_type": "code",
   "execution_count": 218,
   "id": "10704d84",
   "metadata": {},
   "outputs": [],
   "source": [
    "cleaned_extracted_data = {key:value for key, value in extracted_data.items() if len(value)>=1000}"
   ]
  },
  {
   "cell_type": "code",
   "execution_count": 221,
   "id": "2bd9f45b",
   "metadata": {},
   "outputs": [],
   "source": [
    "all_files_to_extract_data_from = os.listdir('./HWs')"
   ]
  },
  {
   "cell_type": "code",
   "execution_count": 222,
   "id": "2f3c2b74",
   "metadata": {},
   "outputs": [],
   "source": [
    "all_hw_chunks = []\n",
    "for file_name in all_files_to_extract_data_from:\n",
    "    file_directory = \"./HWs\"\n",
    "    pdf_path = os.path.join(file_directory, file_name)\n",
    "    chunks = split_pdf(pdf_path,file_name, max_pages = 15)\n",
    "    all_hw_chunks = all_hw_chunks + chunks"
   ]
  },
  {
   "cell_type": "code",
   "execution_count": 225,
   "id": "45db3a95",
   "metadata": {},
   "outputs": [],
   "source": [
    "# all_hw_data = {}"
   ]
  },
  {
   "cell_type": "code",
   "execution_count": 226,
   "id": "73af21fe",
   "metadata": {},
   "outputs": [
    {
     "name": "stdout",
     "output_type": "stream",
     "text": [
      "0 3.847637875000146 ./chunks/chunk_1_HW4-PDF.pdf\n"
     ]
    }
   ],
   "source": [
    "all_processed_chunks = list(all_hw_data.keys())\n",
    "start = timeit.default_timer()\n",
    "for i,chunk in enumerate(all_hw_chunks):\n",
    "    if chunk not in all_processed_chunks:\n",
    "        text, links = get_document_extraction(chunk)\n",
    "        all_hw_data[chunk] = {'text':text,'links':links}\n",
    "        if i%5 ==0:\n",
    "            end = timeit.default_timer()\n",
    "            print(i, end-start, chunk)\n",
    "            start = timeit.default_timer()"
   ]
  },
  {
   "cell_type": "code",
   "execution_count": 227,
   "id": "03dfd671",
   "metadata": {},
   "outputs": [],
   "source": [
    "all_hw_links = []\n",
    "for extracted_data in list(all_hw_data.values()):\n",
    "    all_hw_links = all_hw_links + extracted_data['links']"
   ]
  },
  {
   "cell_type": "code",
   "execution_count": 228,
   "id": "0c6fc82d",
   "metadata": {},
   "outputs": [
    {
     "name": "stdout",
     "output_type": "stream",
     "text": [
      "Processing: https://dustinstansbury.github.io/theclevermachine/bias-variance-tradeoff.\n",
      "Processing: https://arxiv.org/pdf/1611.03530.pdf.\n",
      "Processing: https://arxiv.org/abs/1506.01186.\n",
      "Processing: https://arxiv.org/pdf/1611.03530.pdf\n",
      "Processing: https://papers.nips.cc/paper/4824-imagenet-classification-with-deep-convolutionalneural-networks.pdf\n",
      "Processing: https://arxiv.org/pdf/1409.1556.pdf\n",
      "Processing: https://arxiv.org/pdf/1409.4842.pdf\n",
      "Processing: https://github.com/qfgaohao/pytorch-ssd\n",
      "Processing: https://pytorch.org/tutorials/advanced/super_resolution_with_onnxruntime.html\n",
      "Processing: https://github.com/onnx/tutorials/blob/master/tutorials/OnnxRuntimeServerSSDModel.ipynb\n",
      "Processing: https://storage.googleapis.com/openimages/web/index.html\n",
      "Processing: http://host.robots.ox.ac.uk/pascal/VOC/voc2007/\n",
      "Processing: https://pytorch.org/tutorials/beginner/transfer_learning_tutorial.html\n",
      "Processing: https://cs231n.github.io/transfer-learning/\n",
      "Processing: http://host.robots.ox.ac.uk/pascal/VOC/voc2007/\n"
     ]
    }
   ],
   "source": [
    "extracted_hw_data = process_links(all_hw_links)"
   ]
  },
  {
   "cell_type": "code",
   "execution_count": 229,
   "id": "0f8abbe0",
   "metadata": {},
   "outputs": [],
   "source": [
    "cleaned_extracted_hw_data = {key:value for key, value in extracted_hw_data.items() if len(value)>=1000}"
   ]
  },
  {
   "cell_type": "code",
   "execution_count": 230,
   "id": "e65a18c8",
   "metadata": {},
   "outputs": [],
   "source": [
    "links_dict = defaultdict(lambda: \"\")\n",
    "for key,value in cleaned_extracted_data.items():\n",
    "    links_dict[key] = value\n",
    "for key,value in cleaned_extracted_hw_data.items():\n",
    "    links_dict[key] = value"
   ]
  },
  {
   "cell_type": "code",
   "execution_count": 231,
   "id": "5eb41a0b",
   "metadata": {},
   "outputs": [],
   "source": [
    "def split_into_sentences(text: str) -> List[str]:\n",
    "    \"\"\"\n",
    "    Split text into sentences using a regex-based sentence tokenizer.\n",
    "    \"\"\"\n",
    "    sentence_endings = re.compile(r'(?<=[.!?]) +')  # Match end of sentence followed by space\n",
    "    return sentence_endings.split(text)\n",
    "\n",
    "def chunk_text_by_sentence(text: str, max_tokens: int, tokenizer) -> List[str]:\n",
    "    \"\"\"\n",
    "    Chunk text into pieces of max_tokens length, ensuring chunks do not cut sentences.\n",
    "    \n",
    "    Args:\n",
    "        text (str): The input text to chunk.\n",
    "        max_tokens (int): The maximum number of tokens per chunk.\n",
    "        tokenizer: The tokenizer instance for tokenizing the text.\n",
    "    \n",
    "    Returns:\n",
    "        List[str]: A list of text chunks.\n",
    "    \"\"\"\n",
    "    sentences = split_into_sentences(text)\n",
    "    chunks = []\n",
    "    current_chunk = []\n",
    "\n",
    "    current_tokens = 0\n",
    "    for sentence in sentences:\n",
    "        sentence_tokens = tokenizer.encode(sentence)\n",
    "        if current_tokens + len(sentence_tokens) <= max_tokens:\n",
    "            current_chunk.append(sentence)\n",
    "            current_tokens += len(sentence_tokens)\n",
    "        else:\n",
    "            # Complete the current chunk\n",
    "            if current_chunk:\n",
    "                chunks.append(\" \".join(current_chunk))\n",
    "            # Start a new chunk\n",
    "            current_chunk = [sentence]\n",
    "            current_tokens = len(sentence_tokens)\n",
    "\n",
    "    # Add the last chunk if it exists\n",
    "    if current_chunk:\n",
    "        chunks.append(\" \".join(current_chunk))\n",
    "\n",
    "    return chunks\n",
    "\n",
    "def chunk_documents_by_sentence(documents: Dict[str, str], max_tokens: int = 500) -> Dict[str, List[str]]:\n",
    "    \"\"\"\n",
    "    Chunk the text of multiple documents into smaller pieces, ensuring no sentence is cut.\n",
    "    \n",
    "    Args:\n",
    "        documents (Dict[str, str]): A dictionary with document IDs as keys and text as values.\n",
    "        max_tokens (int): The maximum number of tokens per chunk.\n",
    "    \n",
    "    Returns:\n",
    "        Dict[str, List[str]]: A dictionary with document IDs as keys and lists of chunked text as values.\n",
    "    \"\"\"\n",
    "    tokenizer = tiktoken.get_encoding(\"cl100k_base\")  # Use the tokenizer compatible with OpenAI models\n",
    "    chunked_documents = {}\n",
    "    \n",
    "    for doc_id, text in documents.items():\n",
    "        chunked_documents[doc_id] = chunk_text_by_sentence(text, max_tokens, tokenizer)\n",
    "    \n",
    "    return chunked_documents"
   ]
  },
  {
   "cell_type": "code",
   "execution_count": 232,
   "id": "ad956d8d",
   "metadata": {},
   "outputs": [],
   "source": [
    "chunked_links_dict = chunk_documents_by_sentence(links_dict)"
   ]
  },
  {
   "cell_type": "code",
   "execution_count": 243,
   "id": "2736433b",
   "metadata": {},
   "outputs": [],
   "source": [
    "file_name = \"data_from_embedded_links.json\"\n",
    "with open(file_name, \"w\") as json_file:\n",
    "    json.dump(chunked_links_dict, json_file, indent=4)"
   ]
  },
  {
   "cell_type": "code",
   "execution_count": 238,
   "id": "c5d064d2",
   "metadata": {},
   "outputs": [],
   "source": [
    "all_q_and_a_docs_final = all_q_and_a_docs + all_q_and_a_docs_2"
   ]
  },
  {
   "cell_type": "code",
   "execution_count": 241,
   "id": "e1ea78e7",
   "metadata": {},
   "outputs": [],
   "source": [
    "file_name = \"all_q_and_a_docs_final.json\"\n",
    "with open(file_name, \"w\") as json_file:\n",
    "    json.dump(all_q_and_a_docs_final, json_file, indent=4)"
   ]
  },
  {
   "cell_type": "code",
   "execution_count": 235,
   "id": "195210f0",
   "metadata": {},
   "outputs": [
    {
     "data": {
      "text/plain": [
       "48"
      ]
     },
     "execution_count": 235,
     "metadata": {},
     "output_type": "execute_result"
    }
   ],
   "source": [
    "len(list(chunked_links_dict.keys()))"
   ]
  },
  {
   "cell_type": "code",
   "execution_count": null,
   "id": "2437f109",
   "metadata": {},
   "outputs": [],
   "source": []
  }
 ],
 "metadata": {
  "kernelspec": {
   "display_name": "Python 3.9 (tensorflow)",
   "language": "python",
   "name": "tensorflow"
  },
  "language_info": {
   "codemirror_mode": {
    "name": "ipython",
    "version": 3
   },
   "file_extension": ".py",
   "mimetype": "text/x-python",
   "name": "python",
   "nbconvert_exporter": "python",
   "pygments_lexer": "ipython3",
   "version": "3.9.13"
  }
 },
 "nbformat": 4,
 "nbformat_minor": 5
}
