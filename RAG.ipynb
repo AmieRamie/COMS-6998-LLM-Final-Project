{
 "cells": [
  {
   "cell_type": "markdown",
   "metadata": {},
   "source": [
    "# Implementing RAG"
   ]
  },
  {
   "cell_type": "markdown",
   "metadata": {},
   "source": [
    "## Loading RAG Data into ChromaDB Vector Store"
   ]
  },
  {
   "cell_type": "code",
   "execution_count": 10,
   "metadata": {},
   "outputs": [
    {
     "name": "stdout",
     "output_type": "stream",
     "text": [
      "Loaded 30011 documents.\n",
      "Sample document: {'source': 'https://github.com/ray-project/llm-numbers#1-mb-gpu-memory-required-for-1-token-of-output-with-a-13b-parameter-model', 'text': 'Skip to content Navigation Menu Toggle navigation Sign in Product GitHub Copilot Write better code with AI Security Find and fix vulnerabilities Actions Automate any workflow Codespaces Instant dev environments Issues Plan and track work Code Review Manage code changes Discussions Collaborate outside of code Code Search Find more, search less Explore All features Documentation GitHub Skills Blog Solutions By company size Enterprises Small and medium teams Startups By use case DevSecOps DevOps CI/CD View all use cases By industry Healthcare Financial services Manufacturing Government View all industries View all solutions Resources Topics AI DevOps Security Software Development View all Explore Learning Pathways White papers, Ebooks, Webinars Customer Stories Partners Open Source GitHub Sponsors Fund open source developers The ReadME Project GitHub community articles Repositories Topics Trending Collections Enterprise Enterprise platform AI-powered developer platform Available add-ons Advanced Security Enterprise-grade security features GitHub Copilot Enterprise-grade AI features Premium Support Enterprise-grade 24/7 support Pricing Search or jump to... Search code, repositories, users, issues, pull requests... Search Clear Search syntax tips Provide feedback We read every piece of feedback, and take your input very seriously. Include my email address so I can be contacted Cancel Submit feedback Saved searches Use saved searches to filter your results more quickly Name Query To see all available qualifiers, see our documentation. Cancel Create saved search Sign in Sign up Reseting focus You signed in with another tab or window. Reload to refresh your session. You signed out in another tab or window. Reload to refresh your session. You switched accounts on another tab or window. Reload to refresh your session. Dismiss alert ray-project / llm-numbers Public Notifications You must be signed in to change notification settings Fork 141 Star 4.1k Numbers every LLM developer should know 4.1k stars 141 forks Branches Tags Activity Star Notifications You must be signed in to change notification settings Code Issues 9 Pull requests 1 Actions Projects 0 Security Insights Additional navigation options Code Issues Pull requests Actions Projects Security Insights ray-project/llm-numbers mainBranchesTagsGo to fileCodeFolders and filesNameNameLast commit messageLast commit dateLatest commit History37 CommitsREADME.mdREADME.md View all filesRepository files navigationREADMENumbers every LLM Developer should know 中文 At Google, there was a document put together by Jeff Dean, the legendary engineer, called Numbers every Engineer should know.'}\n"
     ]
    }
   ],
   "source": [
    "import os\n",
    "import json\n",
    "\n",
    "def load_json_files(directory):\n",
    "    \"\"\"\n",
    "    Load all JSON files from the specified directory.\n",
    "\n",
    "    Args:\n",
    "        directory (str): The path to the directory containing the JSON files.\n",
    "\n",
    "    Returns:\n",
    "        list: A list of dictionaries containing the data from all JSON files.\n",
    "    \"\"\"\n",
    "    data = []\n",
    "    for filename in os.listdir(directory):\n",
    "        if filename.endswith(\".json\"):\n",
    "            file_path = os.path.join(directory, filename)\n",
    "            with open(file_path, 'r', encoding='utf-8') as f:\n",
    "                data.append(json.load(f))\n",
    "    return data\n",
    "\n",
    "def extract_text(data):\n",
    "    \"\"\"\n",
    "    Extract text data from the JSON structure, supporting two formats.\n",
    "\n",
    "    Args:\n",
    "        data (list): A list of dictionaries containing JSON data.\n",
    "\n",
    "    Returns:\n",
    "        list: A list of dictionaries with URLs or file paths and their corresponding text chunks.\n",
    "    \"\"\"\n",
    "    documents = []\n",
    "    for entry in data:\n",
    "        for key, value in entry.items():\n",
    "            if isinstance(value, list):  # First format with URL keys\n",
    "                for chunk in value:\n",
    "                    documents.append({\"source\": key, \"text\": chunk})\n",
    "            elif isinstance(value, dict):  # Second format with file paths as keys\n",
    "                if \"text\" in value:\n",
    "                    documents.append({\"source\": key, \"text\": value[\"text\"]})\n",
    "    return documents\n",
    "\n",
    "# Directory containing the JSON files\n",
    "directory = \"RAG_data\"\n",
    "\n",
    "# Load and preprocess data\n",
    "json_data = load_json_files(directory)\n",
    "documents = extract_text(json_data)\n",
    "\n",
    "# Example output\n",
    "print(f\"Loaded {len(documents)} documents.\")\n",
    "print(\"Sample document:\", documents[0])"
   ]
  },
  {
   "cell_type": "markdown",
   "metadata": {},
   "source": [
    "## Generating Embeddings"
   ]
  },
  {
   "cell_type": "markdown",
   "metadata": {},
   "source": [
    "We will be utilizing the text-embedding-3-large embedding model through the OpenAI API"
   ]
  },
  {
   "cell_type": "code",
   "execution_count": 11,
   "metadata": {},
   "outputs": [],
   "source": [
    "import json\n",
    "import os\n",
    "import openai\n",
    "import timeit\n",
    "from scipy.spatial.distance import cosine\n",
    "import time\n",
    "import pandas as pd\n",
    "import numpy as np\n",
    "from tiktoken import encoding_for_model"
   ]
  },
  {
   "cell_type": "code",
   "execution_count": 12,
   "metadata": {},
   "outputs": [
    {
     "data": {
      "text/plain": [
       "True"
      ]
     },
     "execution_count": 12,
     "metadata": {},
     "output_type": "execute_result"
    }
   ],
   "source": [
    "from dotenv import load_dotenv\n",
    "\n",
    "load_dotenv()"
   ]
  },
  {
   "cell_type": "code",
   "execution_count": 13,
   "metadata": {},
   "outputs": [],
   "source": [
    "openai.api_key = os.getenv('OPENAI_API_KEY')"
   ]
  },
  {
   "cell_type": "code",
   "execution_count": 14,
   "metadata": {},
   "outputs": [],
   "source": [
    "client = openai.OpenAI()"
   ]
  },
  {
   "cell_type": "code",
   "execution_count": 15,
   "metadata": {},
   "outputs": [],
   "source": [
    "def get_embedding(text, model=\"text-embedding-3-large\", max_tokens=8192):\n",
    "    tokenizer = encoding_for_model(model)  \n",
    "    tokens = tokenizer.encode(text)\n",
    "    if len(tokens) > max_tokens:\n",
    "        print(f\"Truncating text to {max_tokens} tokens: {text[:100]}...\")  # Log truncation\n",
    "        tokens = tokens[:max_tokens]\n",
    "        text = tokenizer.decode(tokens)\n",
    "    try:\n",
    "        response = client.embeddings.create(input=text, model=model)\n",
    "        return response.data[0].embedding\n",
    "    except Exception as e:\n",
    "        print(f\"Failed to encode text: {e}\")\n",
    "        return None"
   ]
  },
  {
   "cell_type": "code",
<<<<<<< HEAD
<<<<<<< HEAD
   "execution_count": 7,
=======
   "execution_count": 14,
>>>>>>> cc3f8a0 (Updating RAG code to use gpt-4o-mini model and calculate semantic similarity metrics for responses)
=======
   "execution_count": 16,
>>>>>>> b026128 (Updated ChromaDB upload code to avoid overwritting entries and giving each entries a unique ID)
   "metadata": {},
   "outputs": [],
   "source": [
    "def get_embeddings(texts, model=\"text-embedding-3-large\", max_tokens=8192, batch_size=100):\n",
    "    embeddings = []\n",
    "    tokenizer = encoding_for_model(model)  # Get the tokenizer for the model\n",
    "   \n",
    "    for i in range(0, len(texts), batch_size):\n",
    "        batch = texts[i:i + batch_size]\n",
    "\n",
    "        # Truncate texts in the batch that exceed the token limit\n",
    "        truncated_batch = []\n",
    "        for text in batch:\n",
    "            tokens = tokenizer.encode(text)\n",
    "            if len(tokens) > max_tokens:\n",
    "                print(f\"Truncating text to {max_tokens} tokens: {text[:100]}...\")  # Log truncation\n",
    "                tokens = tokens[:max_tokens]\n",
    "                text = tokenizer.decode(tokens)\n",
    "            truncated_batch.append(text)\n",
    "\n",
    "        try:\n",
    "            # Generate embeddings for the batch\n",
    "            response = client.embeddings.create(input=truncated_batch, model=model)\n",
    "            batch_embeddings = [item.embedding for item in response.data]\n",
    "            if i % 5000 == 0:\n",
    "                print(f\"Generated embeddings for batch {i}-{i + batch_size}\")\n",
    "            embeddings.extend(batch_embeddings)\n",
    "        except Exception as e:\n",
    "            print(f\"Unexpected error for batch {i}-{i + batch_size}: {e}\")\n",
    "            embeddings.extend([None] * len(batch))  # Append None for unexpected errors\n",
    "        \n",
    "    return embeddings"
   ]
  },
  {
   "cell_type": "code",
<<<<<<< HEAD
<<<<<<< HEAD
   "execution_count": 10,
=======
   "execution_count": 15,
>>>>>>> cc3f8a0 (Updating RAG code to use gpt-4o-mini model and calculate semantic similarity metrics for responses)
=======
   "execution_count": 17,
>>>>>>> b026128 (Updated ChromaDB upload code to avoid overwritting entries and giving each entries a unique ID)
   "metadata": {},
   "outputs": [
    {
     "name": "stdout",
     "output_type": "stream",
     "text": [
      "Generated embeddings for batch 0-1000\n",
      "Truncating text to 8192 tokens: An In-Depth Guide to the VR Universe Article Top 10 Career Opportunities in Artificial Intelligence ...\n",
      "Generated embeddings for batch 5000-6000\n",
      "Generated embeddings for batch 10000-11000\n",
      "Truncating text to 8192 tokens: R Python library(h2o) # Start the H2O cluster (locally) h2o.init() # Import a sample binary outcome ...\n",
      "Generated embeddings for batch 15000-16000\n",
      "Truncating text to 8192 tokens: All rights reserved Products ignio AIOps Redefining IT Operations with AI and Automation ignio Obser...\n",
      "Generated embeddings for batch 20000-21000\n",
      "Generated embeddings for batch 25000-26000\n",
      "Truncating text to 8192 tokens: Topics Alphabetic H2O Wiki Algorithms Activation Function Confusion Matrix Convolutional Neural Netw...\n",
      "Truncating text to 8192 tokens: By acrastt • Oct 18, 2023 Building Your First Kubeflow Pipeline: A Comprehensive Guide By turhancan9...\n",
      "Truncating text to 8192 tokens: Media center Investors InvestorsCareersPartner Portal login Medical Medical Advanced wound care Adva...\n",
      "Generated embeddings for batch 30000-31000\n"
     ]
    }
   ],
   "source": [
    "texts = [doc[\"text\"] for doc in documents]\n",
    "embeddings = get_embeddings(texts, batch_size=1000)"
   ]
  },
  {
   "cell_type": "markdown",
   "metadata": {},
   "source": [
    "## Loading Data into ChromaDB Vector Store"
   ]
  },
  {
   "cell_type": "markdown",
   "metadata": {},
   "source": [
    "We first need to initialize the ChromaDB vector store. The data will persist in the \"chroma\" directory"
   ]
  },
  {
   "cell_type": "code",
<<<<<<< HEAD
<<<<<<< HEAD
   "execution_count": 8,
=======
   "execution_count": 16,
>>>>>>> cc3f8a0 (Updating RAG code to use gpt-4o-mini model and calculate semantic similarity metrics for responses)
=======
   "execution_count": 18,
>>>>>>> b026128 (Updated ChromaDB upload code to avoid overwritting entries and giving each entries a unique ID)
   "metadata": {},
   "outputs": [],
   "source": [
    "import chromadb\n",
    "from chromadb.config import Settings"
   ]
  },
  {
   "cell_type": "code",
<<<<<<< HEAD
   "execution_count": 9,
=======
   "execution_count": 19,
>>>>>>> b026128 (Updated ChromaDB upload code to avoid overwritting entries and giving each entries a unique ID)
   "metadata": {},
   "outputs": [],
   "source": [
    "persistent_client = chromadb.PersistentClient(settings=Settings(allow_reset=True))\n",
    "collection = persistent_client.get_or_create_collection(\"llm_tutor_collection\")"
   ]
  },
  {
   "cell_type": "markdown",
   "metadata": {},
   "source": [
    "Now we can load the documents and generated embeddings into the llm_tutor_collection in our ChromaDB instance"
   ]
  },
  {
   "cell_type": "code",
<<<<<<< HEAD
   "execution_count": 11,
=======
   "execution_count": 21,
>>>>>>> b026128 (Updated ChromaDB upload code to avoid overwritting entries and giving each entries a unique ID)
   "metadata": {},
   "outputs": [],
   "source": [
    "batch_size = 500\n",
    "batch_ids = []\n",
    "batch_texts = []\n",
    "batch_metadata = []\n",
    "batch_embeddings = []\n",
    "\n",
    "id = 0\n",
    "for doc, embedding in zip(documents, embeddings):\n",
    "    # Add data to the current batch\n",
    "    batch_ids.append(str(id))\n",
    "    batch_texts.append(doc[\"text\"])\n",
    "    batch_metadata.append({\"source\": doc[\"source\"]})\n",
    "    batch_embeddings.append(embedding)\n",
    "    id += 1\n",
    "\n",
    "    # Check if the batch is ready for uploading\n",
    "    if len(batch_ids) == batch_size:\n",
    "        # Upload the batch to ChromaDB\n",
    "        collection.add(\n",
    "            ids=batch_ids,\n",
    "            documents=batch_texts,\n",
    "            metadatas=batch_metadata,\n",
    "            embeddings=batch_embeddings\n",
    "        )\n",
    "        # Clear the batch lists\n",
    "        batch_ids = []\n",
    "        batch_texts = []\n",
    "        batch_metadata = []\n",
    "        batch_embeddings = []\n",
    "\n",
    "# Upload any remaining data in the last batch\n",
    "if batch_ids:\n",
    "    collection.add(\n",
    "        ids=batch_ids,\n",
    "        documents=batch_texts,\n",
    "        metadatas=batch_metadata,\n",
    "        embeddings=batch_embeddings\n",
    "    )"
   ]
  },
  {
   "cell_type": "code",
<<<<<<< HEAD
   "execution_count": 12,
   "metadata": {},
   "outputs": [
    {
     "data": {
      "text/plain": [
       "30011"
      ]
     },
     "execution_count": 12,
     "metadata": {},
     "output_type": "execute_result"
    }
   ],
   "source": [
    "collection.count()"
   ]
  },
  {
<<<<<<< HEAD
=======
   "cell_type": "code",
   "execution_count": 19,
=======
   "execution_count": 22,
>>>>>>> b026128 (Updated ChromaDB upload code to avoid overwritting entries and giving each entries a unique ID)
   "metadata": {},
   "outputs": [
    {
     "data": {
      "text/plain": [
       "30011"
      ]
     },
     "execution_count": 22,
     "metadata": {},
     "output_type": "execute_result"
    }
   ],
   "source": [
    "collection.count()"
   ]
  },
  {
>>>>>>> cc3f8a0 (Updating RAG code to use gpt-4o-mini model and calculate semantic similarity metrics for responses)
   "cell_type": "markdown",
   "metadata": {},
   "source": [
    "## Loading in Generative LLM Candidates"
   ]
  },
  {
   "cell_type": "markdown",
   "metadata": {},
   "source": [
    "### OpenAI GPT-4o-mini"
   ]
  },
  {
   "cell_type": "code",
<<<<<<< HEAD
<<<<<<< HEAD
   "execution_count": 13,
=======
   "execution_count": 20,
>>>>>>> cc3f8a0 (Updating RAG code to use gpt-4o-mini model and calculate semantic similarity metrics for responses)
=======
   "execution_count": 23,
>>>>>>> b026128 (Updated ChromaDB upload code to avoid overwritting entries and giving each entries a unique ID)
   "metadata": {},
   "outputs": [],
   "source": [
    "gpt_4o_base = \"gpt-4o-mini\"\n",
    "gpt_4o_finetuned = \"ft:gpt-4o-mini-2024-07-18:f-prime-capital::AbZYSjIT\""
   ]
  },
  {
   "cell_type": "markdown",
   "metadata": {},
   "source": [
    "## Setting Up RAG methods"
   ]
  },
  {
   "cell_type": "code",
<<<<<<< HEAD
   "execution_count": 14,
=======
   "execution_count": 21,
>>>>>>> cc3f8a0 (Updating RAG code to use gpt-4o-mini model and calculate semantic similarity metrics for responses)
   "metadata": {},
   "outputs": [],
   "source": [
    "def retrieve_relevant_documents(query, n_results=5):\n",
    "    \"\"\"\n",
    "    Retrieve the most relevant documents from the ChromaDB vector store.\n",
    "    \n",
    "    Args:\n",
    "        query (str): The user's question or query.\n",
    "        collection (Collection): The ChromaDB collection object.\n",
    "        n_results (int): Number of results to retrieve.\n",
    "    \n",
    "    Returns:\n",
    "        str: Concatenated text of the top retrieved documents.\n",
    "    \"\"\"\n",
    "    # Generate embedding for the query using Gemini model\n",
    "    query_embedding = get_embedding(query)\n",
    "\n",
    "    # Retrieve top documents\n",
    "    results = collection.query(\n",
    "        query_embeddings=[query_embedding],\n",
    "        n_results=n_results\n",
    "    )\n",
    "\n",
    "    # Combine text from the retrieved documents\n",
    "    retrieved_text = \" \".join(doc[0] for doc in results[\"documents\"])\n",
    "    return retrieved_text"
   ]
  },
  {
   "cell_type": "code",
<<<<<<< HEAD
   "execution_count": 15,
=======
   "execution_count": 28,
>>>>>>> cc3f8a0 (Updating RAG code to use gpt-4o-mini model and calculate semantic similarity metrics for responses)
   "metadata": {},
   "outputs": [],
   "source": [
    "def run_rag(model, query):\n",
    "    # Retrieve relevant documents\n",
    "    retrieved_text = retrieve_relevant_documents(query)\n",
    "\n",
    "    # Generate response using OpenAI Model\n",
    "    all_messages = [\n",
    "        {\"role\": \"system\", \"content\": \"You are a helpful tutor who answers questions about a class called Introduction to Deep Learning and LLM based Generative AI Systems\"},\n",
    "        {\"role\": \"user\", \"content\": f\"Generate an answer to the following question using the given context:\\n\\n {query}\\n\\n {\"=\"*50}\\n\\nCONTEXT: {retrieved_text}\\n\\n\"}\n",
    "    ]\n",
    "    response = client.chat.completions.create(\n",
    "        model=model,\n",
    "        messages=all_messages,\n",
    "        max_tokens=1500,\n",
    "    )\n",
    "    model_response_text = response.choices[0].message.content\n",
    "    return model_response_text"
   ]
  },
  {
   "cell_type": "markdown",
   "metadata": {},
   "source": [
    "### Querying RAG Pipeline"
   ]
  },
  {
   "cell_type": "code",
<<<<<<< HEAD
   "execution_count": 16,
=======
   "execution_count": 29,
>>>>>>> cc3f8a0 (Updating RAG code to use gpt-4o-mini model and calculate semantic similarity metrics for responses)
   "metadata": {},
   "outputs": [
    {
     "name": "stdout",
     "output_type": "stream",
     "text": [
<<<<<<< HEAD
      "When training a deep learning model for image classification, there are several best practices you should follow to ensure optimal performance:\n",
      "\n",
      "1. **Image Size**: Choose a consistent size for your input images. Common sizes for models trained on datasets like ImageNet are 224x224 or 299x299 pixels. You can use a resizing strategy depending on your project requirements and computational resources.\n",
      "\n",
      "2. **Dataset Preparation**: Analyze your dataset to ensure there’s a suitable distribution of images. Create a dictionary to map image file names to their sizes and visualize that with histograms. This helps to understand the pixel distribution and identify any images that might require resizing or cropping based on your classification objectives.\n",
      "\n",
      "3. **Validation Set**: The size of the validation set can greatly impact your model's assessment. Instead of a fixed percentage like 20%, consider using a size that reflects your dataset's overall size. If your validation set is too small, you may get varying results across different runs, which indicates that it may not be representative of your dataset.\n",
      "\n",
      "4. **Batch Size**: Start with a smaller batch size (e.g., 64) to speed up training when working with a new dataset. Be mindful of GPU memory limitations; if you encounter a \"CUDA out of memory\" error, consider reducing the batch size.\n",
      "\n",
      "5. **Precomputation and Transfer Learning**: Utilize pre-computed classifiers, especially when beginning with a new dataset. Initial training without data augmentation can yield good results, and you can improve accuracy further by fine-tuning the model without pre-computation for additional epochs.\n",
      "\n",
      "6. **Monitoring Training**: Keep track of the model's performance metrics, such as accuracy, during training to ensure convergence and identify when to adjust hyperparameters.\n",
      "\n",
      "7. **Utilize Data Augmentation**: While starting your model quickly is important, don't overlook the value of data augmentation. This technique can help improve generalization and robustness by artificially expanding the training dataset.\n",
      "\n",
      "By adhering to these best practices, you can improve your image classification model's performance and reliability.\n"
=======
      "When building a deep learning model for image classification, here are some best practices to consider:\n",
      "\n",
      "1. **Leverage Transfer Learning**: Utilize pre-trained models that have been trained on large datasets like ImageNet. This allows you to take advantage of the learned features in these models, which can significantly improve your performance, especially when you have a small dataset.\n",
      "\n",
      "2. **Model Selection**: Choose a model from a model zoo that suits your needs. Both TensorFlow and PyTorch offer repositories of pre-trained models that you can easily incorporate into your project.\n",
      "\n",
      "3. **Modify the Classifier**: Replace the last layer of the model, which is typically designed for a specific number of classes (like 1000 in ImageNet), with a new randomly initialized layer that reflects the number of classes in your dataset.\n",
      "\n",
      "4. **Fine-tuning Strategy**: Initially, train only the new classification layer. This allows you to utilize the frozen feature extraction layers from the pre-trained model without altering their learned weights. \n",
      "\n",
      "5. **Incrementally Train Layers**: As you gather more data, progressively unfreeze and train more layers of the model. Start by using a smaller learning rate (about 1/10th of the original learning rate) for the layers you are fine-tuning. This helps in making subtle adjustments to the weights without overwriting the robust features embedded in the earlier layers.\n",
      "\n",
      "6. **Data Considerations**: When possible, scale up your dataset. Training on a larger dataset typically helps improve the model's accuracy and generalizes better to unseen data.\n",
      "\n",
      "7. **Experiment with Different Architectures**: If you find that your performance isn’t satisfactory, consider experimenting with other architectures or adjusting the depth of your model as needed.\n",
      "\n",
      "8. **Monitor Performance**: Utilize validation datasets to monitor overfitting and adjust your training process accordingly, possibly using techniques like early stopping.\n",
      "\n",
      "By following these best practices, you can effectively train your deep learning image classification model and achieve better performance on your tasks.\n"
>>>>>>> cc3f8a0 (Updating RAG code to use gpt-4o-mini model and calculate semantic similarity metrics for responses)
     ]
    }
   ],
   "source": [
    "question = \"I want to build a deep learning model for image classification. What are some best practices for training deep learning models?\"\n",
    "response = run_rag(gpt_4o_base ,question)\n",
    "print(response)"
   ]
  },
  {
   "cell_type": "markdown",
   "metadata": {},
   "source": [
    "## Evaluating RAG with Embedding Similarity"
   ]
  },
  {
   "cell_type": "code",
<<<<<<< HEAD
   "execution_count": 17,
=======
   "execution_count": 30,
>>>>>>> cc3f8a0 (Updating RAG code to use gpt-4o-mini model and calculate semantic similarity metrics for responses)
   "metadata": {},
   "outputs": [],
   "source": [
    "with open('./Test Data/test_data.json', \"r\") as json_file:\n",
    "    test_data = json.load(json_file)"
   ]
  },
  {
   "cell_type": "code",
<<<<<<< HEAD
   "execution_count": 18,
=======
   "execution_count": 31,
>>>>>>> cc3f8a0 (Updating RAG code to use gpt-4o-mini model and calculate semantic similarity metrics for responses)
   "metadata": {},
   "outputs": [],
   "source": [
    "def cosine_similarity(vec1, vec2):\n",
    "    return 1 - cosine(vec1, vec2)"
   ]
  },
  {
   "cell_type": "code",
<<<<<<< HEAD
   "execution_count": 19,
=======
   "execution_count": 32,
>>>>>>> cc3f8a0 (Updating RAG code to use gpt-4o-mini model and calculate semantic similarity metrics for responses)
   "metadata": {},
   "outputs": [],
   "source": [
    "def eval_semantic_sim(model):\n",
    "    # Evaluate semantic similarity\n",
    "    similarities = []\n",
    "    start = timeit.default_timer()\n",
    "    # last_pause = timeit.default_timer()\n",
    "    for i,example in enumerate(test_data):\n",
    "        try:\n",
    "            input_text = example['input']\n",
    "            expected_output = example['output']\n",
    "            # Generate model response with RAG\n",
    "            model_response_text = run_rag(model, input_text)\n",
    "            # Generate embeddings for expected and actual responses\n",
    "            expected_embedding = get_embedding(expected_output)\n",
    "            model_response_embedding = get_embedding(model_response_text)\n",
    "\n",
    "            # Calculate similarity\n",
    "            similarity = cosine_similarity(expected_embedding, model_response_embedding)\n",
    "            similarities.append({'question':input_text ,'expected_output':expected_output,'model_output':model_response_text,'similarities':similarity})\n",
    "        except Exception as e:\n",
    "            print(i,e)\n",
    "            # break\n",
    "        if (i%5==0)&(i!=0):\n",
    "            end = timeit.default_timer()\n",
    "            print(f\"{i} - Time Spent: {end-start}, Number of Errors: {i + 1 - len(similarities)}\")\n",
    "            start = timeit.default_timer()\n",
    "            # print(f\"Sleeping for {60-(timeit.default_timer()-last_pause)} seconds\")\n",
    "            # if (60-(timeit.default_timer()-last_pause))>0:\n",
    "            #     time.sleep(60-(timeit.default_timer()-last_pause))\n",
    "            # last_pause = timeit.default_timer()\n",
    "\n",
    "    return similarities"
   ]
  },
  {
   "cell_type": "code",
<<<<<<< HEAD
<<<<<<< HEAD
   "execution_count": 20,
=======
   "execution_count": null,
>>>>>>> cc3f8a0 (Updating RAG code to use gpt-4o-mini model and calculate semantic similarity metrics for responses)
=======
   "execution_count": 34,
>>>>>>> b026128 (Updated ChromaDB upload code to avoid overwritting entries and giving each entries a unique ID)
   "metadata": {},
   "outputs": [
    {
     "name": "stdout",
     "output_type": "stream",
     "text": [
<<<<<<< HEAD
      "5 - Time Spent: 25.07111200003419, Number of Errors: 0\n",
      "10 - Time Spent: 28.732721042004414, Number of Errors: 0\n",
      "15 - Time Spent: 32.36361737496918, Number of Errors: 0\n",
      "20 - Time Spent: 16.470764500030782, Number of Errors: 0\n",
      "25 - Time Spent: 20.200529915979132, Number of Errors: 0\n"
     ]
    },
    {
     "ename": "KeyboardInterrupt",
     "evalue": "",
     "output_type": "error",
     "traceback": [
      "\u001b[0;31m---------------------------------------------------------------------------\u001b[0m",
      "\u001b[0;31mKeyboardInterrupt\u001b[0m                         Traceback (most recent call last)",
      "Cell \u001b[0;32mIn[20], line 1\u001b[0m\n\u001b[0;32m----> 1\u001b[0m gpt_4o_base_similarities \u001b[38;5;241m=\u001b[39m pd\u001b[38;5;241m.\u001b[39mDataFrame(\u001b[43meval_semantic_sim\u001b[49m\u001b[43m(\u001b[49m\u001b[43mgpt_4o_base\u001b[49m\u001b[43m)\u001b[49m)\n",
      "Cell \u001b[0;32mIn[19], line 11\u001b[0m, in \u001b[0;36meval_semantic_sim\u001b[0;34m(model)\u001b[0m\n\u001b[1;32m      9\u001b[0m expected_output \u001b[38;5;241m=\u001b[39m example[\u001b[38;5;124m'\u001b[39m\u001b[38;5;124moutput\u001b[39m\u001b[38;5;124m'\u001b[39m]\n\u001b[1;32m     10\u001b[0m \u001b[38;5;66;03m# Generate model response with RAG\u001b[39;00m\n\u001b[0;32m---> 11\u001b[0m model_response_text \u001b[38;5;241m=\u001b[39m \u001b[43mrun_rag\u001b[49m\u001b[43m(\u001b[49m\u001b[43mmodel\u001b[49m\u001b[43m,\u001b[49m\u001b[43m \u001b[49m\u001b[43minput_text\u001b[49m\u001b[43m)\u001b[49m\n\u001b[1;32m     12\u001b[0m \u001b[38;5;66;03m# Generate embeddings for expected and actual responses\u001b[39;00m\n\u001b[1;32m     13\u001b[0m expected_embedding \u001b[38;5;241m=\u001b[39m get_embedding(expected_output)\n",
      "Cell \u001b[0;32mIn[15], line 10\u001b[0m, in \u001b[0;36mrun_rag\u001b[0;34m(model, query)\u001b[0m\n\u001b[1;32m      5\u001b[0m \u001b[38;5;66;03m# Generate response using OpenAI Model\u001b[39;00m\n\u001b[1;32m      6\u001b[0m all_messages \u001b[38;5;241m=\u001b[39m [\n\u001b[1;32m      7\u001b[0m     {\u001b[38;5;124m\"\u001b[39m\u001b[38;5;124mrole\u001b[39m\u001b[38;5;124m\"\u001b[39m: \u001b[38;5;124m\"\u001b[39m\u001b[38;5;124msystem\u001b[39m\u001b[38;5;124m\"\u001b[39m, \u001b[38;5;124m\"\u001b[39m\u001b[38;5;124mcontent\u001b[39m\u001b[38;5;124m\"\u001b[39m: \u001b[38;5;124m\"\u001b[39m\u001b[38;5;124mYou are a helpful tutor who answers questions about a class called Introduction to Deep Learning and LLM based Generative AI Systems\u001b[39m\u001b[38;5;124m\"\u001b[39m},\n\u001b[1;32m      8\u001b[0m     {\u001b[38;5;124m\"\u001b[39m\u001b[38;5;124mrole\u001b[39m\u001b[38;5;124m\"\u001b[39m: \u001b[38;5;124m\"\u001b[39m\u001b[38;5;124muser\u001b[39m\u001b[38;5;124m\"\u001b[39m, \u001b[38;5;124m\"\u001b[39m\u001b[38;5;124mcontent\u001b[39m\u001b[38;5;124m\"\u001b[39m: \u001b[38;5;124mf\u001b[39m\u001b[38;5;124m\"\u001b[39m\u001b[38;5;124mGenerate an answer to the following question using the given context:\u001b[39m\u001b[38;5;130;01m\\n\u001b[39;00m\u001b[38;5;130;01m\\n\u001b[39;00m\u001b[38;5;124m \u001b[39m\u001b[38;5;132;01m{\u001b[39;00mquery\u001b[38;5;132;01m}\u001b[39;00m\u001b[38;5;130;01m\\n\u001b[39;00m\u001b[38;5;130;01m\\n\u001b[39;00m\u001b[38;5;124m \u001b[39m\u001b[38;5;132;01m{\u001b[39;00m\u001b[38;5;124m\"\u001b[39m\u001b[38;5;124m=\u001b[39m\u001b[38;5;124m\"\u001b[39m\u001b[38;5;241m*\u001b[39m\u001b[38;5;241m50\u001b[39m\u001b[38;5;132;01m}\u001b[39;00m\u001b[38;5;130;01m\\n\u001b[39;00m\u001b[38;5;130;01m\\n\u001b[39;00m\u001b[38;5;124mCONTEXT: \u001b[39m\u001b[38;5;132;01m{\u001b[39;00mretrieved_text\u001b[38;5;132;01m}\u001b[39;00m\u001b[38;5;130;01m\\n\u001b[39;00m\u001b[38;5;130;01m\\n\u001b[39;00m\u001b[38;5;124m\"\u001b[39m}\n\u001b[1;32m      9\u001b[0m ]\n\u001b[0;32m---> 10\u001b[0m response \u001b[38;5;241m=\u001b[39m \u001b[43mclient\u001b[49m\u001b[38;5;241;43m.\u001b[39;49m\u001b[43mchat\u001b[49m\u001b[38;5;241;43m.\u001b[39;49m\u001b[43mcompletions\u001b[49m\u001b[38;5;241;43m.\u001b[39;49m\u001b[43mcreate\u001b[49m\u001b[43m(\u001b[49m\n\u001b[1;32m     11\u001b[0m \u001b[43m    \u001b[49m\u001b[43mmodel\u001b[49m\u001b[38;5;241;43m=\u001b[39;49m\u001b[43mmodel\u001b[49m\u001b[43m,\u001b[49m\n\u001b[1;32m     12\u001b[0m \u001b[43m    \u001b[49m\u001b[43mmessages\u001b[49m\u001b[38;5;241;43m=\u001b[39;49m\u001b[43mall_messages\u001b[49m\u001b[43m,\u001b[49m\n\u001b[1;32m     13\u001b[0m \u001b[43m    \u001b[49m\u001b[43mmax_tokens\u001b[49m\u001b[38;5;241;43m=\u001b[39;49m\u001b[38;5;241;43m1500\u001b[39;49m\u001b[43m,\u001b[49m\n\u001b[1;32m     14\u001b[0m \u001b[43m\u001b[49m\u001b[43m)\u001b[49m\n\u001b[1;32m     15\u001b[0m model_response_text \u001b[38;5;241m=\u001b[39m response\u001b[38;5;241m.\u001b[39mchoices[\u001b[38;5;241m0\u001b[39m]\u001b[38;5;241m.\u001b[39mmessage\u001b[38;5;241m.\u001b[39mcontent\n\u001b[1;32m     16\u001b[0m \u001b[38;5;28;01mreturn\u001b[39;00m model_response_text\n",
      "File \u001b[0;32m~/Documents/Columbia_Grad/LLM & DL System Performance/Project.nosync/COMS-6998-LLM-Final-Project/.venv/lib/python3.12/site-packages/openai/_utils/_utils.py:275\u001b[0m, in \u001b[0;36mrequired_args.<locals>.inner.<locals>.wrapper\u001b[0;34m(*args, **kwargs)\u001b[0m\n\u001b[1;32m    273\u001b[0m             msg \u001b[38;5;241m=\u001b[39m \u001b[38;5;124mf\u001b[39m\u001b[38;5;124m\"\u001b[39m\u001b[38;5;124mMissing required argument: \u001b[39m\u001b[38;5;132;01m{\u001b[39;00mquote(missing[\u001b[38;5;241m0\u001b[39m])\u001b[38;5;132;01m}\u001b[39;00m\u001b[38;5;124m\"\u001b[39m\n\u001b[1;32m    274\u001b[0m     \u001b[38;5;28;01mraise\u001b[39;00m \u001b[38;5;167;01mTypeError\u001b[39;00m(msg)\n\u001b[0;32m--> 275\u001b[0m \u001b[38;5;28;01mreturn\u001b[39;00m \u001b[43mfunc\u001b[49m\u001b[43m(\u001b[49m\u001b[38;5;241;43m*\u001b[39;49m\u001b[43margs\u001b[49m\u001b[43m,\u001b[49m\u001b[43m \u001b[49m\u001b[38;5;241;43m*\u001b[39;49m\u001b[38;5;241;43m*\u001b[39;49m\u001b[43mkwargs\u001b[49m\u001b[43m)\u001b[49m\n",
      "File \u001b[0;32m~/Documents/Columbia_Grad/LLM & DL System Performance/Project.nosync/COMS-6998-LLM-Final-Project/.venv/lib/python3.12/site-packages/openai/resources/chat/completions.py:829\u001b[0m, in \u001b[0;36mCompletions.create\u001b[0;34m(self, messages, model, audio, frequency_penalty, function_call, functions, logit_bias, logprobs, max_completion_tokens, max_tokens, metadata, modalities, n, parallel_tool_calls, prediction, presence_penalty, response_format, seed, service_tier, stop, store, stream, stream_options, temperature, tool_choice, tools, top_logprobs, top_p, user, extra_headers, extra_query, extra_body, timeout)\u001b[0m\n\u001b[1;32m    788\u001b[0m \u001b[38;5;129m@required_args\u001b[39m([\u001b[38;5;124m\"\u001b[39m\u001b[38;5;124mmessages\u001b[39m\u001b[38;5;124m\"\u001b[39m, \u001b[38;5;124m\"\u001b[39m\u001b[38;5;124mmodel\u001b[39m\u001b[38;5;124m\"\u001b[39m], [\u001b[38;5;124m\"\u001b[39m\u001b[38;5;124mmessages\u001b[39m\u001b[38;5;124m\"\u001b[39m, \u001b[38;5;124m\"\u001b[39m\u001b[38;5;124mmodel\u001b[39m\u001b[38;5;124m\"\u001b[39m, \u001b[38;5;124m\"\u001b[39m\u001b[38;5;124mstream\u001b[39m\u001b[38;5;124m\"\u001b[39m])\n\u001b[1;32m    789\u001b[0m \u001b[38;5;28;01mdef\u001b[39;00m \u001b[38;5;21mcreate\u001b[39m(\n\u001b[1;32m    790\u001b[0m     \u001b[38;5;28mself\u001b[39m,\n\u001b[0;32m   (...)\u001b[0m\n\u001b[1;32m    826\u001b[0m     timeout: \u001b[38;5;28mfloat\u001b[39m \u001b[38;5;241m|\u001b[39m httpx\u001b[38;5;241m.\u001b[39mTimeout \u001b[38;5;241m|\u001b[39m \u001b[38;5;28;01mNone\u001b[39;00m \u001b[38;5;241m|\u001b[39m NotGiven \u001b[38;5;241m=\u001b[39m NOT_GIVEN,\n\u001b[1;32m    827\u001b[0m ) \u001b[38;5;241m-\u001b[39m\u001b[38;5;241m>\u001b[39m ChatCompletion \u001b[38;5;241m|\u001b[39m Stream[ChatCompletionChunk]:\n\u001b[1;32m    828\u001b[0m     validate_response_format(response_format)\n\u001b[0;32m--> 829\u001b[0m     \u001b[38;5;28;01mreturn\u001b[39;00m \u001b[38;5;28;43mself\u001b[39;49m\u001b[38;5;241;43m.\u001b[39;49m\u001b[43m_post\u001b[49m\u001b[43m(\u001b[49m\n\u001b[1;32m    830\u001b[0m \u001b[43m        \u001b[49m\u001b[38;5;124;43m\"\u001b[39;49m\u001b[38;5;124;43m/chat/completions\u001b[39;49m\u001b[38;5;124;43m\"\u001b[39;49m\u001b[43m,\u001b[49m\n\u001b[1;32m    831\u001b[0m \u001b[43m        \u001b[49m\u001b[43mbody\u001b[49m\u001b[38;5;241;43m=\u001b[39;49m\u001b[43mmaybe_transform\u001b[49m\u001b[43m(\u001b[49m\n\u001b[1;32m    832\u001b[0m \u001b[43m            \u001b[49m\u001b[43m{\u001b[49m\n\u001b[1;32m    833\u001b[0m \u001b[43m                \u001b[49m\u001b[38;5;124;43m\"\u001b[39;49m\u001b[38;5;124;43mmessages\u001b[39;49m\u001b[38;5;124;43m\"\u001b[39;49m\u001b[43m:\u001b[49m\u001b[43m \u001b[49m\u001b[43mmessages\u001b[49m\u001b[43m,\u001b[49m\n\u001b[1;32m    834\u001b[0m \u001b[43m                \u001b[49m\u001b[38;5;124;43m\"\u001b[39;49m\u001b[38;5;124;43mmodel\u001b[39;49m\u001b[38;5;124;43m\"\u001b[39;49m\u001b[43m:\u001b[49m\u001b[43m \u001b[49m\u001b[43mmodel\u001b[49m\u001b[43m,\u001b[49m\n\u001b[1;32m    835\u001b[0m \u001b[43m                \u001b[49m\u001b[38;5;124;43m\"\u001b[39;49m\u001b[38;5;124;43maudio\u001b[39;49m\u001b[38;5;124;43m\"\u001b[39;49m\u001b[43m:\u001b[49m\u001b[43m \u001b[49m\u001b[43maudio\u001b[49m\u001b[43m,\u001b[49m\n\u001b[1;32m    836\u001b[0m \u001b[43m                \u001b[49m\u001b[38;5;124;43m\"\u001b[39;49m\u001b[38;5;124;43mfrequency_penalty\u001b[39;49m\u001b[38;5;124;43m\"\u001b[39;49m\u001b[43m:\u001b[49m\u001b[43m \u001b[49m\u001b[43mfrequency_penalty\u001b[49m\u001b[43m,\u001b[49m\n\u001b[1;32m    837\u001b[0m \u001b[43m                \u001b[49m\u001b[38;5;124;43m\"\u001b[39;49m\u001b[38;5;124;43mfunction_call\u001b[39;49m\u001b[38;5;124;43m\"\u001b[39;49m\u001b[43m:\u001b[49m\u001b[43m \u001b[49m\u001b[43mfunction_call\u001b[49m\u001b[43m,\u001b[49m\n\u001b[1;32m    838\u001b[0m \u001b[43m                \u001b[49m\u001b[38;5;124;43m\"\u001b[39;49m\u001b[38;5;124;43mfunctions\u001b[39;49m\u001b[38;5;124;43m\"\u001b[39;49m\u001b[43m:\u001b[49m\u001b[43m \u001b[49m\u001b[43mfunctions\u001b[49m\u001b[43m,\u001b[49m\n\u001b[1;32m    839\u001b[0m \u001b[43m                \u001b[49m\u001b[38;5;124;43m\"\u001b[39;49m\u001b[38;5;124;43mlogit_bias\u001b[39;49m\u001b[38;5;124;43m\"\u001b[39;49m\u001b[43m:\u001b[49m\u001b[43m \u001b[49m\u001b[43mlogit_bias\u001b[49m\u001b[43m,\u001b[49m\n\u001b[1;32m    840\u001b[0m \u001b[43m                \u001b[49m\u001b[38;5;124;43m\"\u001b[39;49m\u001b[38;5;124;43mlogprobs\u001b[39;49m\u001b[38;5;124;43m\"\u001b[39;49m\u001b[43m:\u001b[49m\u001b[43m \u001b[49m\u001b[43mlogprobs\u001b[49m\u001b[43m,\u001b[49m\n\u001b[1;32m    841\u001b[0m \u001b[43m                \u001b[49m\u001b[38;5;124;43m\"\u001b[39;49m\u001b[38;5;124;43mmax_completion_tokens\u001b[39;49m\u001b[38;5;124;43m\"\u001b[39;49m\u001b[43m:\u001b[49m\u001b[43m \u001b[49m\u001b[43mmax_completion_tokens\u001b[49m\u001b[43m,\u001b[49m\n\u001b[1;32m    842\u001b[0m \u001b[43m                \u001b[49m\u001b[38;5;124;43m\"\u001b[39;49m\u001b[38;5;124;43mmax_tokens\u001b[39;49m\u001b[38;5;124;43m\"\u001b[39;49m\u001b[43m:\u001b[49m\u001b[43m \u001b[49m\u001b[43mmax_tokens\u001b[49m\u001b[43m,\u001b[49m\n\u001b[1;32m    843\u001b[0m \u001b[43m                \u001b[49m\u001b[38;5;124;43m\"\u001b[39;49m\u001b[38;5;124;43mmetadata\u001b[39;49m\u001b[38;5;124;43m\"\u001b[39;49m\u001b[43m:\u001b[49m\u001b[43m \u001b[49m\u001b[43mmetadata\u001b[49m\u001b[43m,\u001b[49m\n\u001b[1;32m    844\u001b[0m \u001b[43m                \u001b[49m\u001b[38;5;124;43m\"\u001b[39;49m\u001b[38;5;124;43mmodalities\u001b[39;49m\u001b[38;5;124;43m\"\u001b[39;49m\u001b[43m:\u001b[49m\u001b[43m \u001b[49m\u001b[43mmodalities\u001b[49m\u001b[43m,\u001b[49m\n\u001b[1;32m    845\u001b[0m \u001b[43m                \u001b[49m\u001b[38;5;124;43m\"\u001b[39;49m\u001b[38;5;124;43mn\u001b[39;49m\u001b[38;5;124;43m\"\u001b[39;49m\u001b[43m:\u001b[49m\u001b[43m \u001b[49m\u001b[43mn\u001b[49m\u001b[43m,\u001b[49m\n\u001b[1;32m    846\u001b[0m \u001b[43m                \u001b[49m\u001b[38;5;124;43m\"\u001b[39;49m\u001b[38;5;124;43mparallel_tool_calls\u001b[39;49m\u001b[38;5;124;43m\"\u001b[39;49m\u001b[43m:\u001b[49m\u001b[43m \u001b[49m\u001b[43mparallel_tool_calls\u001b[49m\u001b[43m,\u001b[49m\n\u001b[1;32m    847\u001b[0m \u001b[43m                \u001b[49m\u001b[38;5;124;43m\"\u001b[39;49m\u001b[38;5;124;43mprediction\u001b[39;49m\u001b[38;5;124;43m\"\u001b[39;49m\u001b[43m:\u001b[49m\u001b[43m \u001b[49m\u001b[43mprediction\u001b[49m\u001b[43m,\u001b[49m\n\u001b[1;32m    848\u001b[0m \u001b[43m                \u001b[49m\u001b[38;5;124;43m\"\u001b[39;49m\u001b[38;5;124;43mpresence_penalty\u001b[39;49m\u001b[38;5;124;43m\"\u001b[39;49m\u001b[43m:\u001b[49m\u001b[43m \u001b[49m\u001b[43mpresence_penalty\u001b[49m\u001b[43m,\u001b[49m\n\u001b[1;32m    849\u001b[0m \u001b[43m                \u001b[49m\u001b[38;5;124;43m\"\u001b[39;49m\u001b[38;5;124;43mresponse_format\u001b[39;49m\u001b[38;5;124;43m\"\u001b[39;49m\u001b[43m:\u001b[49m\u001b[43m \u001b[49m\u001b[43mresponse_format\u001b[49m\u001b[43m,\u001b[49m\n\u001b[1;32m    850\u001b[0m \u001b[43m                \u001b[49m\u001b[38;5;124;43m\"\u001b[39;49m\u001b[38;5;124;43mseed\u001b[39;49m\u001b[38;5;124;43m\"\u001b[39;49m\u001b[43m:\u001b[49m\u001b[43m \u001b[49m\u001b[43mseed\u001b[49m\u001b[43m,\u001b[49m\n\u001b[1;32m    851\u001b[0m \u001b[43m                \u001b[49m\u001b[38;5;124;43m\"\u001b[39;49m\u001b[38;5;124;43mservice_tier\u001b[39;49m\u001b[38;5;124;43m\"\u001b[39;49m\u001b[43m:\u001b[49m\u001b[43m \u001b[49m\u001b[43mservice_tier\u001b[49m\u001b[43m,\u001b[49m\n\u001b[1;32m    852\u001b[0m \u001b[43m                \u001b[49m\u001b[38;5;124;43m\"\u001b[39;49m\u001b[38;5;124;43mstop\u001b[39;49m\u001b[38;5;124;43m\"\u001b[39;49m\u001b[43m:\u001b[49m\u001b[43m \u001b[49m\u001b[43mstop\u001b[49m\u001b[43m,\u001b[49m\n\u001b[1;32m    853\u001b[0m \u001b[43m                \u001b[49m\u001b[38;5;124;43m\"\u001b[39;49m\u001b[38;5;124;43mstore\u001b[39;49m\u001b[38;5;124;43m\"\u001b[39;49m\u001b[43m:\u001b[49m\u001b[43m \u001b[49m\u001b[43mstore\u001b[49m\u001b[43m,\u001b[49m\n\u001b[1;32m    854\u001b[0m \u001b[43m                \u001b[49m\u001b[38;5;124;43m\"\u001b[39;49m\u001b[38;5;124;43mstream\u001b[39;49m\u001b[38;5;124;43m\"\u001b[39;49m\u001b[43m:\u001b[49m\u001b[43m \u001b[49m\u001b[43mstream\u001b[49m\u001b[43m,\u001b[49m\n\u001b[1;32m    855\u001b[0m \u001b[43m                \u001b[49m\u001b[38;5;124;43m\"\u001b[39;49m\u001b[38;5;124;43mstream_options\u001b[39;49m\u001b[38;5;124;43m\"\u001b[39;49m\u001b[43m:\u001b[49m\u001b[43m \u001b[49m\u001b[43mstream_options\u001b[49m\u001b[43m,\u001b[49m\n\u001b[1;32m    856\u001b[0m \u001b[43m                \u001b[49m\u001b[38;5;124;43m\"\u001b[39;49m\u001b[38;5;124;43mtemperature\u001b[39;49m\u001b[38;5;124;43m\"\u001b[39;49m\u001b[43m:\u001b[49m\u001b[43m \u001b[49m\u001b[43mtemperature\u001b[49m\u001b[43m,\u001b[49m\n\u001b[1;32m    857\u001b[0m \u001b[43m                \u001b[49m\u001b[38;5;124;43m\"\u001b[39;49m\u001b[38;5;124;43mtool_choice\u001b[39;49m\u001b[38;5;124;43m\"\u001b[39;49m\u001b[43m:\u001b[49m\u001b[43m \u001b[49m\u001b[43mtool_choice\u001b[49m\u001b[43m,\u001b[49m\n\u001b[1;32m    858\u001b[0m \u001b[43m                \u001b[49m\u001b[38;5;124;43m\"\u001b[39;49m\u001b[38;5;124;43mtools\u001b[39;49m\u001b[38;5;124;43m\"\u001b[39;49m\u001b[43m:\u001b[49m\u001b[43m \u001b[49m\u001b[43mtools\u001b[49m\u001b[43m,\u001b[49m\n\u001b[1;32m    859\u001b[0m \u001b[43m                \u001b[49m\u001b[38;5;124;43m\"\u001b[39;49m\u001b[38;5;124;43mtop_logprobs\u001b[39;49m\u001b[38;5;124;43m\"\u001b[39;49m\u001b[43m:\u001b[49m\u001b[43m \u001b[49m\u001b[43mtop_logprobs\u001b[49m\u001b[43m,\u001b[49m\n\u001b[1;32m    860\u001b[0m \u001b[43m                \u001b[49m\u001b[38;5;124;43m\"\u001b[39;49m\u001b[38;5;124;43mtop_p\u001b[39;49m\u001b[38;5;124;43m\"\u001b[39;49m\u001b[43m:\u001b[49m\u001b[43m \u001b[49m\u001b[43mtop_p\u001b[49m\u001b[43m,\u001b[49m\n\u001b[1;32m    861\u001b[0m \u001b[43m                \u001b[49m\u001b[38;5;124;43m\"\u001b[39;49m\u001b[38;5;124;43muser\u001b[39;49m\u001b[38;5;124;43m\"\u001b[39;49m\u001b[43m:\u001b[49m\u001b[43m \u001b[49m\u001b[43muser\u001b[49m\u001b[43m,\u001b[49m\n\u001b[1;32m    862\u001b[0m \u001b[43m            \u001b[49m\u001b[43m}\u001b[49m\u001b[43m,\u001b[49m\n\u001b[1;32m    863\u001b[0m \u001b[43m            \u001b[49m\u001b[43mcompletion_create_params\u001b[49m\u001b[38;5;241;43m.\u001b[39;49m\u001b[43mCompletionCreateParams\u001b[49m\u001b[43m,\u001b[49m\n\u001b[1;32m    864\u001b[0m \u001b[43m        \u001b[49m\u001b[43m)\u001b[49m\u001b[43m,\u001b[49m\n\u001b[1;32m    865\u001b[0m \u001b[43m        \u001b[49m\u001b[43moptions\u001b[49m\u001b[38;5;241;43m=\u001b[39;49m\u001b[43mmake_request_options\u001b[49m\u001b[43m(\u001b[49m\n\u001b[1;32m    866\u001b[0m \u001b[43m            \u001b[49m\u001b[43mextra_headers\u001b[49m\u001b[38;5;241;43m=\u001b[39;49m\u001b[43mextra_headers\u001b[49m\u001b[43m,\u001b[49m\u001b[43m \u001b[49m\u001b[43mextra_query\u001b[49m\u001b[38;5;241;43m=\u001b[39;49m\u001b[43mextra_query\u001b[49m\u001b[43m,\u001b[49m\u001b[43m \u001b[49m\u001b[43mextra_body\u001b[49m\u001b[38;5;241;43m=\u001b[39;49m\u001b[43mextra_body\u001b[49m\u001b[43m,\u001b[49m\u001b[43m \u001b[49m\u001b[43mtimeout\u001b[49m\u001b[38;5;241;43m=\u001b[39;49m\u001b[43mtimeout\u001b[49m\n\u001b[1;32m    867\u001b[0m \u001b[43m        \u001b[49m\u001b[43m)\u001b[49m\u001b[43m,\u001b[49m\n\u001b[1;32m    868\u001b[0m \u001b[43m        \u001b[49m\u001b[43mcast_to\u001b[49m\u001b[38;5;241;43m=\u001b[39;49m\u001b[43mChatCompletion\u001b[49m\u001b[43m,\u001b[49m\n\u001b[1;32m    869\u001b[0m \u001b[43m        \u001b[49m\u001b[43mstream\u001b[49m\u001b[38;5;241;43m=\u001b[39;49m\u001b[43mstream\u001b[49m\u001b[43m \u001b[49m\u001b[38;5;129;43;01mor\u001b[39;49;00m\u001b[43m \u001b[49m\u001b[38;5;28;43;01mFalse\u001b[39;49;00m\u001b[43m,\u001b[49m\n\u001b[1;32m    870\u001b[0m \u001b[43m        \u001b[49m\u001b[43mstream_cls\u001b[49m\u001b[38;5;241;43m=\u001b[39;49m\u001b[43mStream\u001b[49m\u001b[43m[\u001b[49m\u001b[43mChatCompletionChunk\u001b[49m\u001b[43m]\u001b[49m\u001b[43m,\u001b[49m\n\u001b[1;32m    871\u001b[0m \u001b[43m    \u001b[49m\u001b[43m)\u001b[49m\n",
      "File \u001b[0;32m~/Documents/Columbia_Grad/LLM & DL System Performance/Project.nosync/COMS-6998-LLM-Final-Project/.venv/lib/python3.12/site-packages/openai/_base_client.py:1280\u001b[0m, in \u001b[0;36mSyncAPIClient.post\u001b[0;34m(self, path, cast_to, body, options, files, stream, stream_cls)\u001b[0m\n\u001b[1;32m   1266\u001b[0m \u001b[38;5;28;01mdef\u001b[39;00m \u001b[38;5;21mpost\u001b[39m(\n\u001b[1;32m   1267\u001b[0m     \u001b[38;5;28mself\u001b[39m,\n\u001b[1;32m   1268\u001b[0m     path: \u001b[38;5;28mstr\u001b[39m,\n\u001b[0;32m   (...)\u001b[0m\n\u001b[1;32m   1275\u001b[0m     stream_cls: \u001b[38;5;28mtype\u001b[39m[_StreamT] \u001b[38;5;241m|\u001b[39m \u001b[38;5;28;01mNone\u001b[39;00m \u001b[38;5;241m=\u001b[39m \u001b[38;5;28;01mNone\u001b[39;00m,\n\u001b[1;32m   1276\u001b[0m ) \u001b[38;5;241m-\u001b[39m\u001b[38;5;241m>\u001b[39m ResponseT \u001b[38;5;241m|\u001b[39m _StreamT:\n\u001b[1;32m   1277\u001b[0m     opts \u001b[38;5;241m=\u001b[39m FinalRequestOptions\u001b[38;5;241m.\u001b[39mconstruct(\n\u001b[1;32m   1278\u001b[0m         method\u001b[38;5;241m=\u001b[39m\u001b[38;5;124m\"\u001b[39m\u001b[38;5;124mpost\u001b[39m\u001b[38;5;124m\"\u001b[39m, url\u001b[38;5;241m=\u001b[39mpath, json_data\u001b[38;5;241m=\u001b[39mbody, files\u001b[38;5;241m=\u001b[39mto_httpx_files(files), \u001b[38;5;241m*\u001b[39m\u001b[38;5;241m*\u001b[39moptions\n\u001b[1;32m   1279\u001b[0m     )\n\u001b[0;32m-> 1280\u001b[0m     \u001b[38;5;28;01mreturn\u001b[39;00m cast(ResponseT, \u001b[38;5;28;43mself\u001b[39;49m\u001b[38;5;241;43m.\u001b[39;49m\u001b[43mrequest\u001b[49m\u001b[43m(\u001b[49m\u001b[43mcast_to\u001b[49m\u001b[43m,\u001b[49m\u001b[43m \u001b[49m\u001b[43mopts\u001b[49m\u001b[43m,\u001b[49m\u001b[43m \u001b[49m\u001b[43mstream\u001b[49m\u001b[38;5;241;43m=\u001b[39;49m\u001b[43mstream\u001b[49m\u001b[43m,\u001b[49m\u001b[43m \u001b[49m\u001b[43mstream_cls\u001b[49m\u001b[38;5;241;43m=\u001b[39;49m\u001b[43mstream_cls\u001b[49m\u001b[43m)\u001b[49m)\n",
      "File \u001b[0;32m~/Documents/Columbia_Grad/LLM & DL System Performance/Project.nosync/COMS-6998-LLM-Final-Project/.venv/lib/python3.12/site-packages/openai/_base_client.py:957\u001b[0m, in \u001b[0;36mSyncAPIClient.request\u001b[0;34m(self, cast_to, options, remaining_retries, stream, stream_cls)\u001b[0m\n\u001b[1;32m    954\u001b[0m \u001b[38;5;28;01melse\u001b[39;00m:\n\u001b[1;32m    955\u001b[0m     retries_taken \u001b[38;5;241m=\u001b[39m \u001b[38;5;241m0\u001b[39m\n\u001b[0;32m--> 957\u001b[0m \u001b[38;5;28;01mreturn\u001b[39;00m \u001b[38;5;28;43mself\u001b[39;49m\u001b[38;5;241;43m.\u001b[39;49m\u001b[43m_request\u001b[49m\u001b[43m(\u001b[49m\n\u001b[1;32m    958\u001b[0m \u001b[43m    \u001b[49m\u001b[43mcast_to\u001b[49m\u001b[38;5;241;43m=\u001b[39;49m\u001b[43mcast_to\u001b[49m\u001b[43m,\u001b[49m\n\u001b[1;32m    959\u001b[0m \u001b[43m    \u001b[49m\u001b[43moptions\u001b[49m\u001b[38;5;241;43m=\u001b[39;49m\u001b[43moptions\u001b[49m\u001b[43m,\u001b[49m\n\u001b[1;32m    960\u001b[0m \u001b[43m    \u001b[49m\u001b[43mstream\u001b[49m\u001b[38;5;241;43m=\u001b[39;49m\u001b[43mstream\u001b[49m\u001b[43m,\u001b[49m\n\u001b[1;32m    961\u001b[0m \u001b[43m    \u001b[49m\u001b[43mstream_cls\u001b[49m\u001b[38;5;241;43m=\u001b[39;49m\u001b[43mstream_cls\u001b[49m\u001b[43m,\u001b[49m\n\u001b[1;32m    962\u001b[0m \u001b[43m    \u001b[49m\u001b[43mretries_taken\u001b[49m\u001b[38;5;241;43m=\u001b[39;49m\u001b[43mretries_taken\u001b[49m\u001b[43m,\u001b[49m\n\u001b[1;32m    963\u001b[0m \u001b[43m\u001b[49m\u001b[43m)\u001b[49m\n",
      "File \u001b[0;32m~/Documents/Columbia_Grad/LLM & DL System Performance/Project.nosync/COMS-6998-LLM-Final-Project/.venv/lib/python3.12/site-packages/openai/_base_client.py:993\u001b[0m, in \u001b[0;36mSyncAPIClient._request\u001b[0;34m(self, cast_to, options, retries_taken, stream, stream_cls)\u001b[0m\n\u001b[1;32m    990\u001b[0m log\u001b[38;5;241m.\u001b[39mdebug(\u001b[38;5;124m\"\u001b[39m\u001b[38;5;124mSending HTTP Request: \u001b[39m\u001b[38;5;132;01m%s\u001b[39;00m\u001b[38;5;124m \u001b[39m\u001b[38;5;132;01m%s\u001b[39;00m\u001b[38;5;124m\"\u001b[39m, request\u001b[38;5;241m.\u001b[39mmethod, request\u001b[38;5;241m.\u001b[39murl)\n\u001b[1;32m    992\u001b[0m \u001b[38;5;28;01mtry\u001b[39;00m:\n\u001b[0;32m--> 993\u001b[0m     response \u001b[38;5;241m=\u001b[39m \u001b[38;5;28;43mself\u001b[39;49m\u001b[38;5;241;43m.\u001b[39;49m\u001b[43m_client\u001b[49m\u001b[38;5;241;43m.\u001b[39;49m\u001b[43msend\u001b[49m\u001b[43m(\u001b[49m\n\u001b[1;32m    994\u001b[0m \u001b[43m        \u001b[49m\u001b[43mrequest\u001b[49m\u001b[43m,\u001b[49m\n\u001b[1;32m    995\u001b[0m \u001b[43m        \u001b[49m\u001b[43mstream\u001b[49m\u001b[38;5;241;43m=\u001b[39;49m\u001b[43mstream\u001b[49m\u001b[43m \u001b[49m\u001b[38;5;129;43;01mor\u001b[39;49;00m\u001b[43m \u001b[49m\u001b[38;5;28;43mself\u001b[39;49m\u001b[38;5;241;43m.\u001b[39;49m\u001b[43m_should_stream_response_body\u001b[49m\u001b[43m(\u001b[49m\u001b[43mrequest\u001b[49m\u001b[38;5;241;43m=\u001b[39;49m\u001b[43mrequest\u001b[49m\u001b[43m)\u001b[49m\u001b[43m,\u001b[49m\n\u001b[1;32m    996\u001b[0m \u001b[43m        \u001b[49m\u001b[38;5;241;43m*\u001b[39;49m\u001b[38;5;241;43m*\u001b[39;49m\u001b[43mkwargs\u001b[49m\u001b[43m,\u001b[49m\n\u001b[1;32m    997\u001b[0m \u001b[43m    \u001b[49m\u001b[43m)\u001b[49m\n\u001b[1;32m    998\u001b[0m \u001b[38;5;28;01mexcept\u001b[39;00m httpx\u001b[38;5;241m.\u001b[39mTimeoutException \u001b[38;5;28;01mas\u001b[39;00m err:\n\u001b[1;32m    999\u001b[0m     log\u001b[38;5;241m.\u001b[39mdebug(\u001b[38;5;124m\"\u001b[39m\u001b[38;5;124mEncountered httpx.TimeoutException\u001b[39m\u001b[38;5;124m\"\u001b[39m, exc_info\u001b[38;5;241m=\u001b[39m\u001b[38;5;28;01mTrue\u001b[39;00m)\n",
      "File \u001b[0;32m~/Documents/Columbia_Grad/LLM & DL System Performance/Project.nosync/COMS-6998-LLM-Final-Project/.venv/lib/python3.12/site-packages/httpx/_client.py:926\u001b[0m, in \u001b[0;36mClient.send\u001b[0;34m(self, request, stream, auth, follow_redirects)\u001b[0m\n\u001b[1;32m    922\u001b[0m \u001b[38;5;28mself\u001b[39m\u001b[38;5;241m.\u001b[39m_set_timeout(request)\n\u001b[1;32m    924\u001b[0m auth \u001b[38;5;241m=\u001b[39m \u001b[38;5;28mself\u001b[39m\u001b[38;5;241m.\u001b[39m_build_request_auth(request, auth)\n\u001b[0;32m--> 926\u001b[0m response \u001b[38;5;241m=\u001b[39m \u001b[38;5;28;43mself\u001b[39;49m\u001b[38;5;241;43m.\u001b[39;49m\u001b[43m_send_handling_auth\u001b[49m\u001b[43m(\u001b[49m\n\u001b[1;32m    927\u001b[0m \u001b[43m    \u001b[49m\u001b[43mrequest\u001b[49m\u001b[43m,\u001b[49m\n\u001b[1;32m    928\u001b[0m \u001b[43m    \u001b[49m\u001b[43mauth\u001b[49m\u001b[38;5;241;43m=\u001b[39;49m\u001b[43mauth\u001b[49m\u001b[43m,\u001b[49m\n\u001b[1;32m    929\u001b[0m \u001b[43m    \u001b[49m\u001b[43mfollow_redirects\u001b[49m\u001b[38;5;241;43m=\u001b[39;49m\u001b[43mfollow_redirects\u001b[49m\u001b[43m,\u001b[49m\n\u001b[1;32m    930\u001b[0m \u001b[43m    \u001b[49m\u001b[43mhistory\u001b[49m\u001b[38;5;241;43m=\u001b[39;49m\u001b[43m[\u001b[49m\u001b[43m]\u001b[49m\u001b[43m,\u001b[49m\n\u001b[1;32m    931\u001b[0m \u001b[43m\u001b[49m\u001b[43m)\u001b[49m\n\u001b[1;32m    932\u001b[0m \u001b[38;5;28;01mtry\u001b[39;00m:\n\u001b[1;32m    933\u001b[0m     \u001b[38;5;28;01mif\u001b[39;00m \u001b[38;5;129;01mnot\u001b[39;00m stream:\n",
      "File \u001b[0;32m~/Documents/Columbia_Grad/LLM & DL System Performance/Project.nosync/COMS-6998-LLM-Final-Project/.venv/lib/python3.12/site-packages/httpx/_client.py:954\u001b[0m, in \u001b[0;36mClient._send_handling_auth\u001b[0;34m(self, request, auth, follow_redirects, history)\u001b[0m\n\u001b[1;32m    951\u001b[0m request \u001b[38;5;241m=\u001b[39m \u001b[38;5;28mnext\u001b[39m(auth_flow)\n\u001b[1;32m    953\u001b[0m \u001b[38;5;28;01mwhile\u001b[39;00m \u001b[38;5;28;01mTrue\u001b[39;00m:\n\u001b[0;32m--> 954\u001b[0m     response \u001b[38;5;241m=\u001b[39m \u001b[38;5;28;43mself\u001b[39;49m\u001b[38;5;241;43m.\u001b[39;49m\u001b[43m_send_handling_redirects\u001b[49m\u001b[43m(\u001b[49m\n\u001b[1;32m    955\u001b[0m \u001b[43m        \u001b[49m\u001b[43mrequest\u001b[49m\u001b[43m,\u001b[49m\n\u001b[1;32m    956\u001b[0m \u001b[43m        \u001b[49m\u001b[43mfollow_redirects\u001b[49m\u001b[38;5;241;43m=\u001b[39;49m\u001b[43mfollow_redirects\u001b[49m\u001b[43m,\u001b[49m\n\u001b[1;32m    957\u001b[0m \u001b[43m        \u001b[49m\u001b[43mhistory\u001b[49m\u001b[38;5;241;43m=\u001b[39;49m\u001b[43mhistory\u001b[49m\u001b[43m,\u001b[49m\n\u001b[1;32m    958\u001b[0m \u001b[43m    \u001b[49m\u001b[43m)\u001b[49m\n\u001b[1;32m    959\u001b[0m     \u001b[38;5;28;01mtry\u001b[39;00m:\n\u001b[1;32m    960\u001b[0m         \u001b[38;5;28;01mtry\u001b[39;00m:\n",
      "File \u001b[0;32m~/Documents/Columbia_Grad/LLM & DL System Performance/Project.nosync/COMS-6998-LLM-Final-Project/.venv/lib/python3.12/site-packages/httpx/_client.py:991\u001b[0m, in \u001b[0;36mClient._send_handling_redirects\u001b[0;34m(self, request, follow_redirects, history)\u001b[0m\n\u001b[1;32m    988\u001b[0m \u001b[38;5;28;01mfor\u001b[39;00m hook \u001b[38;5;129;01min\u001b[39;00m \u001b[38;5;28mself\u001b[39m\u001b[38;5;241m.\u001b[39m_event_hooks[\u001b[38;5;124m\"\u001b[39m\u001b[38;5;124mrequest\u001b[39m\u001b[38;5;124m\"\u001b[39m]:\n\u001b[1;32m    989\u001b[0m     hook(request)\n\u001b[0;32m--> 991\u001b[0m response \u001b[38;5;241m=\u001b[39m \u001b[38;5;28;43mself\u001b[39;49m\u001b[38;5;241;43m.\u001b[39;49m\u001b[43m_send_single_request\u001b[49m\u001b[43m(\u001b[49m\u001b[43mrequest\u001b[49m\u001b[43m)\u001b[49m\n\u001b[1;32m    992\u001b[0m \u001b[38;5;28;01mtry\u001b[39;00m:\n\u001b[1;32m    993\u001b[0m     \u001b[38;5;28;01mfor\u001b[39;00m hook \u001b[38;5;129;01min\u001b[39;00m \u001b[38;5;28mself\u001b[39m\u001b[38;5;241m.\u001b[39m_event_hooks[\u001b[38;5;124m\"\u001b[39m\u001b[38;5;124mresponse\u001b[39m\u001b[38;5;124m\"\u001b[39m]:\n",
      "File \u001b[0;32m~/Documents/Columbia_Grad/LLM & DL System Performance/Project.nosync/COMS-6998-LLM-Final-Project/.venv/lib/python3.12/site-packages/httpx/_client.py:1027\u001b[0m, in \u001b[0;36mClient._send_single_request\u001b[0;34m(self, request)\u001b[0m\n\u001b[1;32m   1022\u001b[0m     \u001b[38;5;28;01mraise\u001b[39;00m \u001b[38;5;167;01mRuntimeError\u001b[39;00m(\n\u001b[1;32m   1023\u001b[0m         \u001b[38;5;124m\"\u001b[39m\u001b[38;5;124mAttempted to send an async request with a sync Client instance.\u001b[39m\u001b[38;5;124m\"\u001b[39m\n\u001b[1;32m   1024\u001b[0m     )\n\u001b[1;32m   1026\u001b[0m \u001b[38;5;28;01mwith\u001b[39;00m request_context(request\u001b[38;5;241m=\u001b[39mrequest):\n\u001b[0;32m-> 1027\u001b[0m     response \u001b[38;5;241m=\u001b[39m \u001b[43mtransport\u001b[49m\u001b[38;5;241;43m.\u001b[39;49m\u001b[43mhandle_request\u001b[49m\u001b[43m(\u001b[49m\u001b[43mrequest\u001b[49m\u001b[43m)\u001b[49m\n\u001b[1;32m   1029\u001b[0m \u001b[38;5;28;01massert\u001b[39;00m \u001b[38;5;28misinstance\u001b[39m(response\u001b[38;5;241m.\u001b[39mstream, SyncByteStream)\n\u001b[1;32m   1031\u001b[0m response\u001b[38;5;241m.\u001b[39mrequest \u001b[38;5;241m=\u001b[39m request\n",
      "File \u001b[0;32m~/Documents/Columbia_Grad/LLM & DL System Performance/Project.nosync/COMS-6998-LLM-Final-Project/.venv/lib/python3.12/site-packages/httpx/_transports/default.py:236\u001b[0m, in \u001b[0;36mHTTPTransport.handle_request\u001b[0;34m(self, request)\u001b[0m\n\u001b[1;32m    223\u001b[0m req \u001b[38;5;241m=\u001b[39m httpcore\u001b[38;5;241m.\u001b[39mRequest(\n\u001b[1;32m    224\u001b[0m     method\u001b[38;5;241m=\u001b[39mrequest\u001b[38;5;241m.\u001b[39mmethod,\n\u001b[1;32m    225\u001b[0m     url\u001b[38;5;241m=\u001b[39mhttpcore\u001b[38;5;241m.\u001b[39mURL(\n\u001b[0;32m   (...)\u001b[0m\n\u001b[1;32m    233\u001b[0m     extensions\u001b[38;5;241m=\u001b[39mrequest\u001b[38;5;241m.\u001b[39mextensions,\n\u001b[1;32m    234\u001b[0m )\n\u001b[1;32m    235\u001b[0m \u001b[38;5;28;01mwith\u001b[39;00m map_httpcore_exceptions():\n\u001b[0;32m--> 236\u001b[0m     resp \u001b[38;5;241m=\u001b[39m \u001b[38;5;28;43mself\u001b[39;49m\u001b[38;5;241;43m.\u001b[39;49m\u001b[43m_pool\u001b[49m\u001b[38;5;241;43m.\u001b[39;49m\u001b[43mhandle_request\u001b[49m\u001b[43m(\u001b[49m\u001b[43mreq\u001b[49m\u001b[43m)\u001b[49m\n\u001b[1;32m    238\u001b[0m \u001b[38;5;28;01massert\u001b[39;00m \u001b[38;5;28misinstance\u001b[39m(resp\u001b[38;5;241m.\u001b[39mstream, typing\u001b[38;5;241m.\u001b[39mIterable)\n\u001b[1;32m    240\u001b[0m \u001b[38;5;28;01mreturn\u001b[39;00m Response(\n\u001b[1;32m    241\u001b[0m     status_code\u001b[38;5;241m=\u001b[39mresp\u001b[38;5;241m.\u001b[39mstatus,\n\u001b[1;32m    242\u001b[0m     headers\u001b[38;5;241m=\u001b[39mresp\u001b[38;5;241m.\u001b[39mheaders,\n\u001b[1;32m    243\u001b[0m     stream\u001b[38;5;241m=\u001b[39mResponseStream(resp\u001b[38;5;241m.\u001b[39mstream),\n\u001b[1;32m    244\u001b[0m     extensions\u001b[38;5;241m=\u001b[39mresp\u001b[38;5;241m.\u001b[39mextensions,\n\u001b[1;32m    245\u001b[0m )\n",
      "File \u001b[0;32m~/Documents/Columbia_Grad/LLM & DL System Performance/Project.nosync/COMS-6998-LLM-Final-Project/.venv/lib/python3.12/site-packages/httpcore/_sync/connection_pool.py:256\u001b[0m, in \u001b[0;36mConnectionPool.handle_request\u001b[0;34m(self, request)\u001b[0m\n\u001b[1;32m    253\u001b[0m         closing \u001b[38;5;241m=\u001b[39m \u001b[38;5;28mself\u001b[39m\u001b[38;5;241m.\u001b[39m_assign_requests_to_connections()\n\u001b[1;32m    255\u001b[0m     \u001b[38;5;28mself\u001b[39m\u001b[38;5;241m.\u001b[39m_close_connections(closing)\n\u001b[0;32m--> 256\u001b[0m     \u001b[38;5;28;01mraise\u001b[39;00m exc \u001b[38;5;28;01mfrom\u001b[39;00m \u001b[38;5;28;01mNone\u001b[39;00m\n\u001b[1;32m    258\u001b[0m \u001b[38;5;66;03m# Return the response. Note that in this case we still have to manage\u001b[39;00m\n\u001b[1;32m    259\u001b[0m \u001b[38;5;66;03m# the point at which the response is closed.\u001b[39;00m\n\u001b[1;32m    260\u001b[0m \u001b[38;5;28;01massert\u001b[39;00m \u001b[38;5;28misinstance\u001b[39m(response\u001b[38;5;241m.\u001b[39mstream, typing\u001b[38;5;241m.\u001b[39mIterable)\n",
      "File \u001b[0;32m~/Documents/Columbia_Grad/LLM & DL System Performance/Project.nosync/COMS-6998-LLM-Final-Project/.venv/lib/python3.12/site-packages/httpcore/_sync/connection_pool.py:236\u001b[0m, in \u001b[0;36mConnectionPool.handle_request\u001b[0;34m(self, request)\u001b[0m\n\u001b[1;32m    232\u001b[0m connection \u001b[38;5;241m=\u001b[39m pool_request\u001b[38;5;241m.\u001b[39mwait_for_connection(timeout\u001b[38;5;241m=\u001b[39mtimeout)\n\u001b[1;32m    234\u001b[0m \u001b[38;5;28;01mtry\u001b[39;00m:\n\u001b[1;32m    235\u001b[0m     \u001b[38;5;66;03m# Send the request on the assigned connection.\u001b[39;00m\n\u001b[0;32m--> 236\u001b[0m     response \u001b[38;5;241m=\u001b[39m \u001b[43mconnection\u001b[49m\u001b[38;5;241;43m.\u001b[39;49m\u001b[43mhandle_request\u001b[49m\u001b[43m(\u001b[49m\n\u001b[1;32m    237\u001b[0m \u001b[43m        \u001b[49m\u001b[43mpool_request\u001b[49m\u001b[38;5;241;43m.\u001b[39;49m\u001b[43mrequest\u001b[49m\n\u001b[1;32m    238\u001b[0m \u001b[43m    \u001b[49m\u001b[43m)\u001b[49m\n\u001b[1;32m    239\u001b[0m \u001b[38;5;28;01mexcept\u001b[39;00m ConnectionNotAvailable:\n\u001b[1;32m    240\u001b[0m     \u001b[38;5;66;03m# In some cases a connection may initially be available to\u001b[39;00m\n\u001b[1;32m    241\u001b[0m     \u001b[38;5;66;03m# handle a request, but then become unavailable.\u001b[39;00m\n\u001b[1;32m    242\u001b[0m     \u001b[38;5;66;03m#\u001b[39;00m\n\u001b[1;32m    243\u001b[0m     \u001b[38;5;66;03m# In this case we clear the connection and try again.\u001b[39;00m\n\u001b[1;32m    244\u001b[0m     pool_request\u001b[38;5;241m.\u001b[39mclear_connection()\n",
      "File \u001b[0;32m~/Documents/Columbia_Grad/LLM & DL System Performance/Project.nosync/COMS-6998-LLM-Final-Project/.venv/lib/python3.12/site-packages/httpcore/_sync/connection.py:103\u001b[0m, in \u001b[0;36mHTTPConnection.handle_request\u001b[0;34m(self, request)\u001b[0m\n\u001b[1;32m    100\u001b[0m     \u001b[38;5;28mself\u001b[39m\u001b[38;5;241m.\u001b[39m_connect_failed \u001b[38;5;241m=\u001b[39m \u001b[38;5;28;01mTrue\u001b[39;00m\n\u001b[1;32m    101\u001b[0m     \u001b[38;5;28;01mraise\u001b[39;00m exc\n\u001b[0;32m--> 103\u001b[0m \u001b[38;5;28;01mreturn\u001b[39;00m \u001b[38;5;28;43mself\u001b[39;49m\u001b[38;5;241;43m.\u001b[39;49m\u001b[43m_connection\u001b[49m\u001b[38;5;241;43m.\u001b[39;49m\u001b[43mhandle_request\u001b[49m\u001b[43m(\u001b[49m\u001b[43mrequest\u001b[49m\u001b[43m)\u001b[49m\n",
      "File \u001b[0;32m~/Documents/Columbia_Grad/LLM & DL System Performance/Project.nosync/COMS-6998-LLM-Final-Project/.venv/lib/python3.12/site-packages/httpcore/_sync/http11.py:136\u001b[0m, in \u001b[0;36mHTTP11Connection.handle_request\u001b[0;34m(self, request)\u001b[0m\n\u001b[1;32m    134\u001b[0m     \u001b[38;5;28;01mwith\u001b[39;00m Trace(\u001b[38;5;124m\"\u001b[39m\u001b[38;5;124mresponse_closed\u001b[39m\u001b[38;5;124m\"\u001b[39m, logger, request) \u001b[38;5;28;01mas\u001b[39;00m trace:\n\u001b[1;32m    135\u001b[0m         \u001b[38;5;28mself\u001b[39m\u001b[38;5;241m.\u001b[39m_response_closed()\n\u001b[0;32m--> 136\u001b[0m \u001b[38;5;28;01mraise\u001b[39;00m exc\n",
      "File \u001b[0;32m~/Documents/Columbia_Grad/LLM & DL System Performance/Project.nosync/COMS-6998-LLM-Final-Project/.venv/lib/python3.12/site-packages/httpcore/_sync/http11.py:106\u001b[0m, in \u001b[0;36mHTTP11Connection.handle_request\u001b[0;34m(self, request)\u001b[0m\n\u001b[1;32m     95\u001b[0m     \u001b[38;5;28;01mpass\u001b[39;00m\n\u001b[1;32m     97\u001b[0m \u001b[38;5;28;01mwith\u001b[39;00m Trace(\n\u001b[1;32m     98\u001b[0m     \u001b[38;5;124m\"\u001b[39m\u001b[38;5;124mreceive_response_headers\u001b[39m\u001b[38;5;124m\"\u001b[39m, logger, request, kwargs\n\u001b[1;32m     99\u001b[0m ) \u001b[38;5;28;01mas\u001b[39;00m trace:\n\u001b[1;32m    100\u001b[0m     (\n\u001b[1;32m    101\u001b[0m         http_version,\n\u001b[1;32m    102\u001b[0m         status,\n\u001b[1;32m    103\u001b[0m         reason_phrase,\n\u001b[1;32m    104\u001b[0m         headers,\n\u001b[1;32m    105\u001b[0m         trailing_data,\n\u001b[0;32m--> 106\u001b[0m     ) \u001b[38;5;241m=\u001b[39m \u001b[38;5;28;43mself\u001b[39;49m\u001b[38;5;241;43m.\u001b[39;49m\u001b[43m_receive_response_headers\u001b[49m\u001b[43m(\u001b[49m\u001b[38;5;241;43m*\u001b[39;49m\u001b[38;5;241;43m*\u001b[39;49m\u001b[43mkwargs\u001b[49m\u001b[43m)\u001b[49m\n\u001b[1;32m    107\u001b[0m     trace\u001b[38;5;241m.\u001b[39mreturn_value \u001b[38;5;241m=\u001b[39m (\n\u001b[1;32m    108\u001b[0m         http_version,\n\u001b[1;32m    109\u001b[0m         status,\n\u001b[1;32m    110\u001b[0m         reason_phrase,\n\u001b[1;32m    111\u001b[0m         headers,\n\u001b[1;32m    112\u001b[0m     )\n\u001b[1;32m    114\u001b[0m network_stream \u001b[38;5;241m=\u001b[39m \u001b[38;5;28mself\u001b[39m\u001b[38;5;241m.\u001b[39m_network_stream\n",
      "File \u001b[0;32m~/Documents/Columbia_Grad/LLM & DL System Performance/Project.nosync/COMS-6998-LLM-Final-Project/.venv/lib/python3.12/site-packages/httpcore/_sync/http11.py:177\u001b[0m, in \u001b[0;36mHTTP11Connection._receive_response_headers\u001b[0;34m(self, request)\u001b[0m\n\u001b[1;32m    174\u001b[0m timeout \u001b[38;5;241m=\u001b[39m timeouts\u001b[38;5;241m.\u001b[39mget(\u001b[38;5;124m\"\u001b[39m\u001b[38;5;124mread\u001b[39m\u001b[38;5;124m\"\u001b[39m, \u001b[38;5;28;01mNone\u001b[39;00m)\n\u001b[1;32m    176\u001b[0m \u001b[38;5;28;01mwhile\u001b[39;00m \u001b[38;5;28;01mTrue\u001b[39;00m:\n\u001b[0;32m--> 177\u001b[0m     event \u001b[38;5;241m=\u001b[39m \u001b[38;5;28;43mself\u001b[39;49m\u001b[38;5;241;43m.\u001b[39;49m\u001b[43m_receive_event\u001b[49m\u001b[43m(\u001b[49m\u001b[43mtimeout\u001b[49m\u001b[38;5;241;43m=\u001b[39;49m\u001b[43mtimeout\u001b[49m\u001b[43m)\u001b[49m\n\u001b[1;32m    178\u001b[0m     \u001b[38;5;28;01mif\u001b[39;00m \u001b[38;5;28misinstance\u001b[39m(event, h11\u001b[38;5;241m.\u001b[39mResponse):\n\u001b[1;32m    179\u001b[0m         \u001b[38;5;28;01mbreak\u001b[39;00m\n",
      "File \u001b[0;32m~/Documents/Columbia_Grad/LLM & DL System Performance/Project.nosync/COMS-6998-LLM-Final-Project/.venv/lib/python3.12/site-packages/httpcore/_sync/http11.py:217\u001b[0m, in \u001b[0;36mHTTP11Connection._receive_event\u001b[0;34m(self, timeout)\u001b[0m\n\u001b[1;32m    214\u001b[0m     event \u001b[38;5;241m=\u001b[39m \u001b[38;5;28mself\u001b[39m\u001b[38;5;241m.\u001b[39m_h11_state\u001b[38;5;241m.\u001b[39mnext_event()\n\u001b[1;32m    216\u001b[0m \u001b[38;5;28;01mif\u001b[39;00m event \u001b[38;5;129;01mis\u001b[39;00m h11\u001b[38;5;241m.\u001b[39mNEED_DATA:\n\u001b[0;32m--> 217\u001b[0m     data \u001b[38;5;241m=\u001b[39m \u001b[38;5;28;43mself\u001b[39;49m\u001b[38;5;241;43m.\u001b[39;49m\u001b[43m_network_stream\u001b[49m\u001b[38;5;241;43m.\u001b[39;49m\u001b[43mread\u001b[49m\u001b[43m(\u001b[49m\n\u001b[1;32m    218\u001b[0m \u001b[43m        \u001b[49m\u001b[38;5;28;43mself\u001b[39;49m\u001b[38;5;241;43m.\u001b[39;49m\u001b[43mREAD_NUM_BYTES\u001b[49m\u001b[43m,\u001b[49m\u001b[43m \u001b[49m\u001b[43mtimeout\u001b[49m\u001b[38;5;241;43m=\u001b[39;49m\u001b[43mtimeout\u001b[49m\n\u001b[1;32m    219\u001b[0m \u001b[43m    \u001b[49m\u001b[43m)\u001b[49m\n\u001b[1;32m    221\u001b[0m     \u001b[38;5;66;03m# If we feed this case through h11 we'll raise an exception like:\u001b[39;00m\n\u001b[1;32m    222\u001b[0m     \u001b[38;5;66;03m#\u001b[39;00m\n\u001b[1;32m    223\u001b[0m     \u001b[38;5;66;03m#     httpcore.RemoteProtocolError: can't handle event type\u001b[39;00m\n\u001b[0;32m   (...)\u001b[0m\n\u001b[1;32m    227\u001b[0m     \u001b[38;5;66;03m# perspective. Instead we handle this case distinctly and treat\u001b[39;00m\n\u001b[1;32m    228\u001b[0m     \u001b[38;5;66;03m# it as a ConnectError.\u001b[39;00m\n\u001b[1;32m    229\u001b[0m     \u001b[38;5;28;01mif\u001b[39;00m data \u001b[38;5;241m==\u001b[39m \u001b[38;5;124mb\u001b[39m\u001b[38;5;124m\"\u001b[39m\u001b[38;5;124m\"\u001b[39m \u001b[38;5;129;01mand\u001b[39;00m \u001b[38;5;28mself\u001b[39m\u001b[38;5;241m.\u001b[39m_h11_state\u001b[38;5;241m.\u001b[39mtheir_state \u001b[38;5;241m==\u001b[39m h11\u001b[38;5;241m.\u001b[39mSEND_RESPONSE:\n",
      "File \u001b[0;32m~/Documents/Columbia_Grad/LLM & DL System Performance/Project.nosync/COMS-6998-LLM-Final-Project/.venv/lib/python3.12/site-packages/httpcore/_backends/sync.py:128\u001b[0m, in \u001b[0;36mSyncStream.read\u001b[0;34m(self, max_bytes, timeout)\u001b[0m\n\u001b[1;32m    126\u001b[0m \u001b[38;5;28;01mwith\u001b[39;00m map_exceptions(exc_map):\n\u001b[1;32m    127\u001b[0m     \u001b[38;5;28mself\u001b[39m\u001b[38;5;241m.\u001b[39m_sock\u001b[38;5;241m.\u001b[39msettimeout(timeout)\n\u001b[0;32m--> 128\u001b[0m     \u001b[38;5;28;01mreturn\u001b[39;00m \u001b[38;5;28;43mself\u001b[39;49m\u001b[38;5;241;43m.\u001b[39;49m\u001b[43m_sock\u001b[49m\u001b[38;5;241;43m.\u001b[39;49m\u001b[43mrecv\u001b[49m\u001b[43m(\u001b[49m\u001b[43mmax_bytes\u001b[49m\u001b[43m)\u001b[49m\n",
      "File \u001b[0;32m/Library/Frameworks/Python.framework/Versions/3.12/lib/python3.12/ssl.py:1233\u001b[0m, in \u001b[0;36mSSLSocket.recv\u001b[0;34m(self, buflen, flags)\u001b[0m\n\u001b[1;32m   1229\u001b[0m     \u001b[38;5;28;01mif\u001b[39;00m flags \u001b[38;5;241m!=\u001b[39m \u001b[38;5;241m0\u001b[39m:\n\u001b[1;32m   1230\u001b[0m         \u001b[38;5;28;01mraise\u001b[39;00m \u001b[38;5;167;01mValueError\u001b[39;00m(\n\u001b[1;32m   1231\u001b[0m             \u001b[38;5;124m\"\u001b[39m\u001b[38;5;124mnon-zero flags not allowed in calls to recv() on \u001b[39m\u001b[38;5;132;01m%s\u001b[39;00m\u001b[38;5;124m\"\u001b[39m \u001b[38;5;241m%\u001b[39m\n\u001b[1;32m   1232\u001b[0m             \u001b[38;5;28mself\u001b[39m\u001b[38;5;241m.\u001b[39m\u001b[38;5;18m__class__\u001b[39m)\n\u001b[0;32m-> 1233\u001b[0m     \u001b[38;5;28;01mreturn\u001b[39;00m \u001b[38;5;28;43mself\u001b[39;49m\u001b[38;5;241;43m.\u001b[39;49m\u001b[43mread\u001b[49m\u001b[43m(\u001b[49m\u001b[43mbuflen\u001b[49m\u001b[43m)\u001b[49m\n\u001b[1;32m   1234\u001b[0m \u001b[38;5;28;01melse\u001b[39;00m:\n\u001b[1;32m   1235\u001b[0m     \u001b[38;5;28;01mreturn\u001b[39;00m \u001b[38;5;28msuper\u001b[39m()\u001b[38;5;241m.\u001b[39mrecv(buflen, flags)\n",
      "File \u001b[0;32m/Library/Frameworks/Python.framework/Versions/3.12/lib/python3.12/ssl.py:1106\u001b[0m, in \u001b[0;36mSSLSocket.read\u001b[0;34m(self, len, buffer)\u001b[0m\n\u001b[1;32m   1104\u001b[0m         \u001b[38;5;28;01mreturn\u001b[39;00m \u001b[38;5;28mself\u001b[39m\u001b[38;5;241m.\u001b[39m_sslobj\u001b[38;5;241m.\u001b[39mread(\u001b[38;5;28mlen\u001b[39m, buffer)\n\u001b[1;32m   1105\u001b[0m     \u001b[38;5;28;01melse\u001b[39;00m:\n\u001b[0;32m-> 1106\u001b[0m         \u001b[38;5;28;01mreturn\u001b[39;00m \u001b[38;5;28;43mself\u001b[39;49m\u001b[38;5;241;43m.\u001b[39;49m\u001b[43m_sslobj\u001b[49m\u001b[38;5;241;43m.\u001b[39;49m\u001b[43mread\u001b[49m\u001b[43m(\u001b[49m\u001b[38;5;28;43mlen\u001b[39;49m\u001b[43m)\u001b[49m\n\u001b[1;32m   1107\u001b[0m \u001b[38;5;28;01mexcept\u001b[39;00m SSLError \u001b[38;5;28;01mas\u001b[39;00m x:\n\u001b[1;32m   1108\u001b[0m     \u001b[38;5;28;01mif\u001b[39;00m x\u001b[38;5;241m.\u001b[39margs[\u001b[38;5;241m0\u001b[39m] \u001b[38;5;241m==\u001b[39m SSL_ERROR_EOF \u001b[38;5;129;01mand\u001b[39;00m \u001b[38;5;28mself\u001b[39m\u001b[38;5;241m.\u001b[39msuppress_ragged_eofs:\n",
      "\u001b[0;31mKeyboardInterrupt\u001b[0m: "
=======
      "5 - Time Spent: 16.413978665950708, Number of Errors: 0\n",
      "10 - Time Spent: 17.447905000008177, Number of Errors: 0\n",
      "15 - Time Spent: 18.266000291972887, Number of Errors: 0\n",
      "20 - Time Spent: 11.97698695899453, Number of Errors: 0\n",
      "25 - Time Spent: 16.13057416601805, Number of Errors: 0\n",
      "30 - Time Spent: 10.926576166995801, Number of Errors: 0\n",
      "35 - Time Spent: 13.710724624979775, Number of Errors: 0\n",
      "40 - Time Spent: 10.657069500011858, Number of Errors: 0\n",
      "45 - Time Spent: 19.755867750034668, Number of Errors: 0\n",
      "50 - Time Spent: 13.03439366701059, Number of Errors: 0\n",
      "55 - Time Spent: 12.324554249993525, Number of Errors: 0\n",
      "60 - Time Spent: 15.299843166954815, Number of Errors: 0\n",
      "65 - Time Spent: 12.222618040977977, Number of Errors: 0\n",
      "70 - Time Spent: 17.312169749988243, Number of Errors: 0\n",
      "75 - Time Spent: 15.756793124950491, Number of Errors: 0\n",
      "80 - Time Spent: 12.351058083004318, Number of Errors: 0\n",
      "85 - Time Spent: 18.340523791965097, Number of Errors: 0\n",
      "90 - Time Spent: 14.913129209016915, Number of Errors: 0\n",
      "95 - Time Spent: 11.933430500037502, Number of Errors: 0\n",
      "100 - Time Spent: 15.815238124981988, Number of Errors: 0\n",
      "105 - Time Spent: 11.135289750003722, Number of Errors: 0\n",
      "110 - Time Spent: 16.729768124991097, Number of Errors: 0\n",
      "115 - Time Spent: 15.40482549997978, Number of Errors: 0\n",
      "120 - Time Spent: 11.701602249988355, Number of Errors: 0\n",
      "125 - Time Spent: 14.058055875007994, Number of Errors: 0\n",
      "130 - Time Spent: 18.783511624962557, Number of Errors: 0\n",
      "135 - Time Spent: 18.411851625016425, Number of Errors: 0\n",
      "140 - Time Spent: 11.180261290981434, Number of Errors: 0\n",
      "145 - Time Spent: 14.790179374977015, Number of Errors: 0\n",
      "150 - Time Spent: 21.169564625015482, Number of Errors: 0\n",
      "155 - Time Spent: 10.665164000005461, Number of Errors: 0\n",
      "160 - Time Spent: 18.484352999948896, Number of Errors: 0\n",
      "165 - Time Spent: 13.318609666952398, Number of Errors: 0\n",
      "170 - Time Spent: 16.2070955420495, Number of Errors: 0\n",
      "175 - Time Spent: 15.876750874973368, Number of Errors: 0\n",
      "180 - Time Spent: 15.167170583968982, Number of Errors: 0\n",
      "185 - Time Spent: 12.746847999980673, Number of Errors: 0\n",
      "190 - Time Spent: 19.940420333994552, Number of Errors: 0\n",
      "195 - Time Spent: 13.206705416960176, Number of Errors: 0\n",
      "200 - Time Spent: 14.989256875007413, Number of Errors: 0\n",
      "205 - Time Spent: 12.83570541604422, Number of Errors: 0\n",
      "210 - Time Spent: 22.293921625008807, Number of Errors: 0\n",
      "215 - Time Spent: 93.14486554200994, Number of Errors: 0\n",
      "220 - Time Spent: 17.062699417001568, Number of Errors: 0\n",
      "225 - Time Spent: 10.676820041029714, Number of Errors: 0\n",
      "230 - Time Spent: 12.855799542041495, Number of Errors: 0\n",
      "235 - Time Spent: 9.266645541996695, Number of Errors: 0\n",
      "240 - Time Spent: 15.188244624994695, Number of Errors: 0\n",
      "245 - Time Spent: 15.982697915984318, Number of Errors: 0\n",
      "250 - Time Spent: 16.937088624981698, Number of Errors: 0\n",
      "255 - Time Spent: 30.20147495897254, Number of Errors: 0\n",
      "260 - Time Spent: 17.055464582983404, Number of Errors: 0\n",
      "265 - Time Spent: 19.524142833950464, Number of Errors: 0\n",
      "270 - Time Spent: 14.513207166979555, Number of Errors: 0\n",
      "275 - Time Spent: 14.279421459010337, Number of Errors: 0\n",
      "280 - Time Spent: 25.89638166601071, Number of Errors: 0\n",
      "285 - Time Spent: 14.865316707990132, Number of Errors: 0\n",
      "290 - Time Spent: 22.044864957977552, Number of Errors: 0\n",
      "295 - Time Spent: 18.110480709001422, Number of Errors: 0\n",
      "300 - Time Spent: 20.89534366701264, Number of Errors: 0\n",
      "305 - Time Spent: 22.40812629100401, Number of Errors: 0\n",
      "310 - Time Spent: 19.985097124997992, Number of Errors: 0\n",
      "315 - Time Spent: 17.15339941700222, Number of Errors: 0\n",
      "320 - Time Spent: 14.17704329197295, Number of Errors: 0\n",
      "325 - Time Spent: 22.00161208299687, Number of Errors: 0\n",
      "330 - Time Spent: 19.793791542004328, Number of Errors: 0\n",
      "335 - Time Spent: 15.05604791699443, Number of Errors: 0\n",
      "340 - Time Spent: 21.61756287503522, Number of Errors: 0\n",
      "345 - Time Spent: 15.06614054099191, Number of Errors: 0\n",
      "350 - Time Spent: 20.636346416024026, Number of Errors: 0\n",
      "355 - Time Spent: 14.692567707970738, Number of Errors: 0\n",
      "360 - Time Spent: 17.097554291016422, Number of Errors: 0\n",
      "365 - Time Spent: 17.15470870799618, Number of Errors: 0\n",
      "370 - Time Spent: 18.92726304201642, Number of Errors: 0\n",
      "375 - Time Spent: 12.254648083995562, Number of Errors: 0\n",
      "380 - Time Spent: 13.681798500008881, Number of Errors: 0\n",
      "385 - Time Spent: 15.847513250017073, Number of Errors: 0\n",
      "390 - Time Spent: 18.4041074590059, Number of Errors: 0\n",
      "395 - Time Spent: 21.150289458048064, Number of Errors: 0\n",
      "400 - Time Spent: 17.242876958975103, Number of Errors: 0\n",
      "405 - Time Spent: 12.84170054103015, Number of Errors: 0\n",
      "410 - Time Spent: 20.90991395805031, Number of Errors: 0\n",
      "415 - Time Spent: 19.716931417002343, Number of Errors: 0\n",
      "420 - Time Spent: 12.78794479201315, Number of Errors: 0\n",
      "425 - Time Spent: 20.84187775000464, Number of Errors: 0\n",
      "430 - Time Spent: 18.851998290978372, Number of Errors: 0\n",
      "435 - Time Spent: 19.211515624949243, Number of Errors: 0\n",
      "440 - Time Spent: 17.029882542032283, Number of Errors: 0\n",
      "445 - Time Spent: 17.96585129102459, Number of Errors: 0\n",
      "450 - Time Spent: 15.12628779100487, Number of Errors: 0\n",
      "455 - Time Spent: 17.195538332976867, Number of Errors: 0\n",
      "460 - Time Spent: 18.438591499987524, Number of Errors: 0\n",
      "465 - Time Spent: 14.636654334026389, Number of Errors: 0\n",
      "470 - Time Spent: 19.866760917007923, Number of Errors: 0\n",
      "475 - Time Spent: 18.39254508301383, Number of Errors: 0\n",
      "480 - Time Spent: 18.285396541003138, Number of Errors: 0\n",
      "485 - Time Spent: 19.47251645900542, Number of Errors: 0\n",
      "490 - Time Spent: 14.381984457955696, Number of Errors: 0\n",
      "495 - Time Spent: 18.145328500017058, Number of Errors: 0\n",
      "500 - Time Spent: 20.622048749995884, Number of Errors: 0\n",
      "505 - Time Spent: 25.08178729104111, Number of Errors: 0\n",
      "510 - Time Spent: 17.91849191702204, Number of Errors: 0\n",
      "515 - Time Spent: 12.622342584014405, Number of Errors: 0\n",
      "520 - Time Spent: 14.598039333999623, Number of Errors: 0\n",
      "525 - Time Spent: 17.010412041970994, Number of Errors: 0\n",
      "530 - Time Spent: 16.32664962502895, Number of Errors: 0\n",
      "535 - Time Spent: 14.360810499987565, Number of Errors: 0\n",
      "540 - Time Spent: 16.335602957988158, Number of Errors: 0\n",
      "545 - Time Spent: 23.79246091702953, Number of Errors: 0\n",
      "550 - Time Spent: 14.078035457991064, Number of Errors: 0\n",
      "555 - Time Spent: 21.143334624997806, Number of Errors: 0\n",
      "560 - Time Spent: 22.475324583996553, Number of Errors: 0\n",
      "565 - Time Spent: 17.887267374957446, Number of Errors: 0\n",
      "570 - Time Spent: 622.7858300830121, Number of Errors: 0\n",
      "575 - Time Spent: 21.443617500015534, Number of Errors: 0\n",
      "580 - Time Spent: 16.42190291697625, Number of Errors: 0\n",
      "585 - Time Spent: 16.303558167011943, Number of Errors: 0\n",
      "590 - Time Spent: 19.152309166966006, Number of Errors: 0\n",
      "595 - Time Spent: 23.85561712499475, Number of Errors: 0\n",
      "600 - Time Spent: 17.343104333034717, Number of Errors: 0\n",
      "605 - Time Spent: 19.623915750009473, Number of Errors: 0\n",
      "610 - Time Spent: 21.60008345899405, Number of Errors: 0\n",
      "615 - Time Spent: 22.43536766699981, Number of Errors: 0\n",
      "620 - Time Spent: 19.801481709000655, Number of Errors: 0\n",
      "625 - Time Spent: 16.548151540977415, Number of Errors: 0\n",
      "630 - Time Spent: 24.810759207990486, Number of Errors: 0\n",
      "635 - Time Spent: 22.286343917017803, Number of Errors: 0\n",
      "640 - Time Spent: 18.74021233303938, Number of Errors: 0\n",
      "645 - Time Spent: 19.989822416973766, Number of Errors: 0\n",
      "650 - Time Spent: 67.31824945798144, Number of Errors: 0\n",
      "655 - Time Spent: 19.44552066596225, Number of Errors: 0\n",
      "660 - Time Spent: 12.472746249986812, Number of Errors: 0\n",
      "665 - Time Spent: 16.750579667044804, Number of Errors: 0\n",
      "670 - Time Spent: 15.505804958986118, Number of Errors: 0\n",
      "675 - Time Spent: 22.6297727090423, Number of Errors: 0\n",
      "680 - Time Spent: 19.946967166964896, Number of Errors: 0\n",
      "685 - Time Spent: 19.375409249973018, Number of Errors: 0\n",
      "690 - Time Spent: 20.79822850000346, Number of Errors: 0\n",
      "695 - Time Spent: 15.762253000051714, Number of Errors: 0\n",
      "700 - Time Spent: 17.304211292008404, Number of Errors: 0\n",
      "705 - Time Spent: 18.965046041994356, Number of Errors: 0\n",
      "710 - Time Spent: 17.795388791011646, Number of Errors: 0\n",
      "715 - Time Spent: 18.025750415981747, Number of Errors: 0\n",
      "720 - Time Spent: 615.6563689580071, Number of Errors: 0\n",
      "725 - Time Spent: 623.2473844580236, Number of Errors: 0\n",
      "730 - Time Spent: 626.353748457972, Number of Errors: 0\n",
      "735 - Time Spent: 29.61497729201801, Number of Errors: 0\n",
      "740 - Time Spent: 31.688231542007998, Number of Errors: 0\n",
      "745 - Time Spent: 17.486416874977294, Number of Errors: 0\n",
      "750 - Time Spent: 15.78667374997167, Number of Errors: 0\n",
      "755 - Time Spent: 26.564982415991835, Number of Errors: 0\n",
      "760 - Time Spent: 21.712172832980286, Number of Errors: 0\n",
      "765 - Time Spent: 23.345629083982203, Number of Errors: 0\n",
      "770 - Time Spent: 27.134874667041004, Number of Errors: 0\n",
      "775 - Time Spent: 20.528274208016228, Number of Errors: 0\n",
      "780 - Time Spent: 19.263101375021506, Number of Errors: 0\n",
      "785 - Time Spent: 24.105624874995556, Number of Errors: 0\n",
      "790 - Time Spent: 626.6027330830111, Number of Errors: 0\n",
      "795 - Time Spent: 16.790992958005518, Number of Errors: 0\n",
      "800 - Time Spent: 29.750938749988563, Number of Errors: 0\n",
      "805 - Time Spent: 20.908788459026255, Number of Errors: 0\n",
      "810 - Time Spent: 18.28573366603814, Number of Errors: 0\n",
      "815 - Time Spent: 24.1249330410501, Number of Errors: 0\n",
      "820 - Time Spent: 20.1554603750119, Number of Errors: 0\n",
      "825 - Time Spent: 21.19688695797231, Number of Errors: 0\n",
      "830 - Time Spent: 18.1239917500061, Number of Errors: 0\n",
      "835 - Time Spent: 18.94454516703263, Number of Errors: 0\n",
      "840 - Time Spent: 22.426755458000116, Number of Errors: 0\n",
      "845 - Time Spent: 26.680739749979693, Number of Errors: 0\n",
      "850 - Time Spent: 17.691325249965303, Number of Errors: 0\n",
      "855 - Time Spent: 16.355521375022363, Number of Errors: 0\n",
      "860 - Time Spent: 24.061519625014625, Number of Errors: 0\n",
      "865 - Time Spent: 25.720088875037618, Number of Errors: 0\n",
      "870 - Time Spent: 27.531110999989323, Number of Errors: 0\n",
      "875 - Time Spent: 23.75287520798156, Number of Errors: 0\n",
      "880 - Time Spent: 20.99569337500725, Number of Errors: 0\n",
      "885 - Time Spent: 18.635887834010646, Number of Errors: 0\n",
      "890 - Time Spent: 70.64605337497778, Number of Errors: 0\n",
      "895 - Time Spent: 15.664925874967594, Number of Errors: 0\n",
      "900 - Time Spent: 13.19089712499408, Number of Errors: 0\n",
      "905 - Time Spent: 23.15362079202896, Number of Errors: 0\n",
      "910 - Time Spent: 18.338957750005648, Number of Errors: 0\n",
      "915 - Time Spent: 20.686389875016175, Number of Errors: 0\n",
      "920 - Time Spent: 24.371419415983837, Number of Errors: 0\n",
      "925 - Time Spent: 17.881733874964993, Number of Errors: 0\n",
      "930 - Time Spent: 23.041189292038325, Number of Errors: 0\n",
      "935 - Time Spent: 20.502300166990608, Number of Errors: 0\n",
      "940 - Time Spent: 21.665961667022202, Number of Errors: 0\n",
      "945 - Time Spent: 22.197548708005343, Number of Errors: 0\n",
      "950 - Time Spent: 18.104744791984558, Number of Errors: 0\n",
      "955 - Time Spent: 15.871149541984778, Number of Errors: 0\n",
      "960 - Time Spent: 37.17320808401564, Number of Errors: 0\n",
      "965 - Time Spent: 33.74967770802323, Number of Errors: 0\n",
      "970 - Time Spent: 22.8792659160099, Number of Errors: 0\n",
      "975 - Time Spent: 20.279498249990866, Number of Errors: 0\n",
      "980 - Time Spent: 29.18269062496256, Number of Errors: 0\n",
      "985 - Time Spent: 23.63448329200037, Number of Errors: 0\n",
      "990 - Time Spent: 20.190624625014607, Number of Errors: 0\n",
      "995 - Time Spent: 27.049422250012867, Number of Errors: 0\n",
      "1000 - Time Spent: 16.265956375049427, Number of Errors: 0\n",
      "1005 - Time Spent: 18.777272083971184, Number of Errors: 0\n",
      "1010 - Time Spent: 19.370446916029323, Number of Errors: 0\n",
      "1015 - Time Spent: 16.11702708300436, Number of Errors: 0\n",
      "1020 - Time Spent: 23.600825708999764, Number of Errors: 0\n",
      "1025 - Time Spent: 20.546469292021357, Number of Errors: 0\n",
      "1030 - Time Spent: 17.341440416988917, Number of Errors: 0\n",
      "1035 - Time Spent: 19.046543875010684, Number of Errors: 0\n",
      "1040 - Time Spent: 24.06717962503899, Number of Errors: 0\n",
      "1045 - Time Spent: 19.252974208968226, Number of Errors: 0\n",
      "1050 - Time Spent: 22.318355499999598, Number of Errors: 0\n",
      "1055 - Time Spent: 25.807156625029165, Number of Errors: 0\n",
      "1060 - Time Spent: 19.761647332983557, Number of Errors: 0\n",
      "1065 - Time Spent: 27.756283833005, Number of Errors: 0\n",
      "1070 - Time Spent: 23.139413917029742, Number of Errors: 0\n",
      "1075 - Time Spent: 21.397872292029206, Number of Errors: 0\n",
      "1080 - Time Spent: 12.806794417032506, Number of Errors: 0\n",
      "1085 - Time Spent: 23.652410083042923, Number of Errors: 0\n",
      "1090 - Time Spent: 22.219975791987963, Number of Errors: 0\n",
      "1095 - Time Spent: 23.450796458986588, Number of Errors: 0\n",
      "1100 - Time Spent: 16.328491125022992, Number of Errors: 0\n",
      "1105 - Time Spent: 17.461410083982628, Number of Errors: 0\n",
      "1110 - Time Spent: 14.338901542010717, Number of Errors: 0\n",
      "1115 - Time Spent: 26.522111083031632, Number of Errors: 0\n",
      "1120 - Time Spent: 25.14637449994916, Number of Errors: 0\n",
      "1125 - Time Spent: 21.735582249995787, Number of Errors: 0\n",
      "1130 - Time Spent: 19.474061667046044, Number of Errors: 0\n",
      "1135 - Time Spent: 17.712934375042096, Number of Errors: 0\n",
      "1140 - Time Spent: 23.454828208021354, Number of Errors: 0\n",
      "1145 - Time Spent: 13.723391167004593, Number of Errors: 0\n",
      "1150 - Time Spent: 31.147940125025343, Number of Errors: 0\n",
      "1155 - Time Spent: 625.4618131670286, Number of Errors: 0\n",
      "1160 - Time Spent: 31.343248083954677, Number of Errors: 0\n",
      "1165 - Time Spent: 29.495232874993235, Number of Errors: 0\n",
      "1170 - Time Spent: 26.831439333036542, Number of Errors: 0\n",
      "1175 - Time Spent: 26.82681566698011, Number of Errors: 0\n",
      "1180 - Time Spent: 30.862277458014432, Number of Errors: 0\n",
      "1185 - Time Spent: 25.867847832967527, Number of Errors: 0\n",
      "1190 - Time Spent: 27.332007042015903, Number of Errors: 0\n",
      "1195 - Time Spent: 22.195112082990818, Number of Errors: 0\n",
      "1200 - Time Spent: 25.5341925410321, Number of Errors: 0\n",
      "1205 - Time Spent: 618.8119847089984, Number of Errors: 0\n",
      "1210 - Time Spent: 16.076827624987345, Number of Errors: 0\n",
      "1215 - Time Spent: 25.749606082972605, Number of Errors: 0\n",
      "1220 - Time Spent: 18.992519500025082, Number of Errors: 0\n",
      "1225 - Time Spent: 29.70256399997743, Number of Errors: 0\n",
      "1230 - Time Spent: 31.43575091601815, Number of Errors: 0\n",
      "1235 - Time Spent: 30.20711175003089, Number of Errors: 0\n",
      "1240 - Time Spent: 18.259213999961503, Number of Errors: 0\n",
      "1245 - Time Spent: 19.835038833029103, Number of Errors: 0\n",
      "1250 - Time Spent: 25.192159250029363, Number of Errors: 0\n",
      "1255 - Time Spent: 26.126070750004146, Number of Errors: 0\n",
      "1260 - Time Spent: 11.902186582970899, Number of Errors: 0\n",
      "1265 - Time Spent: 27.50150004104944, Number of Errors: 0\n",
      "1270 - Time Spent: 14.653306125022937, Number of Errors: 0\n",
      "1275 - Time Spent: 10.441666166996583, Number of Errors: 0\n",
      "1280 - Time Spent: 28.058872624998912, Number of Errors: 0\n",
      "1285 - Time Spent: 19.964807207987178, Number of Errors: 0\n",
      "1290 - Time Spent: 21.10188895900501, Number of Errors: 0\n",
      "1295 - Time Spent: 621.2677220419864, Number of Errors: 0\n",
      "1300 - Time Spent: 16.695723874960095, Number of Errors: 0\n",
      "1305 - Time Spent: 124.43607637495734, Number of Errors: 0\n",
      "1310 - Time Spent: 18.05056574998889, Number of Errors: 0\n",
      "1315 - Time Spent: 14.796012917009648, Number of Errors: 0\n",
      "1320 - Time Spent: 21.633889082993846, Number of Errors: 0\n",
      "1325 - Time Spent: 17.607798415992875, Number of Errors: 0\n",
      "1330 - Time Spent: 18.330530999985058, Number of Errors: 0\n",
      "1335 - Time Spent: 21.093973124981858, Number of Errors: 0\n",
      "1340 - Time Spent: 13.312334624992218, Number of Errors: 0\n",
      "1345 - Time Spent: 21.513130250037648, Number of Errors: 0\n",
      "1350 - Time Spent: 21.538378249970265, Number of Errors: 0\n",
      "1355 - Time Spent: 20.908571834035683, Number of Errors: 0\n",
      "1360 - Time Spent: 24.65695054200478, Number of Errors: 0\n",
      "1365 - Time Spent: 22.025957332982216, Number of Errors: 0\n",
      "1370 - Time Spent: 17.529011916019954, Number of Errors: 0\n",
      "1375 - Time Spent: 21.23800879099872, Number of Errors: 0\n",
      "1380 - Time Spent: 22.70186441700207, Number of Errors: 0\n",
      "1385 - Time Spent: 19.113361291994806, Number of Errors: 0\n",
      "1390 - Time Spent: 15.042831291968469, Number of Errors: 0\n",
      "1395 - Time Spent: 22.73169195902301, Number of Errors: 0\n",
      "1400 - Time Spent: 14.757767500006594, Number of Errors: 0\n",
      "1405 - Time Spent: 20.4074994159746, Number of Errors: 0\n",
      "1410 - Time Spent: 21.727661874960177, Number of Errors: 0\n",
      "1415 - Time Spent: 619.044962874963, Number of Errors: 0\n",
      "1420 - Time Spent: 20.08781929203542, Number of Errors: 0\n",
      "1425 - Time Spent: 23.74822295899503, Number of Errors: 0\n",
      "1430 - Time Spent: 16.553425582998898, Number of Errors: 0\n",
      "1435 - Time Spent: 21.828838584013283, Number of Errors: 0\n",
      "1440 - Time Spent: 21.718688749999274, Number of Errors: 0\n",
      "1445 - Time Spent: 18.626854291011114, Number of Errors: 0\n",
      "1450 - Time Spent: 24.49390325002605, Number of Errors: 0\n",
      "1455 - Time Spent: 17.105019666953012, Number of Errors: 0\n",
      "1460 - Time Spent: 21.071527625026647, Number of Errors: 0\n",
      "1465 - Time Spent: 17.919427249988075, Number of Errors: 0\n",
      "1470 - Time Spent: 19.96904437500052, Number of Errors: 0\n",
      "1475 - Time Spent: 16.708328208012972, Number of Errors: 0\n",
      "1480 - Time Spent: 30.410058917012066, Number of Errors: 0\n",
      "1485 - Time Spent: 21.719544374966063, Number of Errors: 0\n",
      "1490 - Time Spent: 20.27638791699428, Number of Errors: 0\n",
      "1495 - Time Spent: 24.270259957993403, Number of Errors: 0\n",
      "1500 - Time Spent: 14.965434082958382, Number of Errors: 0\n",
      "1505 - Time Spent: 22.409117124974728, Number of Errors: 0\n",
      "1510 - Time Spent: 21.7612200420117, Number of Errors: 0\n",
      "1515 - Time Spent: 18.379552875005174, Number of Errors: 0\n",
      "1520 - Time Spent: 29.38943283300614, Number of Errors: 0\n",
      "1525 - Time Spent: 21.478221584053244, Number of Errors: 0\n",
      "1530 - Time Spent: 16.599863041948993, Number of Errors: 0\n",
      "1535 - Time Spent: 23.895909874991048, Number of Errors: 0\n",
      "1540 - Time Spent: 18.51603499997873, Number of Errors: 0\n",
      "1545 - Time Spent: 74.82067395799095, Number of Errors: 0\n",
      "1550 - Time Spent: 18.455327916017268, Number of Errors: 0\n",
      "1555 - Time Spent: 22.19896908296505, Number of Errors: 0\n",
      "1560 - Time Spent: 13.61839170899475, Number of Errors: 0\n",
      "1565 - Time Spent: 16.69228712504264, Number of Errors: 0\n",
      "1570 - Time Spent: 15.972372292017099, Number of Errors: 0\n",
      "1575 - Time Spent: 16.287773916032165, Number of Errors: 0\n",
      "1580 - Time Spent: 19.143860708049033, Number of Errors: 0\n",
      "1585 - Time Spent: 13.92629508295795, Number of Errors: 0\n",
      "1590 - Time Spent: 18.537886833015364, Number of Errors: 0\n",
      "1595 - Time Spent: 22.1206543330336, Number of Errors: 0\n",
      "1600 - Time Spent: 14.548757417011075, Number of Errors: 0\n",
      "1605 - Time Spent: 14.410143874993082, Number of Errors: 0\n",
      "1610 - Time Spent: 21.481065583997406, Number of Errors: 0\n",
      "1615 - Time Spent: 20.37937337497715, Number of Errors: 0\n",
      "1620 - Time Spent: 15.607113540987484, Number of Errors: 0\n",
      "1625 - Time Spent: 18.110369290981907, Number of Errors: 0\n",
      "1630 - Time Spent: 14.041300000040792, Number of Errors: 0\n",
      "1635 - Time Spent: 10.940455125004519, Number of Errors: 0\n",
      "1640 - Time Spent: 18.857298666029237, Number of Errors: 0\n",
      "1645 - Time Spent: 16.691277959034778, Number of Errors: 0\n",
      "1650 - Time Spent: 18.933371665945742, Number of Errors: 0\n",
      "1655 - Time Spent: 21.514152833027765, Number of Errors: 0\n",
      "1660 - Time Spent: 21.709421542007476, Number of Errors: 0\n",
      "1665 - Time Spent: 24.268794999981765, Number of Errors: 0\n",
      "1670 - Time Spent: 19.14804170798743, Number of Errors: 0\n",
      "1675 - Time Spent: 32.36141229199711, Number of Errors: 0\n",
      "1680 - Time Spent: 16.55715374997817, Number of Errors: 0\n",
      "1685 - Time Spent: 23.069225375016686, Number of Errors: 0\n",
      "1690 - Time Spent: 120.67420329200104, Number of Errors: 0\n",
      "1695 - Time Spent: 69.31526549998671, Number of Errors: 0\n",
      "1700 - Time Spent: 22.148576084000524, Number of Errors: 0\n",
      "1705 - Time Spent: 17.775319417007267, Number of Errors: 0\n",
      "1710 - Time Spent: 19.042931374977343, Number of Errors: 0\n",
      "1715 - Time Spent: 16.949428999971133, Number of Errors: 0\n",
      "1720 - Time Spent: 17.612899917003233, Number of Errors: 0\n",
      "1725 - Time Spent: 15.211898125009611, Number of Errors: 0\n",
      "1730 - Time Spent: 46.35750687500695, Number of Errors: 0\n",
      "1735 - Time Spent: 40.8099575000233, Number of Errors: 0\n",
      "1740 - Time Spent: 15.581594458024483, Number of Errors: 0\n",
      "1745 - Time Spent: 40.21352333400864, Number of Errors: 0\n",
      "1750 - Time Spent: 26.482956958003342, Number of Errors: 0\n",
      "1755 - Time Spent: 21.250323083018884, Number of Errors: 0\n",
      "1760 - Time Spent: 48.813015417021234, Number of Errors: 0\n",
      "1765 - Time Spent: 33.662401459005196, Number of Errors: 0\n",
      "1770 - Time Spent: 21.44645662495168, Number of Errors: 0\n",
      "1775 - Time Spent: 75.93598258297425, Number of Errors: 0\n",
      "1780 - Time Spent: 11.705697041994426, Number of Errors: 0\n",
      "1785 - Time Spent: 20.102580291975755, Number of Errors: 0\n",
      "1790 - Time Spent: 22.48131637502229, Number of Errors: 0\n",
      "1795 - Time Spent: 21.65748558397172, Number of Errors: 0\n",
      "1800 - Time Spent: 25.492844374966808, Number of Errors: 0\n",
      "1805 - Time Spent: 18.126389166049194, Number of Errors: 0\n",
      "1810 - Time Spent: 18.915309832955245, Number of Errors: 0\n",
      "1815 - Time Spent: 17.540254082996398, Number of Errors: 0\n",
      "1820 - Time Spent: 29.301741958013736, Number of Errors: 0\n",
      "1825 - Time Spent: 29.066558666992933, Number of Errors: 0\n",
      "1830 - Time Spent: 21.711175041971728, Number of Errors: 0\n",
      "1835 - Time Spent: 22.80653554201126, Number of Errors: 0\n",
      "1840 - Time Spent: 104.55100920796394, Number of Errors: 0\n",
      "1845 - Time Spent: 73.27220766601386, Number of Errors: 0\n",
      "1850 - Time Spent: 26.93596145801712, Number of Errors: 0\n",
      "1855 - Time Spent: 48.34001833299408, Number of Errors: 0\n",
      "1860 - Time Spent: 20.17372279195115, Number of Errors: 0\n",
      "1865 - Time Spent: 86.89148883405142, Number of Errors: 0\n",
      "1870 - Time Spent: 20.770336874993518, Number of Errors: 0\n",
      "1875 - Time Spent: 13.182415749994107, Number of Errors: 0\n",
      "1880 - Time Spent: 19.974513666995335, Number of Errors: 0\n",
      "1885 - Time Spent: 17.196232375048567, Number of Errors: 0\n",
      "1890 - Time Spent: 21.91307470796164, Number of Errors: 0\n",
      "1895 - Time Spent: 26.11087154195411, Number of Errors: 0\n",
      "1900 - Time Spent: 22.651290707988665, Number of Errors: 0\n",
      "1905 - Time Spent: 24.989777167036664, Number of Errors: 0\n",
      "1910 - Time Spent: 21.842333249980584, Number of Errors: 0\n",
      "1915 - Time Spent: 23.76352224999573, Number of Errors: 0\n",
      "1920 - Time Spent: 21.46984912501648, Number of Errors: 0\n",
      "1925 - Time Spent: 23.514284332981333, Number of Errors: 0\n",
      "1930 - Time Spent: 23.820194542000536, Number of Errors: 0\n",
      "1935 - Time Spent: 22.638334207993466, Number of Errors: 0\n",
      "1940 - Time Spent: 13.740562000020873, Number of Errors: 0\n",
      "1945 - Time Spent: 25.006415084004402, Number of Errors: 0\n",
      "1950 - Time Spent: 15.205945583002176, Number of Errors: 0\n",
      "1955 - Time Spent: 15.148846291005611, Number of Errors: 0\n",
      "1960 - Time Spent: 19.356548833020497, Number of Errors: 0\n",
      "1965 - Time Spent: 22.6900480419863, Number of Errors: 0\n",
      "1970 - Time Spent: 20.88592516601784, Number of Errors: 0\n",
      "1975 - Time Spent: 16.4282845419948, Number of Errors: 0\n",
      "1980 - Time Spent: 18.291504458000418, Number of Errors: 0\n",
      "1985 - Time Spent: 19.311160709010437, Number of Errors: 0\n",
      "1990 - Time Spent: 14.593152083049063, Number of Errors: 0\n",
      "1995 - Time Spent: 14.315539332979824, Number of Errors: 0\n",
      "2000 - Time Spent: 18.24653083301382, Number of Errors: 0\n",
      "2005 - Time Spent: 20.261964874982368, Number of Errors: 0\n",
      "2010 - Time Spent: 20.01921137503814, Number of Errors: 0\n",
      "2015 - Time Spent: 17.135872874991037, Number of Errors: 0\n",
      "2020 - Time Spent: 17.935940750001464, Number of Errors: 0\n",
      "2025 - Time Spent: 23.966502833995037, Number of Errors: 0\n",
      "2030 - Time Spent: 17.509743834030814, Number of Errors: 0\n",
      "2035 - Time Spent: 24.167052959033754, Number of Errors: 0\n",
      "2040 - Time Spent: 20.983179125003517, Number of Errors: 0\n",
      "2045 - Time Spent: 19.977722083043773, Number of Errors: 0\n",
      "2050 - Time Spent: 18.637442625011317, Number of Errors: 0\n",
      "2055 - Time Spent: 27.994851291994564, Number of Errors: 0\n",
      "2060 - Time Spent: 15.05016300000716, Number of Errors: 0\n",
      "2065 - Time Spent: 23.34208666702034, Number of Errors: 0\n",
      "2070 - Time Spent: 13.099935500009451, Number of Errors: 0\n",
      "2075 - Time Spent: 18.91919629200129, Number of Errors: 0\n",
      "2080 - Time Spent: 14.405765000032261, Number of Errors: 0\n",
      "2085 - Time Spent: 18.721792457974516, Number of Errors: 0\n",
      "2090 - Time Spent: 21.148014749982394, Number of Errors: 0\n",
      "2095 - Time Spent: 23.243187583982944, Number of Errors: 0\n",
      "2100 - Time Spent: 27.39779970800737, Number of Errors: 0\n",
      "2105 - Time Spent: 28.204569666995667, Number of Errors: 0\n",
      "2110 - Time Spent: 23.85932358301943, Number of Errors: 0\n",
<<<<<<< HEAD
      "2115 - Time Spent: 21.843088458990678, Number of Errors: 0\n"
>>>>>>> cc3f8a0 (Updating RAG code to use gpt-4o-mini model and calculate semantic similarity metrics for responses)
=======
      "2115 - Time Spent: 21.843088458990678, Number of Errors: 0\n",
      "2120 - Time Spent: 18.025400874961633, Number of Errors: 0\n",
      "2125 - Time Spent: 19.273289082979318, Number of Errors: 0\n",
      "2130 - Time Spent: 21.994368250016123, Number of Errors: 0\n",
      "2135 - Time Spent: 17.826252583996393, Number of Errors: 0\n",
      "2140 - Time Spent: 18.751283999998122, Number of Errors: 0\n",
      "2145 - Time Spent: 19.837737292051315, Number of Errors: 0\n",
      "2150 - Time Spent: 20.578701041988097, Number of Errors: 0\n",
      "2155 - Time Spent: 22.302392166981008, Number of Errors: 0\n",
      "2160 - Time Spent: 24.270288582949433, Number of Errors: 0\n",
      "2165 - Time Spent: 14.103113499993924, Number of Errors: 0\n",
      "2170 - Time Spent: 20.370583875046577, Number of Errors: 0\n",
      "2175 - Time Spent: 23.315158999990672, Number of Errors: 0\n",
      "2180 - Time Spent: 22.5948397910106, Number of Errors: 0\n",
      "2185 - Time Spent: 20.788864750007633, Number of Errors: 0\n",
      "2190 - Time Spent: 16.79387604200747, Number of Errors: 0\n",
      "2195 - Time Spent: 22.730673582991585, Number of Errors: 0\n",
      "2200 - Time Spent: 15.507970791019034, Number of Errors: 0\n",
      "2205 - Time Spent: 17.874375416024122, Number of Errors: 0\n",
      "2210 - Time Spent: 14.250130583997816, Number of Errors: 0\n",
      "2215 - Time Spent: 30.814758249965962, Number of Errors: 0\n",
      "2220 - Time Spent: 22.21660708298441, Number of Errors: 0\n",
      "2225 - Time Spent: 26.537479749997146, Number of Errors: 0\n",
      "2230 - Time Spent: 25.22533841698896, Number of Errors: 0\n",
      "2235 - Time Spent: 20.128570042026695, Number of Errors: 0\n",
      "2240 - Time Spent: 16.171392999996897, Number of Errors: 0\n",
      "2245 - Time Spent: 26.54409416601993, Number of Errors: 0\n",
      "2250 - Time Spent: 15.688383542001247, Number of Errors: 0\n",
      "2255 - Time Spent: 21.76961304200813, Number of Errors: 0\n",
      "2260 - Time Spent: 11.267878625018056, Number of Errors: 0\n",
      "2265 - Time Spent: 12.802420291991439, Number of Errors: 0\n",
      "2270 - Time Spent: 23.108410249988083, Number of Errors: 0\n",
      "2275 - Time Spent: 20.338786209002137, Number of Errors: 0\n",
      "2280 - Time Spent: 24.131495458015706, Number of Errors: 0\n",
      "2285 - Time Spent: 14.642908290959895, Number of Errors: 0\n",
      "2290 - Time Spent: 24.06499199999962, Number of Errors: 0\n",
      "2295 - Time Spent: 15.268619000038598, Number of Errors: 0\n",
      "2300 - Time Spent: 22.15011016599601, Number of Errors: 0\n",
      "2305 - Time Spent: 21.89143266697647, Number of Errors: 0\n",
      "2310 - Time Spent: 14.979391374974512, Number of Errors: 0\n",
      "2315 - Time Spent: 26.57790962496074, Number of Errors: 0\n",
      "2320 - Time Spent: 15.769039665989112, Number of Errors: 0\n",
      "2325 - Time Spent: 19.295535082987044, Number of Errors: 0\n",
      "2330 - Time Spent: 16.110619125014637, Number of Errors: 0\n",
      "2335 - Time Spent: 17.315980457991827, Number of Errors: 0\n",
      "2340 - Time Spent: 20.58345441700658, Number of Errors: 0\n",
      "2345 - Time Spent: 11.911149457970168, Number of Errors: 0\n",
      "2350 - Time Spent: 13.189847917004954, Number of Errors: 0\n",
      "2355 - Time Spent: 28.670239709026646, Number of Errors: 0\n",
      "2360 - Time Spent: 12.39442887500627, Number of Errors: 0\n",
      "2365 - Time Spent: 15.563150958972983, Number of Errors: 0\n",
      "2370 - Time Spent: 11.675912459031679, Number of Errors: 0\n",
      "2375 - Time Spent: 22.375912666029762, Number of Errors: 0\n",
      "2380 - Time Spent: 19.414808041998185, Number of Errors: 0\n",
      "2385 - Time Spent: 16.986086291028187, Number of Errors: 0\n",
      "2390 - Time Spent: 20.890549542033114, Number of Errors: 0\n",
      "2395 - Time Spent: 16.178220083995257, Number of Errors: 0\n",
      "2400 - Time Spent: 19.14973679097602, Number of Errors: 0\n",
      "2405 - Time Spent: 17.02997749997303, Number of Errors: 0\n",
      "2410 - Time Spent: 17.28525224997429, Number of Errors: 0\n",
      "2415 - Time Spent: 16.272699666034896, Number of Errors: 0\n",
      "2420 - Time Spent: 25.801661125035025, Number of Errors: 0\n",
      "2425 - Time Spent: 18.278208500007167, Number of Errors: 0\n",
      "2430 - Time Spent: 16.639919249981176, Number of Errors: 0\n",
      "2435 - Time Spent: 22.05265879095532, Number of Errors: 0\n",
      "2440 - Time Spent: 26.633999834011775, Number of Errors: 0\n",
      "2445 - Time Spent: 19.465554833004717, Number of Errors: 0\n",
      "2450 - Time Spent: 196.36189733300125, Number of Errors: 0\n",
      "2455 - Time Spent: 20.60357637499692, Number of Errors: 0\n",
      "2460 - Time Spent: 17.21994633396389, Number of Errors: 0\n",
      "2465 - Time Spent: 21.034531374985818, Number of Errors: 0\n"
>>>>>>> b026128 (Updated ChromaDB upload code to avoid overwritting entries and giving each entries a unique ID)
     ]
    }
   ],
   "source": [
    "gpt_4o_base_similarities = pd.DataFrame(eval_semantic_sim(gpt_4o_base))"
   ]
  },
  {
   "cell_type": "code",
   "execution_count": 35,
   "metadata": {},
<<<<<<< HEAD
<<<<<<< HEAD
=======
>>>>>>> b026128 (Updated ChromaDB upload code to avoid overwritting entries and giving each entries a unique ID)
   "outputs": [
    {
     "name": "stdout",
     "output_type": "stream",
     "text": [
      "Mean Similarity for GPT-4o Base: 0.7484650916190843\n",
      "Standard Deviation Similarity for GPT-4o Base: 0.13015104092179497\n"
     ]
    }
   ],
<<<<<<< HEAD
=======
   "outputs": [],
>>>>>>> cc3f8a0 (Updating RAG code to use gpt-4o-mini model and calculate semantic similarity metrics for responses)
=======
>>>>>>> b026128 (Updated ChromaDB upload code to avoid overwritting entries and giving each entries a unique ID)
   "source": [
    "print(f\"Mean Similarity for GPT-4o Base: {gpt_4o_base_similarities['similarities'].mean()}\")\n",
    "print(f\"Standard Deviation Similarity for GPT-4o Base: {gpt_4o_base_similarities['similarities'].std()}\")"
   ]
  },
  {
   "cell_type": "code",
   "execution_count": 37,
   "metadata": {},
   "outputs": [],
   "source": [
<<<<<<< HEAD
<<<<<<< HEAD
=======
>>>>>>> b026128 (Updated ChromaDB upload code to avoid overwritting entries and giving each entries a unique ID)
    "gpt_4o_base_similarities.to_csv('./Eval Results/gpt_4o_base_similarities.csv', index=False)"
   ]
  },
  {
   "cell_type": "code",
<<<<<<< HEAD
   "execution_count": null,
=======
   "execution_count": 36,
>>>>>>> b026128 (Updated ChromaDB upload code to avoid overwritting entries and giving each entries a unique ID)
   "metadata": {},
   "outputs": [
    {
     "name": "stdout",
     "output_type": "stream",
     "text": [
      "5 - Time Spent: 11.609997749968898, Number of Errors: 0\n",
      "10 - Time Spent: 11.780776708037592, Number of Errors: 0\n",
      "15 - Time Spent: 13.204438125016168, Number of Errors: 0\n",
      "20 - Time Spent: 9.54497404198628, Number of Errors: 0\n",
      "25 - Time Spent: 10.270393292012159, Number of Errors: 0\n",
      "30 - Time Spent: 9.671339874970727, Number of Errors: 0\n",
      "35 - Time Spent: 10.642300332954619, Number of Errors: 0\n",
      "40 - Time Spent: 9.344267417036463, Number of Errors: 0\n",
      "45 - Time Spent: 22.38648824999109, Number of Errors: 0\n",
      "50 - Time Spent: 11.367734291008674, Number of Errors: 0\n",
      "55 - Time Spent: 9.613058666000143, Number of Errors: 0\n",
      "60 - Time Spent: 34.64262462500483, Number of Errors: 0\n",
      "65 - Time Spent: 15.250248208001722, Number of Errors: 0\n",
      "70 - Time Spent: 10.257519832986873, Number of Errors: 0\n",
      "75 - Time Spent: 11.663794916006736, Number of Errors: 0\n",
      "80 - Time Spent: 9.41814374999376, Number of Errors: 0\n",
      "85 - Time Spent: 12.185798958002124, Number of Errors: 0\n",
      "90 - Time Spent: 12.740425250027329, Number of Errors: 0\n",
      "95 - Time Spent: 12.575084957992658, Number of Errors: 0\n",
      "100 - Time Spent: 11.55015495797852, Number of Errors: 0\n",
      "105 - Time Spent: 14.948899916023947, Number of Errors: 0\n",
      "110 - Time Spent: 10.035550542001147, Number of Errors: 0\n",
      "115 - Time Spent: 9.179149999981746, Number of Errors: 0\n",
      "120 - Time Spent: 14.06527704198379, Number of Errors: 0\n",
      "125 - Time Spent: 10.162685416988097, Number of Errors: 0\n",
      "130 - Time Spent: 10.522971792030148, Number of Errors: 0\n",
      "135 - Time Spent: 10.220513415988535, Number of Errors: 0\n",
      "140 - Time Spent: 13.217193833959755, Number of Errors: 0\n",
      "145 - Time Spent: 9.662053624982946, Number of Errors: 0\n",
      "150 - Time Spent: 10.010060332948342, Number of Errors: 0\n",
      "155 - Time Spent: 10.133697790966835, Number of Errors: 0\n",
      "160 - Time Spent: 9.733397499949206, Number of Errors: 0\n",
      "165 - Time Spent: 8.603737625002395, Number of Errors: 0\n",
      "170 - Time Spent: 9.722611874982249, Number of Errors: 0\n",
      "175 - Time Spent: 9.732358374982141, Number of Errors: 0\n",
      "180 - Time Spent: 14.994964958983473, Number of Errors: 0\n",
      "185 - Time Spent: 10.095481249969453, Number of Errors: 0\n",
      "190 - Time Spent: 9.92759791703429, Number of Errors: 0\n",
      "195 - Time Spent: 10.617668791965116, Number of Errors: 0\n",
      "200 - Time Spent: 11.44374916702509, Number of Errors: 0\n",
      "205 - Time Spent: 8.577421916997992, Number of Errors: 0\n",
      "210 - Time Spent: 8.457254541979637, Number of Errors: 0\n",
      "215 - Time Spent: 9.985156000009738, Number of Errors: 0\n",
      "220 - Time Spent: 13.019725832971744, Number of Errors: 0\n",
      "225 - Time Spent: 9.937248417001683, Number of Errors: 0\n",
      "230 - Time Spent: 11.26937483297661, Number of Errors: 0\n",
      "235 - Time Spent: 9.481424208031967, Number of Errors: 0\n",
      "240 - Time Spent: 9.846363207965624, Number of Errors: 0\n",
      "245 - Time Spent: 13.392195999971591, Number of Errors: 0\n",
      "250 - Time Spent: 10.534282707958482, Number of Errors: 0\n",
      "255 - Time Spent: 9.568594790995121, Number of Errors: 0\n",
      "260 - Time Spent: 11.270714499987662, Number of Errors: 0\n",
      "265 - Time Spent: 11.642699167015962, Number of Errors: 0\n",
      "270 - Time Spent: 10.397796625038609, Number of Errors: 0\n",
      "275 - Time Spent: 9.555108957982156, Number of Errors: 0\n",
      "280 - Time Spent: 13.222407834022306, Number of Errors: 0\n",
      "285 - Time Spent: 10.11032537498977, Number of Errors: 0\n",
      "290 - Time Spent: 10.480153916054405, Number of Errors: 0\n",
      "295 - Time Spent: 9.504992874979507, Number of Errors: 0\n",
      "300 - Time Spent: 9.604856625024695, Number of Errors: 0\n",
      "305 - Time Spent: 10.354227791016456, Number of Errors: 0\n",
      "310 - Time Spent: 8.084621082991362, Number of Errors: 0\n",
      "315 - Time Spent: 10.013794541999232, Number of Errors: 0\n",
      "320 - Time Spent: 9.87691787496442, Number of Errors: 0\n",
      "325 - Time Spent: 10.662769165995996, Number of Errors: 0\n",
      "330 - Time Spent: 9.814284958993085, Number of Errors: 0\n",
      "335 - Time Spent: 8.54344191699056, Number of Errors: 0\n",
      "340 - Time Spent: 13.692863459000364, Number of Errors: 0\n",
      "345 - Time Spent: 9.51617299998179, Number of Errors: 0\n",
      "350 - Time Spent: 13.436540666036308, Number of Errors: 0\n",
      "355 - Time Spent: 9.336336333013605, Number of Errors: 0\n",
      "360 - Time Spent: 8.369742750015575, Number of Errors: 0\n",
      "365 - Time Spent: 9.223781707987655, Number of Errors: 0\n",
      "370 - Time Spent: 9.252853958052583, Number of Errors: 0\n",
      "375 - Time Spent: 9.559485792007763, Number of Errors: 0\n",
      "380 - Time Spent: 9.021055458986666, Number of Errors: 0\n",
      "385 - Time Spent: 24.06511349999346, Number of Errors: 0\n",
      "390 - Time Spent: 12.240242458006833, Number of Errors: 0\n",
      "395 - Time Spent: 7.781908957986161, Number of Errors: 0\n",
      "400 - Time Spent: 10.091886958980467, Number of Errors: 0\n",
      "405 - Time Spent: 11.608382707985584, Number of Errors: 0\n",
      "410 - Time Spent: 10.944646708958317, Number of Errors: 0\n",
      "415 - Time Spent: 10.145898042013869, Number of Errors: 0\n",
      "420 - Time Spent: 12.615936874994077, Number of Errors: 0\n",
      "425 - Time Spent: 10.959328791010194, Number of Errors: 0\n",
      "430 - Time Spent: 11.193079042015597, Number of Errors: 0\n",
      "435 - Time Spent: 12.426373249967583, Number of Errors: 0\n",
      "440 - Time Spent: 9.48335799999768, Number of Errors: 0\n",
      "445 - Time Spent: 10.934301249973942, Number of Errors: 0\n",
      "450 - Time Spent: 13.694297042035032, Number of Errors: 0\n",
      "455 - Time Spent: 10.439776958024595, Number of Errors: 0\n",
      "460 - Time Spent: 10.476273666019551, Number of Errors: 0\n",
      "465 - Time Spent: 12.11827145901043, Number of Errors: 0\n",
      "470 - Time Spent: 8.693169499980286, Number of Errors: 0\n",
      "475 - Time Spent: 10.441740999987815, Number of Errors: 0\n",
      "480 - Time Spent: 10.889816833019722, Number of Errors: 0\n",
      "485 - Time Spent: 10.863340332987718, Number of Errors: 0\n",
      "490 - Time Spent: 9.939594959025271, Number of Errors: 0\n",
      "495 - Time Spent: 9.370921291993, Number of Errors: 0\n",
      "500 - Time Spent: 11.57714266696712, Number of Errors: 0\n",
      "505 - Time Spent: 9.283003374992404, Number of Errors: 0\n",
      "510 - Time Spent: 12.286224542011041, Number of Errors: 0\n",
      "515 - Time Spent: 9.976094749988988, Number of Errors: 0\n",
      "520 - Time Spent: 9.902998542005662, Number of Errors: 0\n",
      "525 - Time Spent: 11.139035874977708, Number of Errors: 0\n",
      "530 - Time Spent: 10.74356070900103, Number of Errors: 0\n",
      "535 - Time Spent: 11.033977957966272, Number of Errors: 0\n",
      "540 - Time Spent: 15.828016249986831, Number of Errors: 0\n",
      "545 - Time Spent: 11.157010332972277, Number of Errors: 0\n",
      "550 - Time Spent: 10.73114083299879, Number of Errors: 0\n",
      "555 - Time Spent: 11.486469625029713, Number of Errors: 0\n",
      "560 - Time Spent: 10.547989874961786, Number of Errors: 0\n",
      "565 - Time Spent: 9.36936691700248, Number of Errors: 0\n",
      "570 - Time Spent: 11.782983957964461, Number of Errors: 0\n",
      "575 - Time Spent: 16.67924458300695, Number of Errors: 0\n",
      "580 - Time Spent: 11.22044179099612, Number of Errors: 0\n",
      "585 - Time Spent: 12.094844875042327, Number of Errors: 0\n",
      "590 - Time Spent: 10.537089999997988, Number of Errors: 0\n",
      "595 - Time Spent: 9.817830667016096, Number of Errors: 0\n",
      "600 - Time Spent: 11.738398167013656, Number of Errors: 0\n",
      "605 - Time Spent: 9.230501707992516, Number of Errors: 0\n",
      "610 - Time Spent: 13.629193166969344, Number of Errors: 0\n",
      "615 - Time Spent: 14.326725291961338, Number of Errors: 0\n",
      "620 - Time Spent: 13.577886957966257, Number of Errors: 0\n",
      "625 - Time Spent: 10.328666459012311, Number of Errors: 0\n",
      "630 - Time Spent: 14.07912229100475, Number of Errors: 0\n",
      "635 - Time Spent: 11.349379958002828, Number of Errors: 0\n",
      "640 - Time Spent: 27.153082665987313, Number of Errors: 0\n",
      "645 - Time Spent: 15.82219408301171, Number of Errors: 0\n",
      "650 - Time Spent: 9.948382708011195, Number of Errors: 0\n",
      "655 - Time Spent: 15.143120167020243, Number of Errors: 0\n",
      "660 - Time Spent: 9.313359749969095, Number of Errors: 0\n",
      "665 - Time Spent: 9.487112749950029, Number of Errors: 0\n",
      "670 - Time Spent: 9.40699379198486, Number of Errors: 0\n",
      "675 - Time Spent: 13.021398667013273, Number of Errors: 0\n",
      "680 - Time Spent: 16.95375054096803, Number of Errors: 0\n",
      "685 - Time Spent: 11.73633724998217, Number of Errors: 0\n",
      "690 - Time Spent: 8.732528583030216, Number of Errors: 0\n",
      "695 - Time Spent: 10.715689292002935, Number of Errors: 0\n",
      "700 - Time Spent: 13.848122874973342, Number of Errors: 0\n",
      "705 - Time Spent: 8.844863417034503, Number of Errors: 0\n",
      "710 - Time Spent: 21.631388625013642, Number of Errors: 0\n",
      "715 - Time Spent: 9.492883542028721, Number of Errors: 0\n",
      "720 - Time Spent: 8.268826624960639, Number of Errors: 0\n",
      "725 - Time Spent: 10.334327665972523, Number of Errors: 0\n",
      "730 - Time Spent: 10.499596500012558, Number of Errors: 0\n",
      "735 - Time Spent: 11.492248666007072, Number of Errors: 0\n",
      "740 - Time Spent: 8.403275166987441, Number of Errors: 0\n",
      "745 - Time Spent: 10.98093791701831, Number of Errors: 0\n",
      "750 - Time Spent: 8.220357917016372, Number of Errors: 0\n",
      "755 - Time Spent: 10.586468458001036, Number of Errors: 0\n",
      "760 - Time Spent: 9.91600958298659, Number of Errors: 0\n",
      "765 - Time Spent: 11.740258959005587, Number of Errors: 0\n",
      "770 - Time Spent: 10.124052457977086, Number of Errors: 0\n",
      "775 - Time Spent: 9.701521624985617, Number of Errors: 0\n",
      "780 - Time Spent: 10.428059083991684, Number of Errors: 0\n",
      "785 - Time Spent: 10.20129233400803, Number of Errors: 0\n",
      "790 - Time Spent: 9.690883959003258, Number of Errors: 0\n",
      "795 - Time Spent: 11.202727374969982, Number of Errors: 0\n",
      "800 - Time Spent: 9.939266165951267, Number of Errors: 0\n",
      "805 - Time Spent: 10.683531666989438, Number of Errors: 0\n",
      "810 - Time Spent: 10.061784416029695, Number of Errors: 0\n",
      "815 - Time Spent: 11.612671457987744, Number of Errors: 0\n",
      "820 - Time Spent: 11.384567708009854, Number of Errors: 0\n",
      "825 - Time Spent: 11.087448000034783, Number of Errors: 0\n",
      "830 - Time Spent: 10.31124687497504, Number of Errors: 0\n",
      "835 - Time Spent: 10.687315959017724, Number of Errors: 0\n",
      "840 - Time Spent: 11.748490415979177, Number of Errors: 0\n",
      "845 - Time Spent: 9.57606420799857, Number of Errors: 0\n",
      "850 - Time Spent: 11.085023999970872, Number of Errors: 0\n",
      "855 - Time Spent: 9.496389709005598, Number of Errors: 0\n",
      "860 - Time Spent: 13.306953000021167, Number of Errors: 0\n",
      "865 - Time Spent: 14.895701083005406, Number of Errors: 0\n",
      "870 - Time Spent: 10.31060541694751, Number of Errors: 0\n"
     ]
    },
    {
     "ename": "KeyboardInterrupt",
     "evalue": "",
     "output_type": "error",
     "traceback": [
      "\u001b[0;31m---------------------------------------------------------------------------\u001b[0m",
      "\u001b[0;31mKeyboardInterrupt\u001b[0m                         Traceback (most recent call last)",
      "Cell \u001b[0;32mIn[36], line 1\u001b[0m\n\u001b[0;32m----> 1\u001b[0m gpt_4o_finetuned_similarities \u001b[38;5;241m=\u001b[39m pd\u001b[38;5;241m.\u001b[39mDataFrame(\u001b[43meval_semantic_sim\u001b[49m\u001b[43m(\u001b[49m\u001b[43mgpt_4o_finetuned\u001b[49m\u001b[43m)\u001b[49m)\n",
      "Cell \u001b[0;32mIn[32], line 11\u001b[0m, in \u001b[0;36meval_semantic_sim\u001b[0;34m(model)\u001b[0m\n\u001b[1;32m      9\u001b[0m expected_output \u001b[38;5;241m=\u001b[39m example[\u001b[38;5;124m'\u001b[39m\u001b[38;5;124moutput\u001b[39m\u001b[38;5;124m'\u001b[39m]\n\u001b[1;32m     10\u001b[0m \u001b[38;5;66;03m# Generate model response with RAG\u001b[39;00m\n\u001b[0;32m---> 11\u001b[0m model_response_text \u001b[38;5;241m=\u001b[39m \u001b[43mrun_rag\u001b[49m\u001b[43m(\u001b[49m\u001b[43mmodel\u001b[49m\u001b[43m,\u001b[49m\u001b[43m \u001b[49m\u001b[43minput_text\u001b[49m\u001b[43m)\u001b[49m\n\u001b[1;32m     12\u001b[0m \u001b[38;5;66;03m# Generate embeddings for expected and actual responses\u001b[39;00m\n\u001b[1;32m     13\u001b[0m expected_embedding \u001b[38;5;241m=\u001b[39m get_embedding(expected_output)\n",
      "Cell \u001b[0;32mIn[28], line 10\u001b[0m, in \u001b[0;36mrun_rag\u001b[0;34m(model, query)\u001b[0m\n\u001b[1;32m      5\u001b[0m \u001b[38;5;66;03m# Generate response using OpenAI Model\u001b[39;00m\n\u001b[1;32m      6\u001b[0m all_messages \u001b[38;5;241m=\u001b[39m [\n\u001b[1;32m      7\u001b[0m     {\u001b[38;5;124m\"\u001b[39m\u001b[38;5;124mrole\u001b[39m\u001b[38;5;124m\"\u001b[39m: \u001b[38;5;124m\"\u001b[39m\u001b[38;5;124msystem\u001b[39m\u001b[38;5;124m\"\u001b[39m, \u001b[38;5;124m\"\u001b[39m\u001b[38;5;124mcontent\u001b[39m\u001b[38;5;124m\"\u001b[39m: \u001b[38;5;124m\"\u001b[39m\u001b[38;5;124mYou are a helpful tutor who answers questions about a class called Introduction to Deep Learning and LLM based Generative AI Systems\u001b[39m\u001b[38;5;124m\"\u001b[39m},\n\u001b[1;32m      8\u001b[0m     {\u001b[38;5;124m\"\u001b[39m\u001b[38;5;124mrole\u001b[39m\u001b[38;5;124m\"\u001b[39m: \u001b[38;5;124m\"\u001b[39m\u001b[38;5;124muser\u001b[39m\u001b[38;5;124m\"\u001b[39m, \u001b[38;5;124m\"\u001b[39m\u001b[38;5;124mcontent\u001b[39m\u001b[38;5;124m\"\u001b[39m: \u001b[38;5;124mf\u001b[39m\u001b[38;5;124m\"\u001b[39m\u001b[38;5;124mGenerate an answer to the following question using the given context:\u001b[39m\u001b[38;5;130;01m\\n\u001b[39;00m\u001b[38;5;130;01m\\n\u001b[39;00m\u001b[38;5;124m \u001b[39m\u001b[38;5;132;01m{\u001b[39;00mquery\u001b[38;5;132;01m}\u001b[39;00m\u001b[38;5;130;01m\\n\u001b[39;00m\u001b[38;5;130;01m\\n\u001b[39;00m\u001b[38;5;124m \u001b[39m\u001b[38;5;132;01m{\u001b[39;00m\u001b[38;5;124m\"\u001b[39m\u001b[38;5;124m=\u001b[39m\u001b[38;5;124m\"\u001b[39m\u001b[38;5;241m*\u001b[39m\u001b[38;5;241m50\u001b[39m\u001b[38;5;132;01m}\u001b[39;00m\u001b[38;5;130;01m\\n\u001b[39;00m\u001b[38;5;130;01m\\n\u001b[39;00m\u001b[38;5;124mCONTEXT: \u001b[39m\u001b[38;5;132;01m{\u001b[39;00mretrieved_text\u001b[38;5;132;01m}\u001b[39;00m\u001b[38;5;130;01m\\n\u001b[39;00m\u001b[38;5;130;01m\\n\u001b[39;00m\u001b[38;5;124m\"\u001b[39m}\n\u001b[1;32m      9\u001b[0m ]\n\u001b[0;32m---> 10\u001b[0m response \u001b[38;5;241m=\u001b[39m \u001b[43mclient\u001b[49m\u001b[38;5;241;43m.\u001b[39;49m\u001b[43mchat\u001b[49m\u001b[38;5;241;43m.\u001b[39;49m\u001b[43mcompletions\u001b[49m\u001b[38;5;241;43m.\u001b[39;49m\u001b[43mcreate\u001b[49m\u001b[43m(\u001b[49m\n\u001b[1;32m     11\u001b[0m \u001b[43m    \u001b[49m\u001b[43mmodel\u001b[49m\u001b[38;5;241;43m=\u001b[39;49m\u001b[43mmodel\u001b[49m\u001b[43m,\u001b[49m\n\u001b[1;32m     12\u001b[0m \u001b[43m    \u001b[49m\u001b[43mmessages\u001b[49m\u001b[38;5;241;43m=\u001b[39;49m\u001b[43mall_messages\u001b[49m\u001b[43m,\u001b[49m\n\u001b[1;32m     13\u001b[0m \u001b[43m    \u001b[49m\u001b[43mmax_tokens\u001b[49m\u001b[38;5;241;43m=\u001b[39;49m\u001b[38;5;241;43m1500\u001b[39;49m\u001b[43m,\u001b[49m\n\u001b[1;32m     14\u001b[0m \u001b[43m\u001b[49m\u001b[43m)\u001b[49m\n\u001b[1;32m     15\u001b[0m model_response_text \u001b[38;5;241m=\u001b[39m response\u001b[38;5;241m.\u001b[39mchoices[\u001b[38;5;241m0\u001b[39m]\u001b[38;5;241m.\u001b[39mmessage\u001b[38;5;241m.\u001b[39mcontent\n\u001b[1;32m     16\u001b[0m \u001b[38;5;28;01mreturn\u001b[39;00m model_response_text\n",
      "File \u001b[0;32m~/Documents/Columbia_Grad/LLM & DL System Performance/Project.nosync/COMS-6998-LLM-Final-Project/.venv/lib/python3.12/site-packages/openai/_utils/_utils.py:275\u001b[0m, in \u001b[0;36mrequired_args.<locals>.inner.<locals>.wrapper\u001b[0;34m(*args, **kwargs)\u001b[0m\n\u001b[1;32m    273\u001b[0m             msg \u001b[38;5;241m=\u001b[39m \u001b[38;5;124mf\u001b[39m\u001b[38;5;124m\"\u001b[39m\u001b[38;5;124mMissing required argument: \u001b[39m\u001b[38;5;132;01m{\u001b[39;00mquote(missing[\u001b[38;5;241m0\u001b[39m])\u001b[38;5;132;01m}\u001b[39;00m\u001b[38;5;124m\"\u001b[39m\n\u001b[1;32m    274\u001b[0m     \u001b[38;5;28;01mraise\u001b[39;00m \u001b[38;5;167;01mTypeError\u001b[39;00m(msg)\n\u001b[0;32m--> 275\u001b[0m \u001b[38;5;28;01mreturn\u001b[39;00m \u001b[43mfunc\u001b[49m\u001b[43m(\u001b[49m\u001b[38;5;241;43m*\u001b[39;49m\u001b[43margs\u001b[49m\u001b[43m,\u001b[49m\u001b[43m \u001b[49m\u001b[38;5;241;43m*\u001b[39;49m\u001b[38;5;241;43m*\u001b[39;49m\u001b[43mkwargs\u001b[49m\u001b[43m)\u001b[49m\n",
      "File \u001b[0;32m~/Documents/Columbia_Grad/LLM & DL System Performance/Project.nosync/COMS-6998-LLM-Final-Project/.venv/lib/python3.12/site-packages/openai/resources/chat/completions.py:829\u001b[0m, in \u001b[0;36mCompletions.create\u001b[0;34m(self, messages, model, audio, frequency_penalty, function_call, functions, logit_bias, logprobs, max_completion_tokens, max_tokens, metadata, modalities, n, parallel_tool_calls, prediction, presence_penalty, response_format, seed, service_tier, stop, store, stream, stream_options, temperature, tool_choice, tools, top_logprobs, top_p, user, extra_headers, extra_query, extra_body, timeout)\u001b[0m\n\u001b[1;32m    788\u001b[0m \u001b[38;5;129m@required_args\u001b[39m([\u001b[38;5;124m\"\u001b[39m\u001b[38;5;124mmessages\u001b[39m\u001b[38;5;124m\"\u001b[39m, \u001b[38;5;124m\"\u001b[39m\u001b[38;5;124mmodel\u001b[39m\u001b[38;5;124m\"\u001b[39m], [\u001b[38;5;124m\"\u001b[39m\u001b[38;5;124mmessages\u001b[39m\u001b[38;5;124m\"\u001b[39m, \u001b[38;5;124m\"\u001b[39m\u001b[38;5;124mmodel\u001b[39m\u001b[38;5;124m\"\u001b[39m, \u001b[38;5;124m\"\u001b[39m\u001b[38;5;124mstream\u001b[39m\u001b[38;5;124m\"\u001b[39m])\n\u001b[1;32m    789\u001b[0m \u001b[38;5;28;01mdef\u001b[39;00m \u001b[38;5;21mcreate\u001b[39m(\n\u001b[1;32m    790\u001b[0m     \u001b[38;5;28mself\u001b[39m,\n\u001b[0;32m   (...)\u001b[0m\n\u001b[1;32m    826\u001b[0m     timeout: \u001b[38;5;28mfloat\u001b[39m \u001b[38;5;241m|\u001b[39m httpx\u001b[38;5;241m.\u001b[39mTimeout \u001b[38;5;241m|\u001b[39m \u001b[38;5;28;01mNone\u001b[39;00m \u001b[38;5;241m|\u001b[39m NotGiven \u001b[38;5;241m=\u001b[39m NOT_GIVEN,\n\u001b[1;32m    827\u001b[0m ) \u001b[38;5;241m-\u001b[39m\u001b[38;5;241m>\u001b[39m ChatCompletion \u001b[38;5;241m|\u001b[39m Stream[ChatCompletionChunk]:\n\u001b[1;32m    828\u001b[0m     validate_response_format(response_format)\n\u001b[0;32m--> 829\u001b[0m     \u001b[38;5;28;01mreturn\u001b[39;00m \u001b[38;5;28;43mself\u001b[39;49m\u001b[38;5;241;43m.\u001b[39;49m\u001b[43m_post\u001b[49m\u001b[43m(\u001b[49m\n\u001b[1;32m    830\u001b[0m \u001b[43m        \u001b[49m\u001b[38;5;124;43m\"\u001b[39;49m\u001b[38;5;124;43m/chat/completions\u001b[39;49m\u001b[38;5;124;43m\"\u001b[39;49m\u001b[43m,\u001b[49m\n\u001b[1;32m    831\u001b[0m \u001b[43m        \u001b[49m\u001b[43mbody\u001b[49m\u001b[38;5;241;43m=\u001b[39;49m\u001b[43mmaybe_transform\u001b[49m\u001b[43m(\u001b[49m\n\u001b[1;32m    832\u001b[0m \u001b[43m            \u001b[49m\u001b[43m{\u001b[49m\n\u001b[1;32m    833\u001b[0m \u001b[43m                \u001b[49m\u001b[38;5;124;43m\"\u001b[39;49m\u001b[38;5;124;43mmessages\u001b[39;49m\u001b[38;5;124;43m\"\u001b[39;49m\u001b[43m:\u001b[49m\u001b[43m \u001b[49m\u001b[43mmessages\u001b[49m\u001b[43m,\u001b[49m\n\u001b[1;32m    834\u001b[0m \u001b[43m                \u001b[49m\u001b[38;5;124;43m\"\u001b[39;49m\u001b[38;5;124;43mmodel\u001b[39;49m\u001b[38;5;124;43m\"\u001b[39;49m\u001b[43m:\u001b[49m\u001b[43m \u001b[49m\u001b[43mmodel\u001b[49m\u001b[43m,\u001b[49m\n\u001b[1;32m    835\u001b[0m \u001b[43m                \u001b[49m\u001b[38;5;124;43m\"\u001b[39;49m\u001b[38;5;124;43maudio\u001b[39;49m\u001b[38;5;124;43m\"\u001b[39;49m\u001b[43m:\u001b[49m\u001b[43m \u001b[49m\u001b[43maudio\u001b[49m\u001b[43m,\u001b[49m\n\u001b[1;32m    836\u001b[0m \u001b[43m                \u001b[49m\u001b[38;5;124;43m\"\u001b[39;49m\u001b[38;5;124;43mfrequency_penalty\u001b[39;49m\u001b[38;5;124;43m\"\u001b[39;49m\u001b[43m:\u001b[49m\u001b[43m \u001b[49m\u001b[43mfrequency_penalty\u001b[49m\u001b[43m,\u001b[49m\n\u001b[1;32m    837\u001b[0m \u001b[43m                \u001b[49m\u001b[38;5;124;43m\"\u001b[39;49m\u001b[38;5;124;43mfunction_call\u001b[39;49m\u001b[38;5;124;43m\"\u001b[39;49m\u001b[43m:\u001b[49m\u001b[43m \u001b[49m\u001b[43mfunction_call\u001b[49m\u001b[43m,\u001b[49m\n\u001b[1;32m    838\u001b[0m \u001b[43m                \u001b[49m\u001b[38;5;124;43m\"\u001b[39;49m\u001b[38;5;124;43mfunctions\u001b[39;49m\u001b[38;5;124;43m\"\u001b[39;49m\u001b[43m:\u001b[49m\u001b[43m \u001b[49m\u001b[43mfunctions\u001b[49m\u001b[43m,\u001b[49m\n\u001b[1;32m    839\u001b[0m \u001b[43m                \u001b[49m\u001b[38;5;124;43m\"\u001b[39;49m\u001b[38;5;124;43mlogit_bias\u001b[39;49m\u001b[38;5;124;43m\"\u001b[39;49m\u001b[43m:\u001b[49m\u001b[43m \u001b[49m\u001b[43mlogit_bias\u001b[49m\u001b[43m,\u001b[49m\n\u001b[1;32m    840\u001b[0m \u001b[43m                \u001b[49m\u001b[38;5;124;43m\"\u001b[39;49m\u001b[38;5;124;43mlogprobs\u001b[39;49m\u001b[38;5;124;43m\"\u001b[39;49m\u001b[43m:\u001b[49m\u001b[43m \u001b[49m\u001b[43mlogprobs\u001b[49m\u001b[43m,\u001b[49m\n\u001b[1;32m    841\u001b[0m \u001b[43m                \u001b[49m\u001b[38;5;124;43m\"\u001b[39;49m\u001b[38;5;124;43mmax_completion_tokens\u001b[39;49m\u001b[38;5;124;43m\"\u001b[39;49m\u001b[43m:\u001b[49m\u001b[43m \u001b[49m\u001b[43mmax_completion_tokens\u001b[49m\u001b[43m,\u001b[49m\n\u001b[1;32m    842\u001b[0m \u001b[43m                \u001b[49m\u001b[38;5;124;43m\"\u001b[39;49m\u001b[38;5;124;43mmax_tokens\u001b[39;49m\u001b[38;5;124;43m\"\u001b[39;49m\u001b[43m:\u001b[49m\u001b[43m \u001b[49m\u001b[43mmax_tokens\u001b[49m\u001b[43m,\u001b[49m\n\u001b[1;32m    843\u001b[0m \u001b[43m                \u001b[49m\u001b[38;5;124;43m\"\u001b[39;49m\u001b[38;5;124;43mmetadata\u001b[39;49m\u001b[38;5;124;43m\"\u001b[39;49m\u001b[43m:\u001b[49m\u001b[43m \u001b[49m\u001b[43mmetadata\u001b[49m\u001b[43m,\u001b[49m\n\u001b[1;32m    844\u001b[0m \u001b[43m                \u001b[49m\u001b[38;5;124;43m\"\u001b[39;49m\u001b[38;5;124;43mmodalities\u001b[39;49m\u001b[38;5;124;43m\"\u001b[39;49m\u001b[43m:\u001b[49m\u001b[43m \u001b[49m\u001b[43mmodalities\u001b[49m\u001b[43m,\u001b[49m\n\u001b[1;32m    845\u001b[0m \u001b[43m                \u001b[49m\u001b[38;5;124;43m\"\u001b[39;49m\u001b[38;5;124;43mn\u001b[39;49m\u001b[38;5;124;43m\"\u001b[39;49m\u001b[43m:\u001b[49m\u001b[43m \u001b[49m\u001b[43mn\u001b[49m\u001b[43m,\u001b[49m\n\u001b[1;32m    846\u001b[0m \u001b[43m                \u001b[49m\u001b[38;5;124;43m\"\u001b[39;49m\u001b[38;5;124;43mparallel_tool_calls\u001b[39;49m\u001b[38;5;124;43m\"\u001b[39;49m\u001b[43m:\u001b[49m\u001b[43m \u001b[49m\u001b[43mparallel_tool_calls\u001b[49m\u001b[43m,\u001b[49m\n\u001b[1;32m    847\u001b[0m \u001b[43m                \u001b[49m\u001b[38;5;124;43m\"\u001b[39;49m\u001b[38;5;124;43mprediction\u001b[39;49m\u001b[38;5;124;43m\"\u001b[39;49m\u001b[43m:\u001b[49m\u001b[43m \u001b[49m\u001b[43mprediction\u001b[49m\u001b[43m,\u001b[49m\n\u001b[1;32m    848\u001b[0m \u001b[43m                \u001b[49m\u001b[38;5;124;43m\"\u001b[39;49m\u001b[38;5;124;43mpresence_penalty\u001b[39;49m\u001b[38;5;124;43m\"\u001b[39;49m\u001b[43m:\u001b[49m\u001b[43m \u001b[49m\u001b[43mpresence_penalty\u001b[49m\u001b[43m,\u001b[49m\n\u001b[1;32m    849\u001b[0m \u001b[43m                \u001b[49m\u001b[38;5;124;43m\"\u001b[39;49m\u001b[38;5;124;43mresponse_format\u001b[39;49m\u001b[38;5;124;43m\"\u001b[39;49m\u001b[43m:\u001b[49m\u001b[43m \u001b[49m\u001b[43mresponse_format\u001b[49m\u001b[43m,\u001b[49m\n\u001b[1;32m    850\u001b[0m \u001b[43m                \u001b[49m\u001b[38;5;124;43m\"\u001b[39;49m\u001b[38;5;124;43mseed\u001b[39;49m\u001b[38;5;124;43m\"\u001b[39;49m\u001b[43m:\u001b[49m\u001b[43m \u001b[49m\u001b[43mseed\u001b[49m\u001b[43m,\u001b[49m\n\u001b[1;32m    851\u001b[0m \u001b[43m                \u001b[49m\u001b[38;5;124;43m\"\u001b[39;49m\u001b[38;5;124;43mservice_tier\u001b[39;49m\u001b[38;5;124;43m\"\u001b[39;49m\u001b[43m:\u001b[49m\u001b[43m \u001b[49m\u001b[43mservice_tier\u001b[49m\u001b[43m,\u001b[49m\n\u001b[1;32m    852\u001b[0m \u001b[43m                \u001b[49m\u001b[38;5;124;43m\"\u001b[39;49m\u001b[38;5;124;43mstop\u001b[39;49m\u001b[38;5;124;43m\"\u001b[39;49m\u001b[43m:\u001b[49m\u001b[43m \u001b[49m\u001b[43mstop\u001b[49m\u001b[43m,\u001b[49m\n\u001b[1;32m    853\u001b[0m \u001b[43m                \u001b[49m\u001b[38;5;124;43m\"\u001b[39;49m\u001b[38;5;124;43mstore\u001b[39;49m\u001b[38;5;124;43m\"\u001b[39;49m\u001b[43m:\u001b[49m\u001b[43m \u001b[49m\u001b[43mstore\u001b[49m\u001b[43m,\u001b[49m\n\u001b[1;32m    854\u001b[0m \u001b[43m                \u001b[49m\u001b[38;5;124;43m\"\u001b[39;49m\u001b[38;5;124;43mstream\u001b[39;49m\u001b[38;5;124;43m\"\u001b[39;49m\u001b[43m:\u001b[49m\u001b[43m \u001b[49m\u001b[43mstream\u001b[49m\u001b[43m,\u001b[49m\n\u001b[1;32m    855\u001b[0m \u001b[43m                \u001b[49m\u001b[38;5;124;43m\"\u001b[39;49m\u001b[38;5;124;43mstream_options\u001b[39;49m\u001b[38;5;124;43m\"\u001b[39;49m\u001b[43m:\u001b[49m\u001b[43m \u001b[49m\u001b[43mstream_options\u001b[49m\u001b[43m,\u001b[49m\n\u001b[1;32m    856\u001b[0m \u001b[43m                \u001b[49m\u001b[38;5;124;43m\"\u001b[39;49m\u001b[38;5;124;43mtemperature\u001b[39;49m\u001b[38;5;124;43m\"\u001b[39;49m\u001b[43m:\u001b[49m\u001b[43m \u001b[49m\u001b[43mtemperature\u001b[49m\u001b[43m,\u001b[49m\n\u001b[1;32m    857\u001b[0m \u001b[43m                \u001b[49m\u001b[38;5;124;43m\"\u001b[39;49m\u001b[38;5;124;43mtool_choice\u001b[39;49m\u001b[38;5;124;43m\"\u001b[39;49m\u001b[43m:\u001b[49m\u001b[43m \u001b[49m\u001b[43mtool_choice\u001b[49m\u001b[43m,\u001b[49m\n\u001b[1;32m    858\u001b[0m \u001b[43m                \u001b[49m\u001b[38;5;124;43m\"\u001b[39;49m\u001b[38;5;124;43mtools\u001b[39;49m\u001b[38;5;124;43m\"\u001b[39;49m\u001b[43m:\u001b[49m\u001b[43m \u001b[49m\u001b[43mtools\u001b[49m\u001b[43m,\u001b[49m\n\u001b[1;32m    859\u001b[0m \u001b[43m                \u001b[49m\u001b[38;5;124;43m\"\u001b[39;49m\u001b[38;5;124;43mtop_logprobs\u001b[39;49m\u001b[38;5;124;43m\"\u001b[39;49m\u001b[43m:\u001b[49m\u001b[43m \u001b[49m\u001b[43mtop_logprobs\u001b[49m\u001b[43m,\u001b[49m\n\u001b[1;32m    860\u001b[0m \u001b[43m                \u001b[49m\u001b[38;5;124;43m\"\u001b[39;49m\u001b[38;5;124;43mtop_p\u001b[39;49m\u001b[38;5;124;43m\"\u001b[39;49m\u001b[43m:\u001b[49m\u001b[43m \u001b[49m\u001b[43mtop_p\u001b[49m\u001b[43m,\u001b[49m\n\u001b[1;32m    861\u001b[0m \u001b[43m                \u001b[49m\u001b[38;5;124;43m\"\u001b[39;49m\u001b[38;5;124;43muser\u001b[39;49m\u001b[38;5;124;43m\"\u001b[39;49m\u001b[43m:\u001b[49m\u001b[43m \u001b[49m\u001b[43muser\u001b[49m\u001b[43m,\u001b[49m\n\u001b[1;32m    862\u001b[0m \u001b[43m            \u001b[49m\u001b[43m}\u001b[49m\u001b[43m,\u001b[49m\n\u001b[1;32m    863\u001b[0m \u001b[43m            \u001b[49m\u001b[43mcompletion_create_params\u001b[49m\u001b[38;5;241;43m.\u001b[39;49m\u001b[43mCompletionCreateParams\u001b[49m\u001b[43m,\u001b[49m\n\u001b[1;32m    864\u001b[0m \u001b[43m        \u001b[49m\u001b[43m)\u001b[49m\u001b[43m,\u001b[49m\n\u001b[1;32m    865\u001b[0m \u001b[43m        \u001b[49m\u001b[43moptions\u001b[49m\u001b[38;5;241;43m=\u001b[39;49m\u001b[43mmake_request_options\u001b[49m\u001b[43m(\u001b[49m\n\u001b[1;32m    866\u001b[0m \u001b[43m            \u001b[49m\u001b[43mextra_headers\u001b[49m\u001b[38;5;241;43m=\u001b[39;49m\u001b[43mextra_headers\u001b[49m\u001b[43m,\u001b[49m\u001b[43m \u001b[49m\u001b[43mextra_query\u001b[49m\u001b[38;5;241;43m=\u001b[39;49m\u001b[43mextra_query\u001b[49m\u001b[43m,\u001b[49m\u001b[43m \u001b[49m\u001b[43mextra_body\u001b[49m\u001b[38;5;241;43m=\u001b[39;49m\u001b[43mextra_body\u001b[49m\u001b[43m,\u001b[49m\u001b[43m \u001b[49m\u001b[43mtimeout\u001b[49m\u001b[38;5;241;43m=\u001b[39;49m\u001b[43mtimeout\u001b[49m\n\u001b[1;32m    867\u001b[0m \u001b[43m        \u001b[49m\u001b[43m)\u001b[49m\u001b[43m,\u001b[49m\n\u001b[1;32m    868\u001b[0m \u001b[43m        \u001b[49m\u001b[43mcast_to\u001b[49m\u001b[38;5;241;43m=\u001b[39;49m\u001b[43mChatCompletion\u001b[49m\u001b[43m,\u001b[49m\n\u001b[1;32m    869\u001b[0m \u001b[43m        \u001b[49m\u001b[43mstream\u001b[49m\u001b[38;5;241;43m=\u001b[39;49m\u001b[43mstream\u001b[49m\u001b[43m \u001b[49m\u001b[38;5;129;43;01mor\u001b[39;49;00m\u001b[43m \u001b[49m\u001b[38;5;28;43;01mFalse\u001b[39;49;00m\u001b[43m,\u001b[49m\n\u001b[1;32m    870\u001b[0m \u001b[43m        \u001b[49m\u001b[43mstream_cls\u001b[49m\u001b[38;5;241;43m=\u001b[39;49m\u001b[43mStream\u001b[49m\u001b[43m[\u001b[49m\u001b[43mChatCompletionChunk\u001b[49m\u001b[43m]\u001b[49m\u001b[43m,\u001b[49m\n\u001b[1;32m    871\u001b[0m \u001b[43m    \u001b[49m\u001b[43m)\u001b[49m\n",
      "File \u001b[0;32m~/Documents/Columbia_Grad/LLM & DL System Performance/Project.nosync/COMS-6998-LLM-Final-Project/.venv/lib/python3.12/site-packages/openai/_base_client.py:1280\u001b[0m, in \u001b[0;36mSyncAPIClient.post\u001b[0;34m(self, path, cast_to, body, options, files, stream, stream_cls)\u001b[0m\n\u001b[1;32m   1266\u001b[0m \u001b[38;5;28;01mdef\u001b[39;00m \u001b[38;5;21mpost\u001b[39m(\n\u001b[1;32m   1267\u001b[0m     \u001b[38;5;28mself\u001b[39m,\n\u001b[1;32m   1268\u001b[0m     path: \u001b[38;5;28mstr\u001b[39m,\n\u001b[0;32m   (...)\u001b[0m\n\u001b[1;32m   1275\u001b[0m     stream_cls: \u001b[38;5;28mtype\u001b[39m[_StreamT] \u001b[38;5;241m|\u001b[39m \u001b[38;5;28;01mNone\u001b[39;00m \u001b[38;5;241m=\u001b[39m \u001b[38;5;28;01mNone\u001b[39;00m,\n\u001b[1;32m   1276\u001b[0m ) \u001b[38;5;241m-\u001b[39m\u001b[38;5;241m>\u001b[39m ResponseT \u001b[38;5;241m|\u001b[39m _StreamT:\n\u001b[1;32m   1277\u001b[0m     opts \u001b[38;5;241m=\u001b[39m FinalRequestOptions\u001b[38;5;241m.\u001b[39mconstruct(\n\u001b[1;32m   1278\u001b[0m         method\u001b[38;5;241m=\u001b[39m\u001b[38;5;124m\"\u001b[39m\u001b[38;5;124mpost\u001b[39m\u001b[38;5;124m\"\u001b[39m, url\u001b[38;5;241m=\u001b[39mpath, json_data\u001b[38;5;241m=\u001b[39mbody, files\u001b[38;5;241m=\u001b[39mto_httpx_files(files), \u001b[38;5;241m*\u001b[39m\u001b[38;5;241m*\u001b[39moptions\n\u001b[1;32m   1279\u001b[0m     )\n\u001b[0;32m-> 1280\u001b[0m     \u001b[38;5;28;01mreturn\u001b[39;00m cast(ResponseT, \u001b[38;5;28;43mself\u001b[39;49m\u001b[38;5;241;43m.\u001b[39;49m\u001b[43mrequest\u001b[49m\u001b[43m(\u001b[49m\u001b[43mcast_to\u001b[49m\u001b[43m,\u001b[49m\u001b[43m \u001b[49m\u001b[43mopts\u001b[49m\u001b[43m,\u001b[49m\u001b[43m \u001b[49m\u001b[43mstream\u001b[49m\u001b[38;5;241;43m=\u001b[39;49m\u001b[43mstream\u001b[49m\u001b[43m,\u001b[49m\u001b[43m \u001b[49m\u001b[43mstream_cls\u001b[49m\u001b[38;5;241;43m=\u001b[39;49m\u001b[43mstream_cls\u001b[49m\u001b[43m)\u001b[49m)\n",
      "File \u001b[0;32m~/Documents/Columbia_Grad/LLM & DL System Performance/Project.nosync/COMS-6998-LLM-Final-Project/.venv/lib/python3.12/site-packages/openai/_base_client.py:957\u001b[0m, in \u001b[0;36mSyncAPIClient.request\u001b[0;34m(self, cast_to, options, remaining_retries, stream, stream_cls)\u001b[0m\n\u001b[1;32m    954\u001b[0m \u001b[38;5;28;01melse\u001b[39;00m:\n\u001b[1;32m    955\u001b[0m     retries_taken \u001b[38;5;241m=\u001b[39m \u001b[38;5;241m0\u001b[39m\n\u001b[0;32m--> 957\u001b[0m \u001b[38;5;28;01mreturn\u001b[39;00m \u001b[38;5;28;43mself\u001b[39;49m\u001b[38;5;241;43m.\u001b[39;49m\u001b[43m_request\u001b[49m\u001b[43m(\u001b[49m\n\u001b[1;32m    958\u001b[0m \u001b[43m    \u001b[49m\u001b[43mcast_to\u001b[49m\u001b[38;5;241;43m=\u001b[39;49m\u001b[43mcast_to\u001b[49m\u001b[43m,\u001b[49m\n\u001b[1;32m    959\u001b[0m \u001b[43m    \u001b[49m\u001b[43moptions\u001b[49m\u001b[38;5;241;43m=\u001b[39;49m\u001b[43moptions\u001b[49m\u001b[43m,\u001b[49m\n\u001b[1;32m    960\u001b[0m \u001b[43m    \u001b[49m\u001b[43mstream\u001b[49m\u001b[38;5;241;43m=\u001b[39;49m\u001b[43mstream\u001b[49m\u001b[43m,\u001b[49m\n\u001b[1;32m    961\u001b[0m \u001b[43m    \u001b[49m\u001b[43mstream_cls\u001b[49m\u001b[38;5;241;43m=\u001b[39;49m\u001b[43mstream_cls\u001b[49m\u001b[43m,\u001b[49m\n\u001b[1;32m    962\u001b[0m \u001b[43m    \u001b[49m\u001b[43mretries_taken\u001b[49m\u001b[38;5;241;43m=\u001b[39;49m\u001b[43mretries_taken\u001b[49m\u001b[43m,\u001b[49m\n\u001b[1;32m    963\u001b[0m \u001b[43m\u001b[49m\u001b[43m)\u001b[49m\n",
      "File \u001b[0;32m~/Documents/Columbia_Grad/LLM & DL System Performance/Project.nosync/COMS-6998-LLM-Final-Project/.venv/lib/python3.12/site-packages/openai/_base_client.py:993\u001b[0m, in \u001b[0;36mSyncAPIClient._request\u001b[0;34m(self, cast_to, options, retries_taken, stream, stream_cls)\u001b[0m\n\u001b[1;32m    990\u001b[0m log\u001b[38;5;241m.\u001b[39mdebug(\u001b[38;5;124m\"\u001b[39m\u001b[38;5;124mSending HTTP Request: \u001b[39m\u001b[38;5;132;01m%s\u001b[39;00m\u001b[38;5;124m \u001b[39m\u001b[38;5;132;01m%s\u001b[39;00m\u001b[38;5;124m\"\u001b[39m, request\u001b[38;5;241m.\u001b[39mmethod, request\u001b[38;5;241m.\u001b[39murl)\n\u001b[1;32m    992\u001b[0m \u001b[38;5;28;01mtry\u001b[39;00m:\n\u001b[0;32m--> 993\u001b[0m     response \u001b[38;5;241m=\u001b[39m \u001b[38;5;28;43mself\u001b[39;49m\u001b[38;5;241;43m.\u001b[39;49m\u001b[43m_client\u001b[49m\u001b[38;5;241;43m.\u001b[39;49m\u001b[43msend\u001b[49m\u001b[43m(\u001b[49m\n\u001b[1;32m    994\u001b[0m \u001b[43m        \u001b[49m\u001b[43mrequest\u001b[49m\u001b[43m,\u001b[49m\n\u001b[1;32m    995\u001b[0m \u001b[43m        \u001b[49m\u001b[43mstream\u001b[49m\u001b[38;5;241;43m=\u001b[39;49m\u001b[43mstream\u001b[49m\u001b[43m \u001b[49m\u001b[38;5;129;43;01mor\u001b[39;49;00m\u001b[43m \u001b[49m\u001b[38;5;28;43mself\u001b[39;49m\u001b[38;5;241;43m.\u001b[39;49m\u001b[43m_should_stream_response_body\u001b[49m\u001b[43m(\u001b[49m\u001b[43mrequest\u001b[49m\u001b[38;5;241;43m=\u001b[39;49m\u001b[43mrequest\u001b[49m\u001b[43m)\u001b[49m\u001b[43m,\u001b[49m\n\u001b[1;32m    996\u001b[0m \u001b[43m        \u001b[49m\u001b[38;5;241;43m*\u001b[39;49m\u001b[38;5;241;43m*\u001b[39;49m\u001b[43mkwargs\u001b[49m\u001b[43m,\u001b[49m\n\u001b[1;32m    997\u001b[0m \u001b[43m    \u001b[49m\u001b[43m)\u001b[49m\n\u001b[1;32m    998\u001b[0m \u001b[38;5;28;01mexcept\u001b[39;00m httpx\u001b[38;5;241m.\u001b[39mTimeoutException \u001b[38;5;28;01mas\u001b[39;00m err:\n\u001b[1;32m    999\u001b[0m     log\u001b[38;5;241m.\u001b[39mdebug(\u001b[38;5;124m\"\u001b[39m\u001b[38;5;124mEncountered httpx.TimeoutException\u001b[39m\u001b[38;5;124m\"\u001b[39m, exc_info\u001b[38;5;241m=\u001b[39m\u001b[38;5;28;01mTrue\u001b[39;00m)\n",
      "File \u001b[0;32m~/Documents/Columbia_Grad/LLM & DL System Performance/Project.nosync/COMS-6998-LLM-Final-Project/.venv/lib/python3.12/site-packages/httpx/_client.py:926\u001b[0m, in \u001b[0;36mClient.send\u001b[0;34m(self, request, stream, auth, follow_redirects)\u001b[0m\n\u001b[1;32m    922\u001b[0m \u001b[38;5;28mself\u001b[39m\u001b[38;5;241m.\u001b[39m_set_timeout(request)\n\u001b[1;32m    924\u001b[0m auth \u001b[38;5;241m=\u001b[39m \u001b[38;5;28mself\u001b[39m\u001b[38;5;241m.\u001b[39m_build_request_auth(request, auth)\n\u001b[0;32m--> 926\u001b[0m response \u001b[38;5;241m=\u001b[39m \u001b[38;5;28;43mself\u001b[39;49m\u001b[38;5;241;43m.\u001b[39;49m\u001b[43m_send_handling_auth\u001b[49m\u001b[43m(\u001b[49m\n\u001b[1;32m    927\u001b[0m \u001b[43m    \u001b[49m\u001b[43mrequest\u001b[49m\u001b[43m,\u001b[49m\n\u001b[1;32m    928\u001b[0m \u001b[43m    \u001b[49m\u001b[43mauth\u001b[49m\u001b[38;5;241;43m=\u001b[39;49m\u001b[43mauth\u001b[49m\u001b[43m,\u001b[49m\n\u001b[1;32m    929\u001b[0m \u001b[43m    \u001b[49m\u001b[43mfollow_redirects\u001b[49m\u001b[38;5;241;43m=\u001b[39;49m\u001b[43mfollow_redirects\u001b[49m\u001b[43m,\u001b[49m\n\u001b[1;32m    930\u001b[0m \u001b[43m    \u001b[49m\u001b[43mhistory\u001b[49m\u001b[38;5;241;43m=\u001b[39;49m\u001b[43m[\u001b[49m\u001b[43m]\u001b[49m\u001b[43m,\u001b[49m\n\u001b[1;32m    931\u001b[0m \u001b[43m\u001b[49m\u001b[43m)\u001b[49m\n\u001b[1;32m    932\u001b[0m \u001b[38;5;28;01mtry\u001b[39;00m:\n\u001b[1;32m    933\u001b[0m     \u001b[38;5;28;01mif\u001b[39;00m \u001b[38;5;129;01mnot\u001b[39;00m stream:\n",
      "File \u001b[0;32m~/Documents/Columbia_Grad/LLM & DL System Performance/Project.nosync/COMS-6998-LLM-Final-Project/.venv/lib/python3.12/site-packages/httpx/_client.py:954\u001b[0m, in \u001b[0;36mClient._send_handling_auth\u001b[0;34m(self, request, auth, follow_redirects, history)\u001b[0m\n\u001b[1;32m    951\u001b[0m request \u001b[38;5;241m=\u001b[39m \u001b[38;5;28mnext\u001b[39m(auth_flow)\n\u001b[1;32m    953\u001b[0m \u001b[38;5;28;01mwhile\u001b[39;00m \u001b[38;5;28;01mTrue\u001b[39;00m:\n\u001b[0;32m--> 954\u001b[0m     response \u001b[38;5;241m=\u001b[39m \u001b[38;5;28;43mself\u001b[39;49m\u001b[38;5;241;43m.\u001b[39;49m\u001b[43m_send_handling_redirects\u001b[49m\u001b[43m(\u001b[49m\n\u001b[1;32m    955\u001b[0m \u001b[43m        \u001b[49m\u001b[43mrequest\u001b[49m\u001b[43m,\u001b[49m\n\u001b[1;32m    956\u001b[0m \u001b[43m        \u001b[49m\u001b[43mfollow_redirects\u001b[49m\u001b[38;5;241;43m=\u001b[39;49m\u001b[43mfollow_redirects\u001b[49m\u001b[43m,\u001b[49m\n\u001b[1;32m    957\u001b[0m \u001b[43m        \u001b[49m\u001b[43mhistory\u001b[49m\u001b[38;5;241;43m=\u001b[39;49m\u001b[43mhistory\u001b[49m\u001b[43m,\u001b[49m\n\u001b[1;32m    958\u001b[0m \u001b[43m    \u001b[49m\u001b[43m)\u001b[49m\n\u001b[1;32m    959\u001b[0m     \u001b[38;5;28;01mtry\u001b[39;00m:\n\u001b[1;32m    960\u001b[0m         \u001b[38;5;28;01mtry\u001b[39;00m:\n",
      "File \u001b[0;32m~/Documents/Columbia_Grad/LLM & DL System Performance/Project.nosync/COMS-6998-LLM-Final-Project/.venv/lib/python3.12/site-packages/httpx/_client.py:991\u001b[0m, in \u001b[0;36mClient._send_handling_redirects\u001b[0;34m(self, request, follow_redirects, history)\u001b[0m\n\u001b[1;32m    988\u001b[0m \u001b[38;5;28;01mfor\u001b[39;00m hook \u001b[38;5;129;01min\u001b[39;00m \u001b[38;5;28mself\u001b[39m\u001b[38;5;241m.\u001b[39m_event_hooks[\u001b[38;5;124m\"\u001b[39m\u001b[38;5;124mrequest\u001b[39m\u001b[38;5;124m\"\u001b[39m]:\n\u001b[1;32m    989\u001b[0m     hook(request)\n\u001b[0;32m--> 991\u001b[0m response \u001b[38;5;241m=\u001b[39m \u001b[38;5;28;43mself\u001b[39;49m\u001b[38;5;241;43m.\u001b[39;49m\u001b[43m_send_single_request\u001b[49m\u001b[43m(\u001b[49m\u001b[43mrequest\u001b[49m\u001b[43m)\u001b[49m\n\u001b[1;32m    992\u001b[0m \u001b[38;5;28;01mtry\u001b[39;00m:\n\u001b[1;32m    993\u001b[0m     \u001b[38;5;28;01mfor\u001b[39;00m hook \u001b[38;5;129;01min\u001b[39;00m \u001b[38;5;28mself\u001b[39m\u001b[38;5;241m.\u001b[39m_event_hooks[\u001b[38;5;124m\"\u001b[39m\u001b[38;5;124mresponse\u001b[39m\u001b[38;5;124m\"\u001b[39m]:\n",
      "File \u001b[0;32m~/Documents/Columbia_Grad/LLM & DL System Performance/Project.nosync/COMS-6998-LLM-Final-Project/.venv/lib/python3.12/site-packages/httpx/_client.py:1027\u001b[0m, in \u001b[0;36mClient._send_single_request\u001b[0;34m(self, request)\u001b[0m\n\u001b[1;32m   1022\u001b[0m     \u001b[38;5;28;01mraise\u001b[39;00m \u001b[38;5;167;01mRuntimeError\u001b[39;00m(\n\u001b[1;32m   1023\u001b[0m         \u001b[38;5;124m\"\u001b[39m\u001b[38;5;124mAttempted to send an async request with a sync Client instance.\u001b[39m\u001b[38;5;124m\"\u001b[39m\n\u001b[1;32m   1024\u001b[0m     )\n\u001b[1;32m   1026\u001b[0m \u001b[38;5;28;01mwith\u001b[39;00m request_context(request\u001b[38;5;241m=\u001b[39mrequest):\n\u001b[0;32m-> 1027\u001b[0m     response \u001b[38;5;241m=\u001b[39m \u001b[43mtransport\u001b[49m\u001b[38;5;241;43m.\u001b[39;49m\u001b[43mhandle_request\u001b[49m\u001b[43m(\u001b[49m\u001b[43mrequest\u001b[49m\u001b[43m)\u001b[49m\n\u001b[1;32m   1029\u001b[0m \u001b[38;5;28;01massert\u001b[39;00m \u001b[38;5;28misinstance\u001b[39m(response\u001b[38;5;241m.\u001b[39mstream, SyncByteStream)\n\u001b[1;32m   1031\u001b[0m response\u001b[38;5;241m.\u001b[39mrequest \u001b[38;5;241m=\u001b[39m request\n",
      "File \u001b[0;32m~/Documents/Columbia_Grad/LLM & DL System Performance/Project.nosync/COMS-6998-LLM-Final-Project/.venv/lib/python3.12/site-packages/httpx/_transports/default.py:236\u001b[0m, in \u001b[0;36mHTTPTransport.handle_request\u001b[0;34m(self, request)\u001b[0m\n\u001b[1;32m    223\u001b[0m req \u001b[38;5;241m=\u001b[39m httpcore\u001b[38;5;241m.\u001b[39mRequest(\n\u001b[1;32m    224\u001b[0m     method\u001b[38;5;241m=\u001b[39mrequest\u001b[38;5;241m.\u001b[39mmethod,\n\u001b[1;32m    225\u001b[0m     url\u001b[38;5;241m=\u001b[39mhttpcore\u001b[38;5;241m.\u001b[39mURL(\n\u001b[0;32m   (...)\u001b[0m\n\u001b[1;32m    233\u001b[0m     extensions\u001b[38;5;241m=\u001b[39mrequest\u001b[38;5;241m.\u001b[39mextensions,\n\u001b[1;32m    234\u001b[0m )\n\u001b[1;32m    235\u001b[0m \u001b[38;5;28;01mwith\u001b[39;00m map_httpcore_exceptions():\n\u001b[0;32m--> 236\u001b[0m     resp \u001b[38;5;241m=\u001b[39m \u001b[38;5;28;43mself\u001b[39;49m\u001b[38;5;241;43m.\u001b[39;49m\u001b[43m_pool\u001b[49m\u001b[38;5;241;43m.\u001b[39;49m\u001b[43mhandle_request\u001b[49m\u001b[43m(\u001b[49m\u001b[43mreq\u001b[49m\u001b[43m)\u001b[49m\n\u001b[1;32m    238\u001b[0m \u001b[38;5;28;01massert\u001b[39;00m \u001b[38;5;28misinstance\u001b[39m(resp\u001b[38;5;241m.\u001b[39mstream, typing\u001b[38;5;241m.\u001b[39mIterable)\n\u001b[1;32m    240\u001b[0m \u001b[38;5;28;01mreturn\u001b[39;00m Response(\n\u001b[1;32m    241\u001b[0m     status_code\u001b[38;5;241m=\u001b[39mresp\u001b[38;5;241m.\u001b[39mstatus,\n\u001b[1;32m    242\u001b[0m     headers\u001b[38;5;241m=\u001b[39mresp\u001b[38;5;241m.\u001b[39mheaders,\n\u001b[1;32m    243\u001b[0m     stream\u001b[38;5;241m=\u001b[39mResponseStream(resp\u001b[38;5;241m.\u001b[39mstream),\n\u001b[1;32m    244\u001b[0m     extensions\u001b[38;5;241m=\u001b[39mresp\u001b[38;5;241m.\u001b[39mextensions,\n\u001b[1;32m    245\u001b[0m )\n",
      "File \u001b[0;32m~/Documents/Columbia_Grad/LLM & DL System Performance/Project.nosync/COMS-6998-LLM-Final-Project/.venv/lib/python3.12/site-packages/httpcore/_sync/connection_pool.py:256\u001b[0m, in \u001b[0;36mConnectionPool.handle_request\u001b[0;34m(self, request)\u001b[0m\n\u001b[1;32m    253\u001b[0m         closing \u001b[38;5;241m=\u001b[39m \u001b[38;5;28mself\u001b[39m\u001b[38;5;241m.\u001b[39m_assign_requests_to_connections()\n\u001b[1;32m    255\u001b[0m     \u001b[38;5;28mself\u001b[39m\u001b[38;5;241m.\u001b[39m_close_connections(closing)\n\u001b[0;32m--> 256\u001b[0m     \u001b[38;5;28;01mraise\u001b[39;00m exc \u001b[38;5;28;01mfrom\u001b[39;00m \u001b[38;5;28;01mNone\u001b[39;00m\n\u001b[1;32m    258\u001b[0m \u001b[38;5;66;03m# Return the response. Note that in this case we still have to manage\u001b[39;00m\n\u001b[1;32m    259\u001b[0m \u001b[38;5;66;03m# the point at which the response is closed.\u001b[39;00m\n\u001b[1;32m    260\u001b[0m \u001b[38;5;28;01massert\u001b[39;00m \u001b[38;5;28misinstance\u001b[39m(response\u001b[38;5;241m.\u001b[39mstream, typing\u001b[38;5;241m.\u001b[39mIterable)\n",
      "File \u001b[0;32m~/Documents/Columbia_Grad/LLM & DL System Performance/Project.nosync/COMS-6998-LLM-Final-Project/.venv/lib/python3.12/site-packages/httpcore/_sync/connection_pool.py:236\u001b[0m, in \u001b[0;36mConnectionPool.handle_request\u001b[0;34m(self, request)\u001b[0m\n\u001b[1;32m    232\u001b[0m connection \u001b[38;5;241m=\u001b[39m pool_request\u001b[38;5;241m.\u001b[39mwait_for_connection(timeout\u001b[38;5;241m=\u001b[39mtimeout)\n\u001b[1;32m    234\u001b[0m \u001b[38;5;28;01mtry\u001b[39;00m:\n\u001b[1;32m    235\u001b[0m     \u001b[38;5;66;03m# Send the request on the assigned connection.\u001b[39;00m\n\u001b[0;32m--> 236\u001b[0m     response \u001b[38;5;241m=\u001b[39m \u001b[43mconnection\u001b[49m\u001b[38;5;241;43m.\u001b[39;49m\u001b[43mhandle_request\u001b[49m\u001b[43m(\u001b[49m\n\u001b[1;32m    237\u001b[0m \u001b[43m        \u001b[49m\u001b[43mpool_request\u001b[49m\u001b[38;5;241;43m.\u001b[39;49m\u001b[43mrequest\u001b[49m\n\u001b[1;32m    238\u001b[0m \u001b[43m    \u001b[49m\u001b[43m)\u001b[49m\n\u001b[1;32m    239\u001b[0m \u001b[38;5;28;01mexcept\u001b[39;00m ConnectionNotAvailable:\n\u001b[1;32m    240\u001b[0m     \u001b[38;5;66;03m# In some cases a connection may initially be available to\u001b[39;00m\n\u001b[1;32m    241\u001b[0m     \u001b[38;5;66;03m# handle a request, but then become unavailable.\u001b[39;00m\n\u001b[1;32m    242\u001b[0m     \u001b[38;5;66;03m#\u001b[39;00m\n\u001b[1;32m    243\u001b[0m     \u001b[38;5;66;03m# In this case we clear the connection and try again.\u001b[39;00m\n\u001b[1;32m    244\u001b[0m     pool_request\u001b[38;5;241m.\u001b[39mclear_connection()\n",
      "File \u001b[0;32m~/Documents/Columbia_Grad/LLM & DL System Performance/Project.nosync/COMS-6998-LLM-Final-Project/.venv/lib/python3.12/site-packages/httpcore/_sync/connection.py:103\u001b[0m, in \u001b[0;36mHTTPConnection.handle_request\u001b[0;34m(self, request)\u001b[0m\n\u001b[1;32m    100\u001b[0m     \u001b[38;5;28mself\u001b[39m\u001b[38;5;241m.\u001b[39m_connect_failed \u001b[38;5;241m=\u001b[39m \u001b[38;5;28;01mTrue\u001b[39;00m\n\u001b[1;32m    101\u001b[0m     \u001b[38;5;28;01mraise\u001b[39;00m exc\n\u001b[0;32m--> 103\u001b[0m \u001b[38;5;28;01mreturn\u001b[39;00m \u001b[38;5;28;43mself\u001b[39;49m\u001b[38;5;241;43m.\u001b[39;49m\u001b[43m_connection\u001b[49m\u001b[38;5;241;43m.\u001b[39;49m\u001b[43mhandle_request\u001b[49m\u001b[43m(\u001b[49m\u001b[43mrequest\u001b[49m\u001b[43m)\u001b[49m\n",
      "File \u001b[0;32m~/Documents/Columbia_Grad/LLM & DL System Performance/Project.nosync/COMS-6998-LLM-Final-Project/.venv/lib/python3.12/site-packages/httpcore/_sync/http11.py:136\u001b[0m, in \u001b[0;36mHTTP11Connection.handle_request\u001b[0;34m(self, request)\u001b[0m\n\u001b[1;32m    134\u001b[0m     \u001b[38;5;28;01mwith\u001b[39;00m Trace(\u001b[38;5;124m\"\u001b[39m\u001b[38;5;124mresponse_closed\u001b[39m\u001b[38;5;124m\"\u001b[39m, logger, request) \u001b[38;5;28;01mas\u001b[39;00m trace:\n\u001b[1;32m    135\u001b[0m         \u001b[38;5;28mself\u001b[39m\u001b[38;5;241m.\u001b[39m_response_closed()\n\u001b[0;32m--> 136\u001b[0m \u001b[38;5;28;01mraise\u001b[39;00m exc\n",
      "File \u001b[0;32m~/Documents/Columbia_Grad/LLM & DL System Performance/Project.nosync/COMS-6998-LLM-Final-Project/.venv/lib/python3.12/site-packages/httpcore/_sync/http11.py:106\u001b[0m, in \u001b[0;36mHTTP11Connection.handle_request\u001b[0;34m(self, request)\u001b[0m\n\u001b[1;32m     95\u001b[0m     \u001b[38;5;28;01mpass\u001b[39;00m\n\u001b[1;32m     97\u001b[0m \u001b[38;5;28;01mwith\u001b[39;00m Trace(\n\u001b[1;32m     98\u001b[0m     \u001b[38;5;124m\"\u001b[39m\u001b[38;5;124mreceive_response_headers\u001b[39m\u001b[38;5;124m\"\u001b[39m, logger, request, kwargs\n\u001b[1;32m     99\u001b[0m ) \u001b[38;5;28;01mas\u001b[39;00m trace:\n\u001b[1;32m    100\u001b[0m     (\n\u001b[1;32m    101\u001b[0m         http_version,\n\u001b[1;32m    102\u001b[0m         status,\n\u001b[1;32m    103\u001b[0m         reason_phrase,\n\u001b[1;32m    104\u001b[0m         headers,\n\u001b[1;32m    105\u001b[0m         trailing_data,\n\u001b[0;32m--> 106\u001b[0m     ) \u001b[38;5;241m=\u001b[39m \u001b[38;5;28;43mself\u001b[39;49m\u001b[38;5;241;43m.\u001b[39;49m\u001b[43m_receive_response_headers\u001b[49m\u001b[43m(\u001b[49m\u001b[38;5;241;43m*\u001b[39;49m\u001b[38;5;241;43m*\u001b[39;49m\u001b[43mkwargs\u001b[49m\u001b[43m)\u001b[49m\n\u001b[1;32m    107\u001b[0m     trace\u001b[38;5;241m.\u001b[39mreturn_value \u001b[38;5;241m=\u001b[39m (\n\u001b[1;32m    108\u001b[0m         http_version,\n\u001b[1;32m    109\u001b[0m         status,\n\u001b[1;32m    110\u001b[0m         reason_phrase,\n\u001b[1;32m    111\u001b[0m         headers,\n\u001b[1;32m    112\u001b[0m     )\n\u001b[1;32m    114\u001b[0m network_stream \u001b[38;5;241m=\u001b[39m \u001b[38;5;28mself\u001b[39m\u001b[38;5;241m.\u001b[39m_network_stream\n",
      "File \u001b[0;32m~/Documents/Columbia_Grad/LLM & DL System Performance/Project.nosync/COMS-6998-LLM-Final-Project/.venv/lib/python3.12/site-packages/httpcore/_sync/http11.py:177\u001b[0m, in \u001b[0;36mHTTP11Connection._receive_response_headers\u001b[0;34m(self, request)\u001b[0m\n\u001b[1;32m    174\u001b[0m timeout \u001b[38;5;241m=\u001b[39m timeouts\u001b[38;5;241m.\u001b[39mget(\u001b[38;5;124m\"\u001b[39m\u001b[38;5;124mread\u001b[39m\u001b[38;5;124m\"\u001b[39m, \u001b[38;5;28;01mNone\u001b[39;00m)\n\u001b[1;32m    176\u001b[0m \u001b[38;5;28;01mwhile\u001b[39;00m \u001b[38;5;28;01mTrue\u001b[39;00m:\n\u001b[0;32m--> 177\u001b[0m     event \u001b[38;5;241m=\u001b[39m \u001b[38;5;28;43mself\u001b[39;49m\u001b[38;5;241;43m.\u001b[39;49m\u001b[43m_receive_event\u001b[49m\u001b[43m(\u001b[49m\u001b[43mtimeout\u001b[49m\u001b[38;5;241;43m=\u001b[39;49m\u001b[43mtimeout\u001b[49m\u001b[43m)\u001b[49m\n\u001b[1;32m    178\u001b[0m     \u001b[38;5;28;01mif\u001b[39;00m \u001b[38;5;28misinstance\u001b[39m(event, h11\u001b[38;5;241m.\u001b[39mResponse):\n\u001b[1;32m    179\u001b[0m         \u001b[38;5;28;01mbreak\u001b[39;00m\n",
      "File \u001b[0;32m~/Documents/Columbia_Grad/LLM & DL System Performance/Project.nosync/COMS-6998-LLM-Final-Project/.venv/lib/python3.12/site-packages/httpcore/_sync/http11.py:217\u001b[0m, in \u001b[0;36mHTTP11Connection._receive_event\u001b[0;34m(self, timeout)\u001b[0m\n\u001b[1;32m    214\u001b[0m     event \u001b[38;5;241m=\u001b[39m \u001b[38;5;28mself\u001b[39m\u001b[38;5;241m.\u001b[39m_h11_state\u001b[38;5;241m.\u001b[39mnext_event()\n\u001b[1;32m    216\u001b[0m \u001b[38;5;28;01mif\u001b[39;00m event \u001b[38;5;129;01mis\u001b[39;00m h11\u001b[38;5;241m.\u001b[39mNEED_DATA:\n\u001b[0;32m--> 217\u001b[0m     data \u001b[38;5;241m=\u001b[39m \u001b[38;5;28;43mself\u001b[39;49m\u001b[38;5;241;43m.\u001b[39;49m\u001b[43m_network_stream\u001b[49m\u001b[38;5;241;43m.\u001b[39;49m\u001b[43mread\u001b[49m\u001b[43m(\u001b[49m\n\u001b[1;32m    218\u001b[0m \u001b[43m        \u001b[49m\u001b[38;5;28;43mself\u001b[39;49m\u001b[38;5;241;43m.\u001b[39;49m\u001b[43mREAD_NUM_BYTES\u001b[49m\u001b[43m,\u001b[49m\u001b[43m \u001b[49m\u001b[43mtimeout\u001b[49m\u001b[38;5;241;43m=\u001b[39;49m\u001b[43mtimeout\u001b[49m\n\u001b[1;32m    219\u001b[0m \u001b[43m    \u001b[49m\u001b[43m)\u001b[49m\n\u001b[1;32m    221\u001b[0m     \u001b[38;5;66;03m# If we feed this case through h11 we'll raise an exception like:\u001b[39;00m\n\u001b[1;32m    222\u001b[0m     \u001b[38;5;66;03m#\u001b[39;00m\n\u001b[1;32m    223\u001b[0m     \u001b[38;5;66;03m#     httpcore.RemoteProtocolError: can't handle event type\u001b[39;00m\n\u001b[0;32m   (...)\u001b[0m\n\u001b[1;32m    227\u001b[0m     \u001b[38;5;66;03m# perspective. Instead we handle this case distinctly and treat\u001b[39;00m\n\u001b[1;32m    228\u001b[0m     \u001b[38;5;66;03m# it as a ConnectError.\u001b[39;00m\n\u001b[1;32m    229\u001b[0m     \u001b[38;5;28;01mif\u001b[39;00m data \u001b[38;5;241m==\u001b[39m \u001b[38;5;124mb\u001b[39m\u001b[38;5;124m\"\u001b[39m\u001b[38;5;124m\"\u001b[39m \u001b[38;5;129;01mand\u001b[39;00m \u001b[38;5;28mself\u001b[39m\u001b[38;5;241m.\u001b[39m_h11_state\u001b[38;5;241m.\u001b[39mtheir_state \u001b[38;5;241m==\u001b[39m h11\u001b[38;5;241m.\u001b[39mSEND_RESPONSE:\n",
      "File \u001b[0;32m~/Documents/Columbia_Grad/LLM & DL System Performance/Project.nosync/COMS-6998-LLM-Final-Project/.venv/lib/python3.12/site-packages/httpcore/_backends/sync.py:128\u001b[0m, in \u001b[0;36mSyncStream.read\u001b[0;34m(self, max_bytes, timeout)\u001b[0m\n\u001b[1;32m    126\u001b[0m \u001b[38;5;28;01mwith\u001b[39;00m map_exceptions(exc_map):\n\u001b[1;32m    127\u001b[0m     \u001b[38;5;28mself\u001b[39m\u001b[38;5;241m.\u001b[39m_sock\u001b[38;5;241m.\u001b[39msettimeout(timeout)\n\u001b[0;32m--> 128\u001b[0m     \u001b[38;5;28;01mreturn\u001b[39;00m \u001b[38;5;28;43mself\u001b[39;49m\u001b[38;5;241;43m.\u001b[39;49m\u001b[43m_sock\u001b[49m\u001b[38;5;241;43m.\u001b[39;49m\u001b[43mrecv\u001b[49m\u001b[43m(\u001b[49m\u001b[43mmax_bytes\u001b[49m\u001b[43m)\u001b[49m\n",
      "File \u001b[0;32m/Library/Frameworks/Python.framework/Versions/3.12/lib/python3.12/ssl.py:1233\u001b[0m, in \u001b[0;36mSSLSocket.recv\u001b[0;34m(self, buflen, flags)\u001b[0m\n\u001b[1;32m   1229\u001b[0m     \u001b[38;5;28;01mif\u001b[39;00m flags \u001b[38;5;241m!=\u001b[39m \u001b[38;5;241m0\u001b[39m:\n\u001b[1;32m   1230\u001b[0m         \u001b[38;5;28;01mraise\u001b[39;00m \u001b[38;5;167;01mValueError\u001b[39;00m(\n\u001b[1;32m   1231\u001b[0m             \u001b[38;5;124m\"\u001b[39m\u001b[38;5;124mnon-zero flags not allowed in calls to recv() on \u001b[39m\u001b[38;5;132;01m%s\u001b[39;00m\u001b[38;5;124m\"\u001b[39m \u001b[38;5;241m%\u001b[39m\n\u001b[1;32m   1232\u001b[0m             \u001b[38;5;28mself\u001b[39m\u001b[38;5;241m.\u001b[39m\u001b[38;5;18m__class__\u001b[39m)\n\u001b[0;32m-> 1233\u001b[0m     \u001b[38;5;28;01mreturn\u001b[39;00m \u001b[38;5;28;43mself\u001b[39;49m\u001b[38;5;241;43m.\u001b[39;49m\u001b[43mread\u001b[49m\u001b[43m(\u001b[49m\u001b[43mbuflen\u001b[49m\u001b[43m)\u001b[49m\n\u001b[1;32m   1234\u001b[0m \u001b[38;5;28;01melse\u001b[39;00m:\n\u001b[1;32m   1235\u001b[0m     \u001b[38;5;28;01mreturn\u001b[39;00m \u001b[38;5;28msuper\u001b[39m()\u001b[38;5;241m.\u001b[39mrecv(buflen, flags)\n",
      "File \u001b[0;32m/Library/Frameworks/Python.framework/Versions/3.12/lib/python3.12/ssl.py:1106\u001b[0m, in \u001b[0;36mSSLSocket.read\u001b[0;34m(self, len, buffer)\u001b[0m\n\u001b[1;32m   1104\u001b[0m         \u001b[38;5;28;01mreturn\u001b[39;00m \u001b[38;5;28mself\u001b[39m\u001b[38;5;241m.\u001b[39m_sslobj\u001b[38;5;241m.\u001b[39mread(\u001b[38;5;28mlen\u001b[39m, buffer)\n\u001b[1;32m   1105\u001b[0m     \u001b[38;5;28;01melse\u001b[39;00m:\n\u001b[0;32m-> 1106\u001b[0m         \u001b[38;5;28;01mreturn\u001b[39;00m \u001b[38;5;28;43mself\u001b[39;49m\u001b[38;5;241;43m.\u001b[39;49m\u001b[43m_sslobj\u001b[49m\u001b[38;5;241;43m.\u001b[39;49m\u001b[43mread\u001b[49m\u001b[43m(\u001b[49m\u001b[38;5;28;43mlen\u001b[39;49m\u001b[43m)\u001b[49m\n\u001b[1;32m   1107\u001b[0m \u001b[38;5;28;01mexcept\u001b[39;00m SSLError \u001b[38;5;28;01mas\u001b[39;00m x:\n\u001b[1;32m   1108\u001b[0m     \u001b[38;5;28;01mif\u001b[39;00m x\u001b[38;5;241m.\u001b[39margs[\u001b[38;5;241m0\u001b[39m] \u001b[38;5;241m==\u001b[39m SSL_ERROR_EOF \u001b[38;5;129;01mand\u001b[39;00m \u001b[38;5;28mself\u001b[39m\u001b[38;5;241m.\u001b[39msuppress_ragged_eofs:\n",
      "\u001b[0;31mKeyboardInterrupt\u001b[0m: "
     ]
    }
   ],
   "source": [
<<<<<<< HEAD
=======
>>>>>>> cc3f8a0 (Updating RAG code to use gpt-4o-mini model and calculate semantic similarity metrics for responses)
=======
>>>>>>> b026128 (Updated ChromaDB upload code to avoid overwritting entries and giving each entries a unique ID)
    "gpt_4o_finetuned_similarities = pd.DataFrame(eval_semantic_sim(gpt_4o_finetuned))"
   ]
  },
  {
   "cell_type": "code",
   "execution_count": null,
   "metadata": {},
   "outputs": [],
   "source": [
    "print(f\"Mean Similarity for GPT-4o Finetuned: {gpt_4o_finetuned_similarities['similarities'].mean()}\")\n",
    "print(f\"Standard Deviation Similarity for GPT-4o Finetuned: {gpt_4o_finetuned_similarities['similarities'].std()}\")"
   ]
  },
  {
   "cell_type": "code",
   "execution_count": null,
<<<<<<< HEAD
   "metadata": {},
   "outputs": [],
   "source": [
    "gpt_4o_base_similarities.to_csv('./Eval Results/gpt_4o_finetuned_similarities.csv', index=False)"
   ]
  },
  {
   "cell_type": "code",
   "execution_count": null,
=======
>>>>>>> cc3f8a0 (Updating RAG code to use gpt-4o-mini model and calculate semantic similarity metrics for responses)
   "metadata": {},
   "outputs": [],
   "source": [
    "gpt_4o_base_similarities.to_csv('./Eval Results/gpt_4o_finetuned_similarities.csv', index=False)"
   ]
  },
  {
   "cell_type": "code",
   "execution_count": null,
   "metadata": {},
   "outputs": [],
   "source": [
    "def evaluate_responses(dataset):\n",
    "    \"\"\"\n",
    "    Evaluate the RAG application responses against the evaluation dataset.\n",
    "    \n",
    "    Args:\n",
    "        dataset (list): List of dictionaries with 'input' and 'output' keys.\n",
    "        model_response_function (function): A function that takes an input and generates a response.\n",
    "        \n",
    "    Returns:\n",
    "        dict: A dictionary containing evaluation metrics.\n",
    "    \"\"\"\n",
    "    rouge = Rouge()\n",
    "    smoothing_function = SmoothingFunction().method1\n",
    "\n",
    "    exact_matches = []\n",
    "    bleu_scores = []\n",
    "    rouge_scores = {\"rouge-1\": [], \"rouge-2\": [], \"rouge-l\": []}\n",
    "\n",
    "    for qa in dataset:\n",
    "        time.sleep(10) #Try to avoid rate limiting\n",
    "        # Get input and expected output\n",
    "        input_text = qa[\"input\"]\n",
    "        expected_output = qa[\"output\"]\n",
    "\n",
    "        # Generate model response\n",
    "        generated_output = query(input_text)\n",
    "\n",
    "        # Exact Match\n",
    "        exact_matches.append(int(generated_output.strip() == expected_output.strip()))\n",
    "\n",
    "        # BLEU Score\n",
    "        bleu_score = sentence_bleu(\n",
    "            [expected_output.split()], generated_output.split(), smoothing_function=smoothing_function\n",
    "        )\n",
    "        bleu_scores.append(bleu_score)\n",
    "\n",
    "        # ROUGE Scores\n",
    "        rouge_score = rouge.get_scores(generated_output, expected_output, avg=True)\n",
    "        rouge_scores[\"rouge-1\"].append(rouge_score[\"rouge-1\"][\"f\"])\n",
    "        rouge_scores[\"rouge-2\"].append(rouge_score[\"rouge-2\"][\"f\"])\n",
    "        rouge_scores[\"rouge-l\"].append(rouge_score[\"rouge-l\"][\"f\"])\n",
    "\n",
    "    # Compute averages\n",
    "    metrics = {\n",
    "        \"Exact Match\": sum(exact_matches) / len(exact_matches),\n",
    "        \"BLEU\": sum(bleu_scores) / len(bleu_scores),\n",
    "        \"ROUGE-1\": sum(rouge_scores[\"rouge-1\"]) / len(rouge_scores[\"rouge-1\"]),\n",
    "        \"ROUGE-2\": sum(rouge_scores[\"rouge-2\"]) / len(rouge_scores[\"rouge-2\"]),\n",
    "        \"ROUGE-L\": sum(rouge_scores[\"rouge-l\"]) / len(rouge_scores[\"rouge-l\"]),\n",
    "    }\n",
    "\n",
    "    return metrics"
   ]
  },
  {
   "cell_type": "code",
   "execution_count": null,
   "metadata": {},
   "outputs": [],
   "source": [
    "evaluation_dataset_path = \"Fine Tuning Data/all_q_and_a_docs_final_v2.json\""
   ]
  },
  {
   "cell_type": "code",
   "execution_count": null,
   "metadata": {},
   "outputs": [],
   "source": [
    "with open(evaluation_dataset_path, \"r\") as f:\n",
    "    dataset = json.load(f)"
   ]
  },
  {
   "cell_type": "code",
   "execution_count": null,
   "metadata": {},
   "outputs": [
    {
     "ename": "ValueError",
     "evalue": "Cannot get the response text.\nCannot get the Candidate text.\nResponse candidate content has no parts (and thus no text). The candidate is likely blocked by the safety filters.\nContent:\n{}\nCandidate:\n{\n  \"finish_reason\": \"SAFETY\",\n  \"safety_ratings\": [\n    {\n      \"category\": \"HARM_CATEGORY_HATE_SPEECH\",\n      \"probability\": \"NEGLIGIBLE\",\n      \"probability_score\": 0.20019531,\n      \"severity\": \"HARM_SEVERITY_LOW\",\n      \"severity_score\": 0.23632812\n    },\n    {\n      \"category\": \"HARM_CATEGORY_DANGEROUS_CONTENT\",\n      \"probability\": \"MEDIUM\",\n      \"blocked\": true,\n      \"probability_score\": 0.75390625,\n      \"severity\": \"HARM_SEVERITY_MEDIUM\",\n      \"severity_score\": 0.43554688\n    },\n    {\n      \"category\": \"HARM_CATEGORY_HARASSMENT\",\n      \"probability\": \"NEGLIGIBLE\",\n      \"probability_score\": 0.27734375,\n      \"severity\": \"HARM_SEVERITY_LOW\",\n      \"severity_score\": 0.22949219\n    },\n    {\n      \"category\": \"HARM_CATEGORY_SEXUALLY_EXPLICIT\",\n      \"probability\": \"NEGLIGIBLE\",\n      \"probability_score\": 0.09033203,\n      \"severity\": \"HARM_SEVERITY_NEGLIGIBLE\",\n      \"severity_score\": 0.045410156\n    }\n  ]\n}\nResponse:\n{\n  \"candidates\": [\n    {\n      \"finish_reason\": \"SAFETY\",\n      \"safety_ratings\": [\n        {\n          \"category\": \"HARM_CATEGORY_HATE_SPEECH\",\n          \"probability\": \"NEGLIGIBLE\",\n          \"probability_score\": 0.20019531,\n          \"severity\": \"HARM_SEVERITY_LOW\",\n          \"severity_score\": 0.23632812\n        },\n        {\n          \"category\": \"HARM_CATEGORY_DANGEROUS_CONTENT\",\n          \"probability\": \"MEDIUM\",\n          \"blocked\": true,\n          \"probability_score\": 0.75390625,\n          \"severity\": \"HARM_SEVERITY_MEDIUM\",\n          \"severity_score\": 0.43554688\n        },\n        {\n          \"category\": \"HARM_CATEGORY_HARASSMENT\",\n          \"probability\": \"NEGLIGIBLE\",\n          \"probability_score\": 0.27734375,\n          \"severity\": \"HARM_SEVERITY_LOW\",\n          \"severity_score\": 0.22949219\n        },\n        {\n          \"category\": \"HARM_CATEGORY_SEXUALLY_EXPLICIT\",\n          \"probability\": \"NEGLIGIBLE\",\n          \"probability_score\": 0.09033203,\n          \"severity\": \"HARM_SEVERITY_NEGLIGIBLE\",\n          \"severity_score\": 0.045410156\n        }\n      ]\n    }\n  ],\n  \"usage_metadata\": {\n    \"prompt_token_count\": 564,\n    \"candidates_token_count\": 33,\n    \"total_token_count\": 597\n  },\n  \"model_version\": \"gemini-1.5-pro-001\"\n}",
     "output_type": "error",
     "traceback": [
      "\u001b[0;31m---------------------------------------------------------------------------\u001b[0m",
      "\u001b[0;31mValueError\u001b[0m                                Traceback (most recent call last)",
      "File \u001b[0;32m~/Documents/Columbia_Grad/LLM & DL System Performance/Project.nosync/COMS-6998-LLM-Final-Project/.venv/lib/python3.12/site-packages/vertexai/generative_models/_generative_models.py:2408\u001b[0m, in \u001b[0;36mCandidate.text\u001b[0;34m(self)\u001b[0m\n\u001b[1;32m   2407\u001b[0m \u001b[38;5;28;01mtry\u001b[39;00m:\n\u001b[0;32m-> 2408\u001b[0m     \u001b[38;5;28;01mreturn\u001b[39;00m \u001b[38;5;28;43mself\u001b[39;49m\u001b[38;5;241;43m.\u001b[39;49m\u001b[43mcontent\u001b[49m\u001b[38;5;241;43m.\u001b[39;49m\u001b[43mtext\u001b[49m\n\u001b[1;32m   2409\u001b[0m \u001b[38;5;28;01mexcept\u001b[39;00m (\u001b[38;5;167;01mValueError\u001b[39;00m, \u001b[38;5;167;01mAttributeError\u001b[39;00m) \u001b[38;5;28;01mas\u001b[39;00m e:\n\u001b[1;32m   2410\u001b[0m     \u001b[38;5;66;03m# Enrich the error message with the whole Candidate.\u001b[39;00m\n\u001b[1;32m   2411\u001b[0m     \u001b[38;5;66;03m# The Content object does not have full information.\u001b[39;00m\n",
      "File \u001b[0;32m~/Documents/Columbia_Grad/LLM & DL System Performance/Project.nosync/COMS-6998-LLM-Final-Project/.venv/lib/python3.12/site-packages/vertexai/generative_models/_generative_models.py:2486\u001b[0m, in \u001b[0;36mContent.text\u001b[0;34m(self)\u001b[0m\n\u001b[1;32m   2485\u001b[0m \u001b[38;5;28;01mif\u001b[39;00m \u001b[38;5;129;01mnot\u001b[39;00m \u001b[38;5;28mself\u001b[39m\u001b[38;5;241m.\u001b[39mparts:\n\u001b[0;32m-> 2486\u001b[0m     \u001b[38;5;28;01mraise\u001b[39;00m \u001b[38;5;167;01mValueError\u001b[39;00m(\n\u001b[1;32m   2487\u001b[0m         \u001b[38;5;124m\"\u001b[39m\u001b[38;5;124mResponse candidate content has no parts (and thus no text).\u001b[39m\u001b[38;5;124m\"\u001b[39m\n\u001b[1;32m   2488\u001b[0m         \u001b[38;5;124m\"\u001b[39m\u001b[38;5;124m The candidate is likely blocked by the safety filters.\u001b[39m\u001b[38;5;130;01m\\n\u001b[39;00m\u001b[38;5;124m\"\u001b[39m\n\u001b[1;32m   2489\u001b[0m         \u001b[38;5;124m\"\u001b[39m\u001b[38;5;124mContent:\u001b[39m\u001b[38;5;130;01m\\n\u001b[39;00m\u001b[38;5;124m\"\u001b[39m \u001b[38;5;241m+\u001b[39m _dict_to_pretty_string(\u001b[38;5;28mself\u001b[39m\u001b[38;5;241m.\u001b[39mto_dict())\n\u001b[1;32m   2490\u001b[0m     )\n\u001b[1;32m   2491\u001b[0m \u001b[38;5;28;01mreturn\u001b[39;00m \u001b[38;5;28mself\u001b[39m\u001b[38;5;241m.\u001b[39mparts[\u001b[38;5;241m0\u001b[39m]\u001b[38;5;241m.\u001b[39mtext\n",
      "\u001b[0;31mValueError\u001b[0m: Response candidate content has no parts (and thus no text). The candidate is likely blocked by the safety filters.\nContent:\n{}",
      "\nThe above exception was the direct cause of the following exception:\n",
      "\u001b[0;31mValueError\u001b[0m                                Traceback (most recent call last)",
      "File \u001b[0;32m~/Documents/Columbia_Grad/LLM & DL System Performance/Project.nosync/COMS-6998-LLM-Final-Project/.venv/lib/python3.12/site-packages/vertexai/generative_models/_generative_models.py:2319\u001b[0m, in \u001b[0;36mGenerationResponse.text\u001b[0;34m(self)\u001b[0m\n\u001b[1;32m   2318\u001b[0m \u001b[38;5;28;01mtry\u001b[39;00m:\n\u001b[0;32m-> 2319\u001b[0m     \u001b[38;5;28;01mreturn\u001b[39;00m \u001b[38;5;28;43mself\u001b[39;49m\u001b[38;5;241;43m.\u001b[39;49m\u001b[43mcandidates\u001b[49m\u001b[43m[\u001b[49m\u001b[38;5;241;43m0\u001b[39;49m\u001b[43m]\u001b[49m\u001b[38;5;241;43m.\u001b[39;49m\u001b[43mtext\u001b[49m\n\u001b[1;32m   2320\u001b[0m \u001b[38;5;28;01mexcept\u001b[39;00m (\u001b[38;5;167;01mValueError\u001b[39;00m, \u001b[38;5;167;01mAttributeError\u001b[39;00m) \u001b[38;5;28;01mas\u001b[39;00m e:\n\u001b[1;32m   2321\u001b[0m     \u001b[38;5;66;03m# Enrich the error message with the whole Response.\u001b[39;00m\n\u001b[1;32m   2322\u001b[0m     \u001b[38;5;66;03m# The Candidate object does not have full information.\u001b[39;00m\n",
      "File \u001b[0;32m~/Documents/Columbia_Grad/LLM & DL System Performance/Project.nosync/COMS-6998-LLM-Final-Project/.venv/lib/python3.12/site-packages/vertexai/generative_models/_generative_models.py:2412\u001b[0m, in \u001b[0;36mCandidate.text\u001b[0;34m(self)\u001b[0m\n\u001b[1;32m   2409\u001b[0m \u001b[38;5;28;01mexcept\u001b[39;00m (\u001b[38;5;167;01mValueError\u001b[39;00m, \u001b[38;5;167;01mAttributeError\u001b[39;00m) \u001b[38;5;28;01mas\u001b[39;00m e:\n\u001b[1;32m   2410\u001b[0m     \u001b[38;5;66;03m# Enrich the error message with the whole Candidate.\u001b[39;00m\n\u001b[1;32m   2411\u001b[0m     \u001b[38;5;66;03m# The Content object does not have full information.\u001b[39;00m\n\u001b[0;32m-> 2412\u001b[0m     \u001b[38;5;28;01mraise\u001b[39;00m \u001b[38;5;167;01mValueError\u001b[39;00m(\n\u001b[1;32m   2413\u001b[0m         \u001b[38;5;124m\"\u001b[39m\u001b[38;5;124mCannot get the Candidate text.\u001b[39m\u001b[38;5;130;01m\\n\u001b[39;00m\u001b[38;5;124m\"\u001b[39m\n\u001b[1;32m   2414\u001b[0m         \u001b[38;5;124mf\u001b[39m\u001b[38;5;124m\"\u001b[39m\u001b[38;5;132;01m{\u001b[39;00me\u001b[38;5;132;01m}\u001b[39;00m\u001b[38;5;130;01m\\n\u001b[39;00m\u001b[38;5;124m\"\u001b[39m\n\u001b[1;32m   2415\u001b[0m         \u001b[38;5;124m\"\u001b[39m\u001b[38;5;124mCandidate:\u001b[39m\u001b[38;5;130;01m\\n\u001b[39;00m\u001b[38;5;124m\"\u001b[39m \u001b[38;5;241m+\u001b[39m _dict_to_pretty_string(\u001b[38;5;28mself\u001b[39m\u001b[38;5;241m.\u001b[39mto_dict())\n\u001b[1;32m   2416\u001b[0m     ) \u001b[38;5;28;01mfrom\u001b[39;00m \u001b[38;5;21;01me\u001b[39;00m\n",
      "\u001b[0;31mValueError\u001b[0m: Cannot get the Candidate text.\nResponse candidate content has no parts (and thus no text). The candidate is likely blocked by the safety filters.\nContent:\n{}\nCandidate:\n{\n  \"finish_reason\": \"SAFETY\",\n  \"safety_ratings\": [\n    {\n      \"category\": \"HARM_CATEGORY_HATE_SPEECH\",\n      \"probability\": \"NEGLIGIBLE\",\n      \"probability_score\": 0.20019531,\n      \"severity\": \"HARM_SEVERITY_LOW\",\n      \"severity_score\": 0.23632812\n    },\n    {\n      \"category\": \"HARM_CATEGORY_DANGEROUS_CONTENT\",\n      \"probability\": \"MEDIUM\",\n      \"blocked\": true,\n      \"probability_score\": 0.75390625,\n      \"severity\": \"HARM_SEVERITY_MEDIUM\",\n      \"severity_score\": 0.43554688\n    },\n    {\n      \"category\": \"HARM_CATEGORY_HARASSMENT\",\n      \"probability\": \"NEGLIGIBLE\",\n      \"probability_score\": 0.27734375,\n      \"severity\": \"HARM_SEVERITY_LOW\",\n      \"severity_score\": 0.22949219\n    },\n    {\n      \"category\": \"HARM_CATEGORY_SEXUALLY_EXPLICIT\",\n      \"probability\": \"NEGLIGIBLE\",\n      \"probability_score\": 0.09033203,\n      \"severity\": \"HARM_SEVERITY_NEGLIGIBLE\",\n      \"severity_score\": 0.045410156\n    }\n  ]\n}",
      "\nThe above exception was the direct cause of the following exception:\n",
      "\u001b[0;31mValueError\u001b[0m                                Traceback (most recent call last)",
      "Cell \u001b[0;32mIn[82], line 1\u001b[0m\n\u001b[0;32m----> 1\u001b[0m metrics \u001b[38;5;241m=\u001b[39m \u001b[43mevaluate_responses\u001b[49m\u001b[43m(\u001b[49m\u001b[43mdataset\u001b[49m\u001b[43m)\u001b[49m\n",
      "Cell \u001b[0;32mIn[75], line 26\u001b[0m, in \u001b[0;36mevaluate_responses\u001b[0;34m(dataset)\u001b[0m\n\u001b[1;32m     23\u001b[0m expected_output \u001b[38;5;241m=\u001b[39m qa[\u001b[38;5;124m\"\u001b[39m\u001b[38;5;124moutput\u001b[39m\u001b[38;5;124m\"\u001b[39m]\n\u001b[1;32m     25\u001b[0m \u001b[38;5;66;03m# Generate model response\u001b[39;00m\n\u001b[0;32m---> 26\u001b[0m generated_output \u001b[38;5;241m=\u001b[39m \u001b[43mquery\u001b[49m\u001b[43m(\u001b[49m\u001b[43minput_text\u001b[49m\u001b[43m)\u001b[49m\n\u001b[1;32m     28\u001b[0m \u001b[38;5;66;03m# Exact Match\u001b[39;00m\n\u001b[1;32m     29\u001b[0m exact_matches\u001b[38;5;241m.\u001b[39mappend(\u001b[38;5;28mint\u001b[39m(generated_output\u001b[38;5;241m.\u001b[39mstrip() \u001b[38;5;241m==\u001b[39m expected_output\u001b[38;5;241m.\u001b[39mstrip()))\n",
      "Cell \u001b[0;32mIn[79], line 8\u001b[0m, in \u001b[0;36mquery\u001b[0;34m(question)\u001b[0m\n\u001b[1;32m      6\u001b[0m chat_session \u001b[38;5;241m=\u001b[39m gemini_model\u001b[38;5;241m.\u001b[39mstart_chat(response_validation\u001b[38;5;241m=\u001b[39m\u001b[38;5;28;01mFalse\u001b[39;00m)\n\u001b[1;32m      7\u001b[0m system_prompt \u001b[38;5;241m=\u001b[39m \u001b[38;5;124m\"\u001b[39m\u001b[38;5;124mYou are an LLM tutor for a Graduate Student taking a course in LLM and Deep Learning System Performance. The student asks you the following question: \u001b[39m\u001b[38;5;124m\"\u001b[39m\n\u001b[0;32m----> 8\u001b[0m response \u001b[38;5;241m=\u001b[39m \u001b[43mget_chat_response\u001b[49m\u001b[43m(\u001b[49m\u001b[43mchat_session\u001b[49m\u001b[43m,\u001b[49m\u001b[43m \u001b[49m\u001b[43msystem_prompt\u001b[49m\u001b[43m \u001b[49m\u001b[38;5;241;43m+\u001b[39;49m\u001b[43m  \u001b[49m\u001b[43mquestion\u001b[49m\u001b[43m \u001b[49m\u001b[38;5;241;43m+\u001b[39;49m\u001b[43m \u001b[49m\u001b[38;5;124;43m\"\u001b[39;49m\u001b[38;5;124;43m \u001b[39;49m\u001b[38;5;130;43;01m\\n\u001b[39;49;00m\u001b[38;5;130;43;01m\\n\u001b[39;49;00m\u001b[38;5;124;43mHere is context for answering the question:\u001b[39;49m\u001b[38;5;124;43m\"\u001b[39;49m\u001b[43m \u001b[49m\u001b[38;5;241;43m+\u001b[39;49m\u001b[43m \u001b[49m\u001b[43mretrieved_text\u001b[49m\u001b[43m \u001b[49m\u001b[38;5;241;43m+\u001b[39;49m\u001b[43m \u001b[49m\u001b[38;5;124;43m\"\u001b[39;49m\u001b[38;5;130;43;01m\\n\u001b[39;49;00m\u001b[38;5;130;43;01m\\n\u001b[39;49;00m\u001b[38;5;124;43mReturn only the answer to the student\u001b[39;49m\u001b[38;5;124;43m'\u001b[39;49m\u001b[38;5;124;43ms question.\u001b[39;49m\u001b[38;5;124;43m\"\u001b[39;49m\u001b[43m)\u001b[49m\n\u001b[1;32m      9\u001b[0m \u001b[38;5;28;01mreturn\u001b[39;00m response\n",
      "Cell \u001b[0;32mIn[70], line 7\u001b[0m, in \u001b[0;36mget_chat_response\u001b[0;34m(chat, prompt)\u001b[0m\n\u001b[1;32m      5\u001b[0m responses \u001b[38;5;241m=\u001b[39m chat\u001b[38;5;241m.\u001b[39msend_message(prompt, stream\u001b[38;5;241m=\u001b[39m\u001b[38;5;28;01mTrue\u001b[39;00m)\n\u001b[1;32m      6\u001b[0m \u001b[38;5;28;01mfor\u001b[39;00m chunk \u001b[38;5;129;01min\u001b[39;00m responses:\n\u001b[0;32m----> 7\u001b[0m     text_response\u001b[38;5;241m.\u001b[39mappend(\u001b[43mchunk\u001b[49m\u001b[38;5;241;43m.\u001b[39;49m\u001b[43mtext\u001b[49m)\n\u001b[1;32m      8\u001b[0m \u001b[38;5;28;01mreturn\u001b[39;00m \u001b[38;5;124m\"\u001b[39m\u001b[38;5;124m\"\u001b[39m\u001b[38;5;241m.\u001b[39mjoin(text_response)\n",
      "File \u001b[0;32m~/Documents/Columbia_Grad/LLM & DL System Performance/Project.nosync/COMS-6998-LLM-Final-Project/.venv/lib/python3.12/site-packages/vertexai/generative_models/_generative_models.py:2323\u001b[0m, in \u001b[0;36mGenerationResponse.text\u001b[0;34m(self)\u001b[0m\n\u001b[1;32m   2319\u001b[0m     \u001b[38;5;28;01mreturn\u001b[39;00m \u001b[38;5;28mself\u001b[39m\u001b[38;5;241m.\u001b[39mcandidates[\u001b[38;5;241m0\u001b[39m]\u001b[38;5;241m.\u001b[39mtext\n\u001b[1;32m   2320\u001b[0m \u001b[38;5;28;01mexcept\u001b[39;00m (\u001b[38;5;167;01mValueError\u001b[39;00m, \u001b[38;5;167;01mAttributeError\u001b[39;00m) \u001b[38;5;28;01mas\u001b[39;00m e:\n\u001b[1;32m   2321\u001b[0m     \u001b[38;5;66;03m# Enrich the error message with the whole Response.\u001b[39;00m\n\u001b[1;32m   2322\u001b[0m     \u001b[38;5;66;03m# The Candidate object does not have full information.\u001b[39;00m\n\u001b[0;32m-> 2323\u001b[0m     \u001b[38;5;28;01mraise\u001b[39;00m \u001b[38;5;167;01mValueError\u001b[39;00m(\n\u001b[1;32m   2324\u001b[0m         \u001b[38;5;124m\"\u001b[39m\u001b[38;5;124mCannot get the response text.\u001b[39m\u001b[38;5;130;01m\\n\u001b[39;00m\u001b[38;5;124m\"\u001b[39m\n\u001b[1;32m   2325\u001b[0m         \u001b[38;5;124mf\u001b[39m\u001b[38;5;124m\"\u001b[39m\u001b[38;5;132;01m{\u001b[39;00me\u001b[38;5;132;01m}\u001b[39;00m\u001b[38;5;130;01m\\n\u001b[39;00m\u001b[38;5;124m\"\u001b[39m\n\u001b[1;32m   2326\u001b[0m         \u001b[38;5;124m\"\u001b[39m\u001b[38;5;124mResponse:\u001b[39m\u001b[38;5;130;01m\\n\u001b[39;00m\u001b[38;5;124m\"\u001b[39m \u001b[38;5;241m+\u001b[39m _dict_to_pretty_string(\u001b[38;5;28mself\u001b[39m\u001b[38;5;241m.\u001b[39mto_dict())\n\u001b[1;32m   2327\u001b[0m     ) \u001b[38;5;28;01mfrom\u001b[39;00m \u001b[38;5;21;01me\u001b[39;00m\n",
      "\u001b[0;31mValueError\u001b[0m: Cannot get the response text.\nCannot get the Candidate text.\nResponse candidate content has no parts (and thus no text). The candidate is likely blocked by the safety filters.\nContent:\n{}\nCandidate:\n{\n  \"finish_reason\": \"SAFETY\",\n  \"safety_ratings\": [\n    {\n      \"category\": \"HARM_CATEGORY_HATE_SPEECH\",\n      \"probability\": \"NEGLIGIBLE\",\n      \"probability_score\": 0.20019531,\n      \"severity\": \"HARM_SEVERITY_LOW\",\n      \"severity_score\": 0.23632812\n    },\n    {\n      \"category\": \"HARM_CATEGORY_DANGEROUS_CONTENT\",\n      \"probability\": \"MEDIUM\",\n      \"blocked\": true,\n      \"probability_score\": 0.75390625,\n      \"severity\": \"HARM_SEVERITY_MEDIUM\",\n      \"severity_score\": 0.43554688\n    },\n    {\n      \"category\": \"HARM_CATEGORY_HARASSMENT\",\n      \"probability\": \"NEGLIGIBLE\",\n      \"probability_score\": 0.27734375,\n      \"severity\": \"HARM_SEVERITY_LOW\",\n      \"severity_score\": 0.22949219\n    },\n    {\n      \"category\": \"HARM_CATEGORY_SEXUALLY_EXPLICIT\",\n      \"probability\": \"NEGLIGIBLE\",\n      \"probability_score\": 0.09033203,\n      \"severity\": \"HARM_SEVERITY_NEGLIGIBLE\",\n      \"severity_score\": 0.045410156\n    }\n  ]\n}\nResponse:\n{\n  \"candidates\": [\n    {\n      \"finish_reason\": \"SAFETY\",\n      \"safety_ratings\": [\n        {\n          \"category\": \"HARM_CATEGORY_HATE_SPEECH\",\n          \"probability\": \"NEGLIGIBLE\",\n          \"probability_score\": 0.20019531,\n          \"severity\": \"HARM_SEVERITY_LOW\",\n          \"severity_score\": 0.23632812\n        },\n        {\n          \"category\": \"HARM_CATEGORY_DANGEROUS_CONTENT\",\n          \"probability\": \"MEDIUM\",\n          \"blocked\": true,\n          \"probability_score\": 0.75390625,\n          \"severity\": \"HARM_SEVERITY_MEDIUM\",\n          \"severity_score\": 0.43554688\n        },\n        {\n          \"category\": \"HARM_CATEGORY_HARASSMENT\",\n          \"probability\": \"NEGLIGIBLE\",\n          \"probability_score\": 0.27734375,\n          \"severity\": \"HARM_SEVERITY_LOW\",\n          \"severity_score\": 0.22949219\n        },\n        {\n          \"category\": \"HARM_CATEGORY_SEXUALLY_EXPLICIT\",\n          \"probability\": \"NEGLIGIBLE\",\n          \"probability_score\": 0.09033203,\n          \"severity\": \"HARM_SEVERITY_NEGLIGIBLE\",\n          \"severity_score\": 0.045410156\n        }\n      ]\n    }\n  ],\n  \"usage_metadata\": {\n    \"prompt_token_count\": 564,\n    \"candidates_token_count\": 33,\n    \"total_token_count\": 597\n  },\n  \"model_version\": \"gemini-1.5-pro-001\"\n}"
     ]
    }
   ],
   "source": [
    "metrics = evaluate_responses(dataset)"
   ]
  },
  {
   "cell_type": "code",
   "execution_count": null,
   "metadata": {},
   "outputs": [],
   "source": [
    "for metric, value in metrics.items():\n",
    "    print(f\"{metric}: {value:.4f}\")"
   ]
  }
 ],
 "metadata": {
  "kernelspec": {
   "display_name": ".venv",
   "language": "python",
   "name": "python3"
  },
  "language_info": {
   "codemirror_mode": {
    "name": "ipython",
    "version": 3
   },
   "file_extension": ".py",
   "mimetype": "text/x-python",
   "name": "python",
   "nbconvert_exporter": "python",
   "pygments_lexer": "ipython3",
   "version": "3.12.3"
  }
 },
 "nbformat": 4,
 "nbformat_minor": 2
}
